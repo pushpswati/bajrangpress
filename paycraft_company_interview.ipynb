{
 "cells": [
  {
   "cell_type": "code",
   "execution_count": 6,
   "metadata": {},
   "outputs": [
    {
     "name": "stdout",
     "output_type": "stream",
     "text": [
      "{1: [14, 0, 0, 2, 0]}\n",
      "{1: [14, 0, 0, 2, 0], 2: [14, 0, 0, 2, 0]}\n",
      "{1: [14, 0, 0, 2, 0], 2: [14, 0, 0, 2, 0], 4: [14, 0, 0, 2, 0]}\n"
     ]
    }
   ],
   "source": [
    "#1) Given an integer array, you have to separate all zero elements from non-zero elements.\n",
    "#You have to move zeros either to end of the array or bring them to beginning of the array. \n",
    "#For example, if {14, 0, 5, 2, 0, 3, 0} is the given array, then moving zeros to end of the array \n",
    "#will result {14, 5, 2, 3, 0, 0, 0} and bringing zeros to front will result {0, 0, 0, 14, 5, 2, 3}.\n",
    "\n",
    "\n",
    "listval=[14,0,0,2,5]\n",
    "confdict={}\n",
    "for i in range(len(listval)):\n",
    "    if listval[i]==0:\n",
    "        \n",
    "        listval[-1]=listval[i]\n",
    "        confdict[i]=listval\n",
    "        print(confdict)\n",
    "        \n",
    "        \n",
    "        \n",
    "        \n",
    "\n",
    "\n",
    "\n",
    "\n",
    "\n",
    "\n",
    "\n",
    "\n"
   ]
  },
  {
   "cell_type": "code",
   "execution_count": 25,
   "metadata": {},
   "outputs": [
    {
     "name": "stdout",
     "output_type": "stream",
     "text": [
      "None\n"
     ]
    }
   ],
   "source": [
    "listvar=[14, 0, 5, 2, 0, 3, 0]\n",
    "listzero=[]\n",
    "nonzero=[]\n",
    "for i in listvar:\n",
    "    if i==0:\n",
    "        listzero.append(i)\n",
    "    else:\n",
    "        nonzero.append(i)\n",
    "        \n",
    "print(nonzero.extend(listzero))        \n"
   ]
  },
  {
   "cell_type": "code",
   "execution_count": 26,
   "metadata": {},
   "outputs": [
    {
     "data": {
      "text/plain": [
       "[14, 5, 2, 3, 0, 0, 0]"
      ]
     },
     "execution_count": 26,
     "metadata": {},
     "output_type": "execute_result"
    }
   ],
   "source": [
    "nonzero"
   ]
  },
  {
   "cell_type": "code",
   "execution_count": 24,
   "metadata": {},
   "outputs": [
    {
     "data": {
      "text/plain": [
       "[0, 0, 0, 14, 5, 2, 3]"
      ]
     },
     "execution_count": 24,
     "metadata": {},
     "output_type": "execute_result"
    }
   ],
   "source": [
    "listzero"
   ]
  },
  {
   "cell_type": "code",
   "execution_count": null,
   "metadata": {},
   "outputs": [],
   "source": [
    "print()"
   ]
  },
  {
   "cell_type": "code",
   "execution_count": 37,
   "metadata": {},
   "outputs": [
    {
     "name": "stdout",
     "output_type": "stream",
     "text": [
      "enter the kth element here5\n",
      "swaping here\n",
      "[1, 1, 3, 4]\n",
      "swaping here\n",
      "[1, 1, 1, 4]\n",
      "swaping here\n",
      "[1, 1, 1, 1]\n"
     ]
    }
   ],
   "source": [
    "# find the kth largest element array\n",
    "k=int(input(\"enter the kth element here\"))\n",
    "\n",
    "listlarg=[1,2,3,4]\n",
    "for i in range(0,len(listlarg)):\n",
    "    if i==len(listlarg)-1:\n",
    "        break\n",
    "    if listlarg[i]>listlarg[i+1]:\n",
    "        listlarg[i]=listlarg[i+1]\n",
    "        print(\"no swaping\")\n",
    "    else:\n",
    "        listlarg[i+1]=listlarg[i]\n",
    "        print(\"swaping here\")\n",
    "    print(listlarg)\n",
    "\n",
    "\n"
   ]
  },
  {
   "cell_type": "code",
   "execution_count": 33,
   "metadata": {},
   "outputs": [
    {
     "data": {
      "text/plain": [
       "66"
      ]
     },
     "execution_count": 33,
     "metadata": {},
     "output_type": "execute_result"
    }
   ],
   "source": [
    "listq=[1,45,66,4,5]\n",
    "sortedvar=sorted(listq)\n",
    "sortedvar[-1]\n"
   ]
  },
  {
   "cell_type": "code",
   "execution_count": 40,
   "metadata": {},
   "outputs": [
    {
     "data": {
      "text/plain": [
       "83.78"
      ]
     },
     "execution_count": 40,
     "metadata": {},
     "output_type": "execute_result"
    }
   ],
   "source": [
    "4189.00*0.02\n"
   ]
  },
  {
   "cell_type": "code",
   "execution_count": 41,
   "metadata": {},
   "outputs": [
    {
     "data": {
      "text/plain": [
       "40979.82"
      ]
     },
     "execution_count": 41,
     "metadata": {},
     "output_type": "execute_result"
    }
   ],
   "source": [
    "6829.97*6"
   ]
  },
  {
   "cell_type": "code",
   "execution_count": 42,
   "metadata": {},
   "outputs": [
    {
     "data": {
      "text/plain": [
       "2527.8199999999997"
      ]
     },
     "execution_count": 42,
     "metadata": {},
     "output_type": "execute_result"
    }
   ],
   "source": [
    "40979.82-38452.00"
   ]
  },
  {
   "cell_type": "code",
   "execution_count": null,
   "metadata": {},
   "outputs": [],
   "source": []
  }
 ],
 "metadata": {
  "kernelspec": {
   "display_name": "Python 3",
   "language": "python",
   "name": "python3"
  },
  "language_info": {
   "codemirror_mode": {
    "name": "ipython",
    "version": 3
   },
   "file_extension": ".py",
   "mimetype": "text/x-python",
   "name": "python",
   "nbconvert_exporter": "python",
   "pygments_lexer": "ipython3",
   "version": "3.6.8"
  }
 },
 "nbformat": 4,
 "nbformat_minor": 2
}
