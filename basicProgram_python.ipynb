{
 "cells": [
  {
   "cell_type": "code",
   "execution_count": 26,
   "metadata": {},
   "outputs": [
    {
     "name": "stdout",
     "output_type": "stream",
     "text": [
      "num is prime\n"
     ]
    }
   ],
   "source": [
    "# prime number in python\n",
    "num=9\n",
    "if num>1 and num%num==0:\n",
    "    print(\"num is prime\")\n",
    "else:\n",
    "    print(\"num is not prime\")"
   ]
  },
  {
   "cell_type": "code",
   "execution_count": 107,
   "metadata": {},
   "outputs": [
    {
     "name": "stdout",
     "output_type": "stream",
     "text": [
      "2\n",
      "notprime 100\n",
      "None\n"
     ]
    }
   ],
   "source": [
    "# step one.......\n",
    "\n",
    "def primenumber(n):\n",
    "    \n",
    "    if(n>1):\n",
    "        for i in range(2,n):\n",
    "            print(i)\n",
    "            if (n % i)==0:\n",
    "                print(\"notprime\",n)\n",
    "        \n",
    "                break\n",
    "        if i == n-1:\n",
    "            print(\"Number is prime: \",n)\n",
    "            \n",
    "    return \n",
    "obj=primenumber(100)\n",
    "print(obj)\n",
    "    "
   ]
  },
  {
   "cell_type": "code",
   "execution_count": 93,
   "metadata": {
    "scrolled": true
   },
   "outputs": [],
   "source": [
    "# step one.......\n",
    "\n",
    "def primenumber(n):\n",
    "    \n",
    "    if(n>1):\n",
    "        for i in range(2,n):\n",
    "            print(i)\n",
    "            if (n % i)==0:\n",
    "                print(\"notprime\",n)\n",
    "        \n",
    "                break\n",
    "        if i == n-1:\n",
    "            print(\"Number is prime: \",n)\n",
    "            \n",
    "    return \n",
    "obj=primenumber(9)\n",
    "print(obj)\n",
    "    "
   ]
  },
  {
   "cell_type": "code",
   "execution_count": 119,
   "metadata": {},
   "outputs": [],
   "source": [
    "# step two........is_prime concept\n",
    "\n",
    "def primenumber(n):\n",
    "    is_prime=False\n",
    "    \n",
    "    if(n>1):\n",
    "        for i in range(2,n):\n",
    "            \n",
    "            if (n % i)==0:\n",
    "                break\n",
    "            if i == n-1:\n",
    "                is_prime=True\n",
    "    if is_prime:\n",
    "        return n\n",
    "    else:\n",
    "        return False\n",
    "\n",
    "    "
   ]
  },
  {
   "cell_type": "code",
   "execution_count": 135,
   "metadata": {},
   "outputs": [],
   "source": [
    "# step two........is_prime concept\n",
    "\n",
    "\n",
    "primelist=[]\n",
    "for o in range(2,100):\n",
    "    \n",
    "    result=primenumber(o)\n",
    "    if (result!=False):\n",
    "        primelist.append(result)\n"
   ]
  },
  {
   "cell_type": "code",
   "execution_count": 136,
   "metadata": {},
   "outputs": [
    {
     "data": {
      "text/plain": [
       "[3,\n",
       " 5,\n",
       " 7,\n",
       " 11,\n",
       " 13,\n",
       " 17,\n",
       " 19,\n",
       " 23,\n",
       " 29,\n",
       " 31,\n",
       " 37,\n",
       " 41,\n",
       " 43,\n",
       " 47,\n",
       " 53,\n",
       " 59,\n",
       " 61,\n",
       " 67,\n",
       " 71,\n",
       " 73,\n",
       " 79,\n",
       " 83,\n",
       " 89,\n",
       " 97]"
      ]
     },
     "execution_count": 136,
     "metadata": {},
     "output_type": "execute_result"
    }
   ],
   "source": [
    "primelist"
   ]
  },
  {
   "cell_type": "code",
   "execution_count": 106,
   "metadata": {},
   "outputs": [
    {
     "name": "stdout",
     "output_type": "stream",
     "text": [
      "2\n",
      "Number 100 is not prime\n"
     ]
    }
   ],
   "source": [
    "# step three........1 to 100 list\n",
    "\n",
    "def primenumber(n):\n",
    "    is_prime=False\n",
    "    primlist=[]\n",
    "    \n",
    "    if(n>1):\n",
    "        for i in range(2,100):\n",
    "            print(i)\n",
    "            if (n % i)==0:\n",
    "        \n",
    "                break\n",
    "        if i == n-1:\n",
    "            is_prime=True\n",
    "            result=primlist.append(n)\n",
    "            print(result)\n",
    "    if is_prime:\n",
    "        return \"Number is prime \".format()\n",
    "    else:\n",
    "        return \"Number {} is not prime\".format(n)\n",
    "    \n",
    "obj=primenumber(100)\n",
    "print(obj)\n",
    "    "
   ]
  },
  {
   "cell_type": "code",
   "execution_count": null,
   "metadata": {},
   "outputs": [],
   "source": []
  },
  {
   "cell_type": "code",
   "execution_count": 98,
   "metadata": {},
   "outputs": [
    {
     "name": "stdout",
     "output_type": "stream",
     "text": [
      "2\n",
      "3\n",
      "Number 9 is not prime\n"
     ]
    }
   ],
   "source": [
    "def add(a, b): \n",
    "  \n",
    "    # returning sum of a and b \n",
    "    return a + b \n",
    "obj=primenumber(9)\n",
    "print(obj)"
   ]
  },
  {
   "cell_type": "code",
   "execution_count": 80,
   "metadata": {},
   "outputs": [
    {
     "name": "stdout",
     "output_type": "stream",
     "text": [
      "geeksforgeeks\n",
      "20\n"
     ]
    }
   ],
   "source": [
    "class Test:  \n",
    "    def __init__(self):  \n",
    "        self.str = \"geeksforgeeks\"\n",
    "        self.x = 20   \n",
    "    \n",
    "# This function returns an object of Test  \n",
    "def fun():  \n",
    "    return Test()  # expression\n",
    "        \n",
    "\n",
    "t = fun()   \n",
    "print(t.str)  \n",
    "print(t.x) "
   ]
  },
  {
   "cell_type": "code",
   "execution_count": 86,
   "metadata": {},
   "outputs": [
    {
     "name": "stdout",
     "output_type": "stream",
     "text": [
      "{'str': 'GeeksforGeeks', 'x': 20}\n"
     ]
    }
   ],
   "source": [
    "def fun():  \n",
    "    d = dict();   \n",
    "    d['str'] = \"GeeksforGeeks\"\n",
    "    d['x']   = 20\n",
    "    return d  \n",
    "    \n",
    "\n",
    "d = fun()   \n",
    "print(d) "
   ]
  },
  {
   "cell_type": "code",
   "execution_count": 32,
   "metadata": {},
   "outputs": [
    {
     "name": "stdout",
     "output_type": "stream",
     "text": [
      "4 is not a prime number\n"
     ]
    }
   ],
   "source": [
    "num=4\n",
    "if num > 1:\n",
    " \n",
    "   for i in range(2,num):\n",
    "        if(num % i) == 0:\n",
    "            print(num,\"is not a prime number\")\n",
    "          \n",
    "            break\n",
    "        else:\n",
    "            print(num,\"is a prime number\")\n",
    "else:\n",
    "    print(num,\"is not a prime number\")"
   ]
  },
  {
   "cell_type": "code",
   "execution_count": 144,
   "metadata": {},
   "outputs": [
    {
     "name": "stdout",
     "output_type": "stream",
     "text": [
      "number10\n",
      "Fibbonacci sequence:\n",
      "0\n",
      "1\n",
      "1\n",
      "2\n",
      "3\n",
      "5\n",
      "8\n",
      "13\n",
      "21\n",
      "34\n"
     ]
    }
   ],
   "source": [
    "# fibonnacci ...\n",
    "\n",
    "nterms = int(input(\"number\"))\n",
    "n1=0\n",
    "n2=1\n",
    "count=0\n",
    "\n",
    "if nterms<=0:\n",
    "    print(\"please enter the positive number\")\n",
    "    \n",
    "elif nterms==1:\n",
    "    print(\"fibbonacci sequence upto\",nterms,\":\")\n",
    "    print(n1)\n",
    "    \n",
    "else:\n",
    "    print(\"Fibbonacci sequence:\")\n",
    "    while count<nterms:\n",
    "        print(n1)\n",
    "        nth=n1+n2\n",
    "        n1=n2\n",
    "        n2=nth\n",
    "        count +=1\n",
    "        \n",
    "   "
   ]
  },
  {
   "cell_type": "code",
   "execution_count": 154,
   "metadata": {},
   "outputs": [
    {
     "name": "stdout",
     "output_type": "stream",
     "text": [
      "# # # \n",
      "# # # \n",
      "# # # \n",
      "# # # \n"
     ]
    }
   ],
   "source": [
    "for i in range(0,4):\n",
    "    for j in range(0,3):\n",
    "        print(\"#\",end=\" \")\n",
    "    print()"
   ]
  },
  {
   "cell_type": "code",
   "execution_count": 159,
   "metadata": {},
   "outputs": [
    {
     "name": "stdout",
     "output_type": "stream",
     "text": [
      "\n",
      "\n",
      "# \n",
      "# # \n",
      "# # # \n"
     ]
    }
   ],
   "source": [
    "for i in range(0,5):\n",
    "    for j in range(0,i-1):\n",
    "        print(\"#\",end=\" \")\n",
    "    print()"
   ]
  },
  {
   "cell_type": "code",
   "execution_count": 160,
   "metadata": {},
   "outputs": [
    {
     "name": "stdout",
     "output_type": "stream",
     "text": [
      "# # # # \n",
      "# # # \n",
      "# # \n",
      "# \n"
     ]
    }
   ],
   "source": [
    "for i in range(0,4):\n",
    "    for j in range(0,4-i):\n",
    "        print(\"#\",end=\" \")\n",
    "    print()"
   ]
  },
  {
   "cell_type": "code",
   "execution_count": 168,
   "metadata": {},
   "outputs": [
    {
     "name": "stdout",
     "output_type": "stream",
     "text": [
      "0 1 2 3 \n",
      "  1 2 3 \n",
      "    2 3 \n",
      "      3 \n"
     ]
    }
   ],
   "source": [
    "for i in range(0,4):\n",
    "    for j in range(0,i):\n",
    "        print(\" \",end=\" \")\n",
    "    for k in range(i,4):\n",
    "        print(k,end=\" \")\n",
    "    print()"
   ]
  },
  {
   "cell_type": "code",
   "execution_count": null,
   "metadata": {},
   "outputs": [],
   "source": []
  }
 ],
 "metadata": {
  "kernelspec": {
   "display_name": "Python 3",
   "language": "python",
   "name": "python3"
  },
  "language_info": {
   "codemirror_mode": {
    "name": "ipython",
    "version": 3
   },
   "file_extension": ".py",
   "mimetype": "text/x-python",
   "name": "python",
   "nbconvert_exporter": "python",
   "pygments_lexer": "ipython3",
   "version": "3.6.8"
  }
 },
 "nbformat": 4,
 "nbformat_minor": 2
}
