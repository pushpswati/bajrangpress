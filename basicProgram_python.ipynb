{
 "cells": [
  {
   "cell_type": "markdown",
   "metadata": {},
   "source": [
    "# coding practice of interview "
   ]
  },
  {
   "cell_type": "code",
   "execution_count": null,
   "metadata": {},
   "outputs": [],
   "source": [
    "def Fi():\n",
    "    n=9\n",
    "    print(\"inside the function\",n,dir)\n",
    "    \n",
    "print(\"outside the variable\",dir)\n",
    "\n",
    "\n",
    "    "
   ]
  },
  {
   "cell_type": "markdown",
   "metadata": {},
   "source": [
    "##### sum of two number\n"
   ]
  },
  {
   "cell_type": "code",
   "execution_count": 23,
   "metadata": {},
   "outputs": [
    {
     "name": "stdout",
     "output_type": "stream",
     "text": [
      "14\n"
     ]
    },
    {
     "data": {
      "text/plain": [
       "14"
      ]
     },
     "execution_count": 23,
     "metadata": {},
     "output_type": "execute_result"
    }
   ],
   "source": [
    "class Twosum:\n",
    "    def sumtwolistelement(self,listsum):\n",
    "\n",
    "        countlistsum=0\n",
    "        for i in listsum:\n",
    "            countlistsum=countlistsum+i\n",
    "        print(countlistsum)\n",
    "        \n",
    "        return countlistsum\n",
    "    \n",
    "listsum=[2,3,5,4]    \n",
    "objtwosum=Twosum()\n",
    "\n",
    "objtwosum.sumtwolistelement(listsum)\n",
    "\n",
    "   "
   ]
  },
  {
   "cell_type": "code",
   "execution_count": null,
   "metadata": {},
   "outputs": [],
   "source": [
    "class Database:\n",
    "    def __init__(self):\n",
    "        #dbconnectioncode\n",
    "        pass\n",
    "    def insert(self):\n",
    "        pass\n",
    "    def select(self):\n",
    "        pass\n",
    "    def delet(self):\n",
    "        pass\n",
    "    def update(self):\n",
    "        pass\n",
    "objdatabase=Database()\n",
    "objdatabase.select()\n"
   ]
  },
  {
   "cell_type": "code",
   "execution_count": null,
   "metadata": {},
   "outputs": [],
   "source": [
    "# printing a table\n",
    "class Table:\n",
    "    \n",
    "    def tableof(self,num):\n",
    "        for i in range(1,11):\n",
    "            var=num*i\n",
    "            print(var)\n",
    "        \n",
    "        return var\n",
    "    \n",
    "num=int(input(\"enter the number\"))\n",
    "\n",
    "objtable=Table()\n",
    "#num=int(input(\"enter the number\"))\n",
    "objtable.tableof(num)\n",
    "        \n",
    "    \n",
    "        \n",
    "        \n",
    "        \n",
    "        \n",
    "\n"
   ]
  },
  {
   "cell_type": "code",
   "execution_count": null,
   "metadata": {},
   "outputs": [],
   "source": [
    "num=2\n",
    "for i in range(1,11):\n",
    "    var=num*i\n",
    "    print(var)"
   ]
  },
  {
   "cell_type": "code",
   "execution_count": 21,
   "metadata": {},
   "outputs": [
    {
     "name": "stdout",
     "output_type": "stream",
     "text": [
      "enter number for revese 781\n",
      "number is reverse 1\n",
      "number is reverse 18\n",
      "number is reverse 187\n"
     ]
    },
    {
     "data": {
      "text/plain": [
       "187"
      ]
     },
     "execution_count": 21,
     "metadata": {},
     "output_type": "execute_result"
    }
   ],
   "source": [
    "# Reverse number \n",
    "class Reverse:\n",
    "\n",
    "    \n",
    "\n",
    "    \n",
    "    def rev(self,numb):\n",
    "        revs=0\n",
    "        while(numb>0):\n",
    "            digi=numb%10\n",
    "            revs=revs*10+digi\n",
    "            numb=numb//10\n",
    "            print(\"number is reverse\",revs)\n",
    "        \n",
    "        return revs    \n",
    "\n",
    "            \n",
    "numb=int(input(\"enter number for revese\"))\n",
    "\n",
    "objReverse=Reverse()\n",
    "objReverse.rev(numb)\n",
    "\n",
    "                \n",
    "                "
   ]
  },
  {
   "cell_type": "code",
   "execution_count": 22,
   "metadata": {},
   "outputs": [
    {
     "name": "stdout",
     "output_type": "stream",
     "text": [
      "enter the num 567\n",
      "sum 7\n",
      "sum 13\n",
      "sum 18\n"
     ]
    },
    {
     "data": {
      "text/plain": [
       "18"
      ]
     },
     "execution_count": 22,
     "metadata": {},
     "output_type": "execute_result"
    }
   ],
   "source": [
    "# sum of this number\n",
    "class Sum:\n",
    "    def sum(self,nb):\n",
    "        snum=0\n",
    "        while(nb>0):\n",
    "            dig=nb%10\n",
    "            snum=snum+dig\n",
    "            nb=nb//10\n",
    "            print(\"sum\",snum)\n",
    "        return snum\n",
    "nb=int(input(\"enter the num\"))\n",
    "objSum=Sum()\n",
    "objSum.sum(nb)\n"
   ]
  },
  {
   "cell_type": "code",
   "execution_count": 10,
   "metadata": {},
   "outputs": [
    {
     "name": "stdout",
     "output_type": "stream",
     "text": [
      "enter the number0\n",
      "number is not less then 0 or negative\n"
     ]
    },
    {
     "data": {
      "text/plain": [
       "0"
      ]
     },
     "execution_count": 10,
     "metadata": {},
     "output_type": "execute_result"
    }
   ],
   "source": [
    "# prime number\n",
    "class Prime:\n",
    "    def pm(self,pnum):\n",
    "        \n",
    "        if(pnum>1):\n",
    "            for i in range(2,pnum):\n",
    "                if(pnum%i==0):\n",
    "                    print(\"number is not prime\",pnum) \n",
    "                    break\n",
    "                \n",
    "            if(i==pnum-1):\n",
    "                print(\"number is prime \",pnum)\n",
    "        else:\n",
    "            print(\"number is not less then 0 or negative\")\n",
    "        return pnum       \n",
    "       \n",
    "pnum=int(input(\"enter the number\"))\n",
    "\n",
    "objprime=Prime()\n",
    "objprime.pm(pnum)\n",
    "            "
   ]
  },
  {
   "cell_type": "code",
   "execution_count": 7,
   "metadata": {},
   "outputs": [
    {
     "name": "stdout",
     "output_type": "stream",
     "text": [
      "enter the palindrom number121\n",
      "number is palindrom\n"
     ]
    },
    {
     "data": {
      "text/plain": [
       "0"
      ]
     },
     "execution_count": 7,
     "metadata": {},
     "output_type": "execute_result"
    }
   ],
   "source": [
    "# palindrom\n",
    "class Palindrom:\n",
    "    def Palind(self,palnum):\n",
    "        pal=0\n",
    "        temp=palnum\n",
    "        while(palnum>0):\n",
    "            \n",
    "            digit = palnum%10\n",
    "            pal=pal*10+digit\n",
    "        \n",
    "            palnum=palnum//10\n",
    "        if(temp==pal):\n",
    "            print(\"number is palindrom\")\n",
    "        else: \n",
    "            print(\"not palindrom\")\n",
    "            \n",
    "        return palnum\n",
    "palnum=int(input(\"enter the palindrom number\"))\n",
    "objpalindrom=Palindrom()\n",
    "objpalindrom.Palind(palnum)\n",
    "        \n",
    "        "
   ]
  },
  {
   "cell_type": "code",
   "execution_count": 10,
   "metadata": {},
   "outputs": [
    {
     "name": "stdout",
     "output_type": "stream",
     "text": [
      "99\n"
     ]
    }
   ],
   "source": [
    "lista=[3,677,88,99]\n",
    "sortlist=sorted(lista)\n",
    "print(sortlist[-2])"
   ]
  },
  {
   "cell_type": "code",
   "execution_count": 48,
   "metadata": {},
   "outputs": [
    {
     "name": "stdout",
     "output_type": "stream",
     "text": [
      "enter the number6\n",
      "number is not perfact\n",
      "number is not perfact\n",
      "number is perfact\n",
      "number is perfact\n",
      "number is perfact\n"
     ]
    },
    {
     "data": {
      "text/plain": [
       "6"
      ]
     },
     "execution_count": 48,
     "metadata": {},
     "output_type": "execute_result"
    }
   ],
   "source": [
    "# perfact number\n",
    "class Perfact:\n",
    "    def pernum(self,penum):\n",
    "        perfactnum=0\n",
    "        if(penum>0):\n",
    "                for i in range(1,penum):\n",
    "                    if(penum%i==0):\n",
    "                        \n",
    "                        perfactnum=perfactnum+i\n",
    "                        \n",
    "                        \n",
    "                    if(perfactnum==penum):\n",
    "                        print(\"number is perfact\")\n",
    "                    else:\n",
    "                        print(\"number is not perfact\")\n",
    "                return perfactnum\n",
    "            \n",
    "penum=int(input(\"enter the number\"))\n",
    "objperfact=Perfact()\n",
    "objperfact.pernum(penum)"
   ]
  },
  {
   "cell_type": "code",
   "execution_count": 45,
   "metadata": {},
   "outputs": [
    {
     "name": "stdout",
     "output_type": "stream",
     "text": [
      "enter the number3\n",
      "1\n",
      "number is not perfact\n",
      "number is not perfact\n"
     ]
    }
   ],
   "source": [
    "numper=int(input(\"enter the number\"))\n",
    "sum1=0\n",
    "is_perfact=False\n",
    "for i in range(1,numper):\n",
    "    if (numper%i==0):\n",
    "        sum1=sum1+i\n",
    "        print(sum1)\n",
    "       \n",
    "    if (sum1==numper):\n",
    "        print(\"number is perfact\")\n",
    "        is_perfact=True\n",
    "    else:\n",
    "        print(\"number is not perfact\")\n",
    "        \n",
    "   "
   ]
  },
  {
   "cell_type": "code",
   "execution_count": null,
   "metadata": {},
   "outputs": [],
   "source": [
    "\n",
    "num= int(input(\"enter the number\"))\n",
    "sum1=0\n",
    "is_perfact=False\n",
    "\n",
    "\n",
    "for i in range(1,num):\n",
    "    \n",
    "    if(num%i==0):\n",
    "        sum1=sum1+i\n",
    "        print(sum1)\n",
    "    if(sum1==num):\n",
    "        print(\"number is perfact\")\n",
    "        is_perfact=True\n",
    "        "
   ]
  },
  {
   "cell_type": "code",
   "execution_count": 23,
   "metadata": {},
   "outputs": [
    {
     "name": "stdout",
     "output_type": "stream",
     "text": [
      "1\n",
      "2\n",
      "6\n",
      "24\n",
      "120\n"
     ]
    }
   ],
   "source": [
    "# factorial number\n",
    "fnum=5\n",
    "if(fnum>0):\n",
    "    fact=1\n",
    "    for i in range(1,fnum+1):\n",
    "        fact=fact*i\n",
    "        \n",
    "        \n",
    "        print(fact)"
   ]
  },
  {
   "cell_type": "markdown",
   "metadata": {},
   "source": [
    "# Decoratore in python:- "
   ]
  },
  {
   "cell_type": "code",
   "execution_count": null,
   "metadata": {},
   "outputs": [],
   "source": [
    "# decorator is a fucntion called decorate the functionality of fucntion means its take a fucntion as a argument \n",
    "# and change the behaviour of functionality of function."
   ]
  },
  {
   "cell_type": "code",
   "execution_count": 51,
   "metadata": {},
   "outputs": [
    {
     "ename": "TypeError",
     "evalue": "'NoneType' object is not callable",
     "output_type": "error",
     "traceback": [
      "\u001b[0;31m---------------------------------------------------------------------------\u001b[0m",
      "\u001b[0;31mTypeError\u001b[0m                                 Traceback (most recent call last)",
      "\u001b[0;32m<ipython-input-51-cce00bd2c457>\u001b[0m in \u001b[0;36m<module>\u001b[0;34m\u001b[0m\n\u001b[1;32m     14\u001b[0m \u001b[0;34m\u001b[0m\u001b[0m\n\u001b[1;32m     15\u001b[0m \u001b[0mobjhello_decorator\u001b[0m\u001b[0;34m=\u001b[0m\u001b[0mhello_decorator\u001b[0m\u001b[0;34m(\u001b[0m\u001b[0msum_of_two\u001b[0m\u001b[0;34m)\u001b[0m\u001b[0;34m\u001b[0m\u001b[0;34m\u001b[0m\u001b[0m\n\u001b[0;32m---> 16\u001b[0;31m \u001b[0mobjhello_decorator\u001b[0m\u001b[0;34m(\u001b[0m\u001b[0;36m2\u001b[0m\u001b[0;34m,\u001b[0m\u001b[0;36m3\u001b[0m\u001b[0;34m,\u001b[0m\u001b[0;36m7\u001b[0m\u001b[0;34m)\u001b[0m\u001b[0;34m\u001b[0m\u001b[0;34m\u001b[0m\u001b[0m\n\u001b[0m\u001b[1;32m     17\u001b[0m \u001b[0;34m\u001b[0m\u001b[0m\n",
      "\u001b[0;31mTypeError\u001b[0m: 'NoneType' object is not callable"
     ]
    }
   ],
   "source": [
    "# decorator \n",
    "def hello_decorator(func):\n",
    "    \n",
    "    def inner(*args,**kwargs):\n",
    "        print(\"inside the loop\")\n",
    "        \n",
    "        returend_value=func(*args,**kwargs)\n",
    "        return returend_value\n",
    "    \n",
    "@hello_decorator\n",
    "def sum_of_two(a,b,c=8):\n",
    "    print(\"sum of two numbers\")\n",
    "    return a+b+c\n",
    "\n",
    "objhello_decorator=hello_decorator(sum_of_two)\n",
    "objhello_decorator(2,3,7)\n",
    "        "
   ]
  },
  {
   "cell_type": "code",
   "execution_count": 59,
   "metadata": {},
   "outputs": [
    {
     "name": "stdout",
     "output_type": "stream",
     "text": [
      "Old\n",
      "sum :- None\n"
     ]
    }
   ],
   "source": [
    "def mk(x):\n",
    "    def mk1():\n",
    "        print(\"Decorated\")\n",
    "        x()\n",
    "    return mk1\n",
    "def mk2():\n",
    "    print(\"Old\")\n",
    "print(\"sum :-\",mk2())\n"
   ]
  },
  {
   "cell_type": "code",
   "execution_count": 58,
   "metadata": {},
   "outputs": [],
   "source": [
    "def mk(x):\n",
    "    def mk1():\n",
    "        print(\"deco mk1 fun\")\n",
    "        x()\n",
    "    return mk1\n",
    "@mk\n",
    "def mk2():\n",
    "    print(\"old\")\n",
    "    \n",
    "#obj=mk(mk2)\n",
    "# print(\"sum :-\",mk2())\n",
    "#obj()"
   ]
  },
  {
   "cell_type": "code",
   "execution_count": null,
   "metadata": {},
   "outputs": [],
   "source": []
  },
  {
   "cell_type": "code",
   "execution_count": null,
   "metadata": {},
   "outputs": [],
   "source": []
  },
  {
   "cell_type": "code",
   "execution_count": null,
   "metadata": {},
   "outputs": [],
   "source": []
  },
  {
   "cell_type": "code",
   "execution_count": null,
   "metadata": {},
   "outputs": [],
   "source": []
  },
  {
   "cell_type": "code",
   "execution_count": null,
   "metadata": {},
   "outputs": [],
   "source": []
  },
  {
   "cell_type": "code",
   "execution_count": null,
   "metadata": {},
   "outputs": [],
   "source": []
  },
  {
   "cell_type": "code",
   "execution_count": null,
   "metadata": {},
   "outputs": [],
   "source": []
  },
  {
   "cell_type": "code",
   "execution_count": null,
   "metadata": {},
   "outputs": [],
   "source": []
  },
  {
   "cell_type": "code",
   "execution_count": null,
   "metadata": {},
   "outputs": [],
   "source": []
  },
  {
   "cell_type": "code",
   "execution_count": null,
   "metadata": {},
   "outputs": [],
   "source": []
  },
  {
   "cell_type": "code",
   "execution_count": null,
   "metadata": {},
   "outputs": [],
   "source": [
    "# prime number in python\n",
    "num=9\n",
    "if num>1 and num%num==0:\n",
    "    print(\"num is prime\")\n",
    "else:\n",
    "    print(\"num is not prime\")"
   ]
  },
  {
   "cell_type": "code",
   "execution_count": null,
   "metadata": {},
   "outputs": [],
   "source": [
    "class Solution(object):\n",
    "    def twoSum(self, nums, target):\n",
    "        \"\"\"\n",
    "        :type nums: List[int]\n",
    "        :type target: int\n",
    "        :rtype: List[int]\n",
    "        \"\"\"\n",
    "        count=0\n",
    "        for i in nums:\n",
    "            count=count+i\n",
    "        print(count)\n",
    "        \n",
    "        return count  \n",
    "nums=[2,4]\n",
    "target=6      \n",
    "        \n",
    "         \n",
    "objtwosum=Solution()\n",
    "objtwosum.twoSum(nums,target)\n",
    "\n",
    "    \n",
    "    "
   ]
  },
  {
   "cell_type": "code",
   "execution_count": null,
   "metadata": {},
   "outputs": [],
   "source": [
    "numlist1=[2,3,4]\n",
    "numlist2=[5,6,7]\n",
    "count1=0\n",
    "count2=0\n",
    "for i in numlist1:\n",
    "    \n",
    "    for j in range(len(numlist2)):\n",
    "        count2=count2+[-i]\n",
    "        print(count2)\n",
    "        "
   ]
  },
  {
   "cell_type": "code",
   "execution_count": null,
   "metadata": {},
   "outputs": [],
   "source": []
  },
  {
   "cell_type": "code",
   "execution_count": null,
   "metadata": {},
   "outputs": [],
   "source": [
    "ll1=LinkedList()\n",
    "ll1.head = Node(l1[0])\n",
    "itr1 = ll1.head        for i in range(1,n1):\n",
    "            temp=Node(l1[i])\n",
    "            itr1.next=temp\n",
    "            itr1=itr1.next\n",
    "            \n",
    "        "
   ]
  },
  {
   "cell_type": "code",
   "execution_count": null,
   "metadata": {},
   "outputs": [],
   "source": [
    "numlist=[2,3,4,5]\n",
    "count=0\n",
    "for i in range(len(numlist)):\n",
    "    count=count+[-1]\n",
    "print(count)\n",
    "    "
   ]
  },
  {
   "cell_type": "code",
   "execution_count": null,
   "metadata": {},
   "outputs": [],
   "source": [
    "# step one.......\n",
    "\n",
    "def primenumber(n):\n",
    "    \n",
    "    if(n>1):\n",
    "        for i in range(2,n):\n",
    "            print(i)\n",
    "            if (n % i)==0:\n",
    "                print(\"notprime\",n)\n",
    "        \n",
    "                break\n",
    "        if i == n-1:\n",
    "            print(\"Number is prime: \",n)\n",
    "            \n",
    "    return \n",
    "obj=primenumber(100)\n",
    "print(obj)\n",
    "    "
   ]
  },
  {
   "cell_type": "code",
   "execution_count": null,
   "metadata": {
    "scrolled": true
   },
   "outputs": [],
   "source": [
    "# step one.......\n",
    "\n",
    "def primenumber(n):\n",
    "    \n",
    "    if(n>1):\n",
    "        for i in range(2,n):\n",
    "            print(i)\n",
    "            if (n % i)==0:\n",
    "                print(\"notprime\",n)\n",
    "        \n",
    "                break\n",
    "        if i == n-1:\n",
    "            print(\"Number is prime: \",n)\n",
    "            \n",
    "    return \n",
    "obj=primenumber(100)\n",
    "print(obj)\n",
    "    "
   ]
  },
  {
   "cell_type": "code",
   "execution_count": null,
   "metadata": {},
   "outputs": [],
   "source": [
    "# step two........is_prime concept\n",
    "\n",
    "def primenumber(n):\n",
    "    is_prime=False\n",
    "    \n",
    "    if(n>1):\n",
    "        for i in range(2,n):\n",
    "            \n",
    "            if (n % i)==0:\n",
    "                break\n",
    "            if i == n-1:\n",
    "                is_prime=True\n",
    "    if is_prime:\n",
    "        return n\n",
    "    else:\n",
    "        return False\n",
    "\n",
    "    "
   ]
  },
  {
   "cell_type": "code",
   "execution_count": null,
   "metadata": {},
   "outputs": [],
   "source": [
    "# step two........is_prime concept\n",
    "\n",
    "\n",
    "primelist=[]\n",
    "for o in range(2,100):\n",
    "    \n",
    "    result=primenumber(o)\n",
    "    if (result!=False):\n",
    "        primelist.append(result)\n"
   ]
  },
  {
   "cell_type": "code",
   "execution_count": null,
   "metadata": {},
   "outputs": [],
   "source": [
    "primelist"
   ]
  },
  {
   "cell_type": "code",
   "execution_count": null,
   "metadata": {},
   "outputs": [],
   "source": [
    "# step three........1 to 100 list\n",
    "\n",
    "def primenumber(n):\n",
    "    is_prime=False\n",
    "    primlist=[]\n",
    "    \n",
    "    if(n>1):\n",
    "        for i in range(2,199):\n",
    "            print(i)\n",
    "            if (n % i)==0:\n",
    "        \n",
    "                break\n",
    "        if i == n-1:\n",
    "            is_prime=True\n",
    "            result=primlist.append(n)\n",
    "            print(result)\n",
    "    if is_prime:\n",
    "        return \"Number is prime \".format()\n",
    "    else:\n",
    "        return \"Number {} is not prime\".format(n)\n",
    "    \n",
    "obj=primenumber(100)\n",
    "print(obj)\n",
    "    "
   ]
  },
  {
   "cell_type": "code",
   "execution_count": null,
   "metadata": {},
   "outputs": [],
   "source": []
  },
  {
   "cell_type": "code",
   "execution_count": null,
   "metadata": {},
   "outputs": [],
   "source": [
    "def add(a, b): \n",
    "  \n",
    "    # returning sum of a and b \n",
    "    return a + b \n",
    "obj=primenumber(9)\n",
    "print(obj)"
   ]
  },
  {
   "cell_type": "code",
   "execution_count": null,
   "metadata": {},
   "outputs": [],
   "source": [
    "class Test:  \n",
    "    def __init__(self):  \n",
    "        self.str = \"geeksforgeeks\"\n",
    "        self.x = 20   \n",
    "    \n",
    "# This function returns an object of Test  \n",
    "def fun():  \n",
    "    return Test()  # expression\n",
    "        \n",
    "\n",
    "t = fun()   \n",
    "print(t.str)  \n",
    "print(t.x) "
   ]
  },
  {
   "cell_type": "code",
   "execution_count": null,
   "metadata": {},
   "outputs": [],
   "source": [
    "def fun():  \n",
    "    d = dict();   \n",
    "    d['str'] = \"GeeksforGeeks\"\n",
    "    d['x']   = 20\n",
    "    return d  \n",
    "    \n",
    "\n",
    "d = fun()   \n",
    "print(d) "
   ]
  },
  {
   "cell_type": "code",
   "execution_count": null,
   "metadata": {},
   "outputs": [],
   "source": [
    "num=99\n",
    "if num > 1:\n",
    " \n",
    "   for i in range(2,num):\n",
    "        if(num % i) == 0:\n",
    "            print(num,\"is not a prime number\")\n",
    "          \n",
    "            break\n",
    "        else:\n",
    "            print(num,\"is a prime number\")\n",
    "else:\n",
    "    print(num,\"is not a prime number\")"
   ]
  },
  {
   "cell_type": "code",
   "execution_count": null,
   "metadata": {},
   "outputs": [],
   "source": [
    "# fibonnacci ...\n",
    "\n",
    "nterms = int(input(\"number\"))\n",
    "n1=0\n",
    "n2=1\n",
    "count=0\n",
    "\n",
    "if nterms<=0:\n",
    "    print(\"please enter the positive number\")\n",
    "    \n",
    "elif nterms==1:\n",
    "    print(\"fibbonacci sequence upto\",nterms,\":\")\n",
    "    print(n1)\n",
    "    \n",
    "else:\n",
    "    print(\"Fibbonacci sequence:\")\n",
    "    while count<nterms:\n",
    "        print(n1)\n",
    "        nth=n1+n2\n",
    "        n1=n2\n",
    "        n2=nth\n",
    "        count +=1\n",
    "        \n",
    "   "
   ]
  },
  {
   "cell_type": "code",
   "execution_count": null,
   "metadata": {},
   "outputs": [],
   "source": [
    "for i in range(0,4):\n",
    "    for j in range(0,3):\n",
    "        print(\"#\",end=\" \")\n",
    "    print()"
   ]
  },
  {
   "cell_type": "code",
   "execution_count": null,
   "metadata": {},
   "outputs": [],
   "source": [
    "for i in range(0,5):\n",
    "    for j in range(0,i-1):\n",
    "        print(\"#\",end=\" \")\n",
    "    print()"
   ]
  },
  {
   "cell_type": "code",
   "execution_count": null,
   "metadata": {},
   "outputs": [],
   "source": [
    "for i in range(0,4):\n",
    "    for j in range(0,4-i):\n",
    "        print(\"#\",end=\" \")\n",
    "    print()"
   ]
  },
  {
   "cell_type": "code",
   "execution_count": null,
   "metadata": {},
   "outputs": [],
   "source": [
    "for i in range(0,4):\n",
    "    for j in range(0,i):\n",
    "        print(\" \",end=\" \")\n",
    "    for k in range(i,4):\n",
    "        print(k,end=\" \")\n",
    "    print()"
   ]
  },
  {
   "cell_type": "markdown",
   "metadata": {},
   "source": [
    "# Genrator:"
   ]
  },
  {
   "cell_type": "code",
   "execution_count": null,
   "metadata": {},
   "outputs": [],
   "source": [
    "def genrator():\n",
    "    data_list=[2,3,3,4,54,5,6,6,67,5,34,34,4]\n",
    "    for data in data_list:\n",
    "        yield data"
   ]
  },
  {
   "cell_type": "code",
   "execution_count": null,
   "metadata": {},
   "outputs": [],
   "source": [
    "g=genrator()"
   ]
  },
  {
   "cell_type": "code",
   "execution_count": null,
   "metadata": {},
   "outputs": [],
   "source": [
    "next(g)"
   ]
  },
  {
   "cell_type": "code",
   "execution_count": null,
   "metadata": {},
   "outputs": [],
   "source": [
    "def genrator():\n",
    "    dict={\"key1\":\"value1\",\"key2\":\"value2\"}\n",
    "    for i in dict:\n",
    "        yield i"
   ]
  },
  {
   "cell_type": "code",
   "execution_count": null,
   "metadata": {},
   "outputs": [],
   "source": [
    "genew=genrator()"
   ]
  },
  {
   "cell_type": "code",
   "execution_count": null,
   "metadata": {},
   "outputs": [],
   "source": [
    "next(genew)"
   ]
  },
  {
   "cell_type": "code",
   "execution_count": null,
   "metadata": {},
   "outputs": [],
   "source": [
    "def hello_decorator(func): \n",
    "    def inner1(*args, **kwargs): \n",
    "          \n",
    "        print(\"before Execution\") \n",
    "          \n",
    "        # getting the returned value \n",
    "        returned_value = func(*args, **kwargs) \n",
    "        print(\"after Execution\") \n",
    "          \n",
    "        # returning the value to the original frame \n",
    "        return returned_value \n",
    "          \n",
    "    return inner1 \n",
    "  \n",
    "  \n",
    "# adding decorator to the function \n",
    "@hello_decorator\n",
    "def sum_two_numbers(a, b): \n",
    "    print(\"Inside the function\") \n",
    "    return a + b \n",
    "  \n",
    "a, b = 1, 2\n",
    "  \n",
    "# getting the value through return of the function \n",
    "print(\"Sum =\", sum_two_numbers(a, b)) "
   ]
  },
  {
   "cell_type": "code",
   "execution_count": null,
   "metadata": {},
   "outputs": [],
   "source": [
    "def hello_decorator(func):\n",
    "    def inner1(a,b):\n",
    "        print(\"before execution\")\n",
    "        \n",
    "        returned_value=func(a,b)\n",
    "        print(\"after\")\n",
    "        \n",
    "        return returned_value\n",
    "    \n",
    "    return inner1\n",
    "        \n",
    "@hello_decorator\n",
    "def sum_two_number(a,b):\n",
    "    print(\"inside the func\")\n",
    "    return a+b\n",
    "\n",
    "a,b =1,2\n",
    "\n",
    "print(\"sum =\",sum_two_number(a,b))\n",
    "        \n",
    "        \n",
    "        \n",
    "        \n",
    "        \n",
    "        "
   ]
  },
  {
   "cell_type": "code",
   "execution_count": null,
   "metadata": {},
   "outputs": [],
   "source": [
    "\n",
    "# sum of the number\n",
    "num=2345777\n",
    "sum=0\n",
    "while(num>0):\n",
    "    digit=num%10\n",
    "    sum=sum+digit\n",
    "    num=num//10\n",
    "print(sum)"
   ]
  },
  {
   "cell_type": "code",
   "execution_count": null,
   "metadata": {},
   "outputs": [],
   "source": [
    "# prime number\n",
    "num=97\n",
    "if num>1:\n",
    "    for i in range(2,num):\n",
    "        if num%i==0:\n",
    "            print(\"number is not prime\")\n",
    "            break\n",
    "    if(i==num-1):\n",
    "        print(\"number is prime\")\n",
    "else:\n",
    "    print(\"number is not prime\")\n",
    "        "
   ]
  },
  {
   "cell_type": "code",
   "execution_count": null,
   "metadata": {},
   "outputs": [],
   "source": [
    "#table2\n",
    "tablenum=int(input(\"enter the number\"))\n",
    "\n",
    "for i in range(1,10+1):\n",
    "    tablenum1=i*tablenum\n",
    "    print(tablenum1)\n",
    "    \n"
   ]
  },
  {
   "cell_type": "code",
   "execution_count": null,
   "metadata": {},
   "outputs": [],
   "source": [
    "lista=[21,32,46,57,68]\n",
    "listresult=sorted(lista)\n",
    "print(listresult[-2])"
   ]
  },
  {
   "cell_type": "code",
   "execution_count": null,
   "metadata": {},
   "outputs": [],
   "source": [
    "def factorial(num):\n",
    "    if(num>0):\n",
    "        fact=1\n",
    "        for i in range(1,num+1):\n",
    "            fact=fact*i\n",
    "        return fact\n",
    "    \n",
    "factbj=factorial(5)\n",
    "print(factbj)\n",
    "            "
   ]
  },
  {
   "cell_type": "code",
   "execution_count": null,
   "metadata": {},
   "outputs": [],
   "source": []
  }
 ],
 "metadata": {
  "kernelspec": {
   "display_name": "Python 3",
   "language": "python",
   "name": "python3"
  },
  "language_info": {
   "codemirror_mode": {
    "name": "ipython",
    "version": 3
   },
   "file_extension": ".py",
   "mimetype": "text/x-python",
   "name": "python",
   "nbconvert_exporter": "python",
   "pygments_lexer": "ipython3",
   "version": "3.6.8"
  }
 },
 "nbformat": 4,
 "nbformat_minor": 2
}
