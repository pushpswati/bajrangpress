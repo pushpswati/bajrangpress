{
 "cells": [
  {
   "cell_type": "markdown",
   "metadata": {},
   "source": [
    "# Class and object "
   ]
  },
  {
   "cell_type": "code",
   "execution_count": 5,
   "metadata": {},
   "outputs": [
    {
     "name": "stdout",
     "output_type": "stream",
     "text": [
      "car2---\n"
     ]
    }
   ],
   "source": [
    "class Car1():\n",
    "    def __init__(self):\n",
    "        pass\n",
    "    def show(self):\n",
    "        print(\"car1---\")\n",
    "\n",
    "class Car2(Car1):\n",
    "    def __init__(self):\n",
    "        pass\n",
    "    def show(self):\n",
    "        print(\"car2---\")\n",
    "car1=Car2()\n",
    "car1.show()\n",
    "        "
   ]
  },
  {
   "cell_type": "code",
   "execution_count": null,
   "metadata": {},
   "outputs": [],
   "source": [
    "class Car1():\n",
    "    def __init__(self):\n",
    "        pass\n",
    "    def show(self):\n",
    "        print(\"car1---\")"
   ]
  }
 ],
 "metadata": {
  "kernelspec": {
   "display_name": "Python 3",
   "language": "python",
   "name": "python3"
  },
  "language_info": {
   "codemirror_mode": {
    "name": "ipython",
    "version": 3
   },
   "file_extension": ".py",
   "mimetype": "text/x-python",
   "name": "python",
   "nbconvert_exporter": "python",
   "pygments_lexer": "ipython3",
   "version": "3.6.8"
  }
 },
 "nbformat": 4,
 "nbformat_minor": 2
}
