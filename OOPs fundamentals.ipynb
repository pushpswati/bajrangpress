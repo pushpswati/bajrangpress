{
 "cells": [
  {
   "cell_type": "markdown",
   "metadata": {},
   "source": [
    "# Class and object "
   ]
  },
  {
   "cell_type": "code",
   "execution_count": null,
   "metadata": {},
   "outputs": [],
   "source": []
  },
  {
   "cell_type": "code",
   "execution_count": null,
   "metadata": {},
   "outputs": [],
   "source": []
  },
  {
   "cell_type": "code",
   "execution_count": null,
   "metadata": {},
   "outputs": [],
   "source": []
  },
  {
   "cell_type": "code",
   "execution_count": 6,
   "metadata": {},
   "outputs": [
    {
     "name": "stdout",
     "output_type": "stream",
     "text": [
      "car2--- 7\n"
     ]
    }
   ],
   "source": [
    "class Car1():\n",
    "    def __init__(self):\n",
    "        pass\n",
    "    def show(self,b=6):\n",
    "        print(\"car1---\")\n",
    "\n",
    "class Car2(Car1):\n",
    "    def __init__(self):\n",
    "        pass\n",
    "    def show(self,a=4):\n",
    "        print(\"car2---\",a)\n",
    "u=7\n",
    "car1=Car2()\n",
    "car1.show(a=u)\n",
    "        "
   ]
  },
  {
   "cell_type": "markdown",
   "metadata": {},
   "source": [
    "# method overriding..."
   ]
  },
  {
   "cell_type": "code",
   "execution_count": null,
   "metadata": {},
   "outputs": [],
   "source": [
    "class Car1():\n",
    "    def __init__(self):\n",
    "        pass\n",
    "    def show(self,b=6):\n",
    "        print(\"car1---\")\n",
    "\n",
    "class Car2(Car1):\n",
    "    def __init__(self,a):\n",
    "        pass\n",
    "    def show(self,a=3):\n",
    "        print(\"car2---\")\n",
    "a=6        \n",
    "car1=Car2(3)\n",
    "car1.show()\n",
    "        "
   ]
  },
  {
   "cell_type": "code",
   "execution_count": null,
   "metadata": {},
   "outputs": [],
   "source": [
    "class Car1():\n",
    "    def __init__(self):\n",
    "        pass\n",
    "    def show(self):\n",
    "        print(\"car1---\")"
   ]
  },
  {
   "cell_type": "code",
   "execution_count": null,
   "metadata": {},
   "outputs": [],
   "source": [
    "class Car1():\n",
    "    def__init__(self):\n",
    "        pass\n",
    "    def show(self):\n",
    "        print(\"swatiiii\")\n",
    "class Car2(Car1):\n",
    "    def__init__(self):\n",
    "        pass\n",
    "    def show(self):\n",
    "        print(\"car2__\")\n",
    "car1=Car2()\n",
    "car1.show()"
   ]
  },
  {
   "cell_type": "code",
   "execution_count": null,
   "metadata": {},
   "outputs": [],
   "source": []
  },
  {
   "cell_type": "code",
   "execution_count": null,
   "metadata": {},
   "outputs": [],
   "source": []
  }
 ],
 "metadata": {
  "kernelspec": {
   "display_name": "Python 3",
   "language": "python",
   "name": "python3"
  },
  "language_info": {
   "codemirror_mode": {
    "name": "ipython",
    "version": 3
   },
   "file_extension": ".py",
   "mimetype": "text/x-python",
   "name": "python",
   "nbconvert_exporter": "python",
   "pygments_lexer": "ipython3",
   "version": "3.6.8"
  }
 },
 "nbformat": 4,
 "nbformat_minor": 2
}
