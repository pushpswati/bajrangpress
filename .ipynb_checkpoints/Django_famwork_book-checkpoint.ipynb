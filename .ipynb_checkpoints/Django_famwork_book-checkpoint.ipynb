{
 "cells": [
  {
   "cell_type": "code",
   "execution_count": 1,
   "metadata": {},
   "outputs": [],
   "source": [
    "a=[1,2,3,4,5,6]\n",
    "a.insert(2,77)"
   ]
  },
  {
   "cell_type": "code",
   "execution_count": 315,
   "metadata": {},
   "outputs": [
    {
     "name": "stdout",
     "output_type": "stream",
     "text": [
      "{'totalConfirmed': 2848712, 'totalDeaths': 198063, 'totalRecovered': 812094, 'totalNewCases': 19886, 'totalNewDeaths': 964, 'totalActiveCases': 1838555, 'totalCasesPerMillionPop': 366, 'created': '2020-04-25T12:30:11.000Z'}\n"
     ]
    }
   ],
   "source": [
    "import requests\n",
    "\n",
    "URL=\"https://api.coronatracker.com/v3/stats/worldometer/global\"\n",
    "\n",
    "\n",
    "\n",
    "r=requests.get(url=URL)\n",
    "data=r.json()\n",
    "print(data)"
   ]
  },
  {
   "cell_type": "code",
   "execution_count": 322,
   "metadata": {},
   "outputs": [
    {
     "ename": "ConnectionError",
     "evalue": "HTTPConnectionPool(host='34.206.109.62', port=8000): Max retries exceeded with url: /globaldata/ (Caused by NewConnectionError('<urllib3.connection.HTTPConnection object at 0x7fa7baa520f0>: Failed to establish a new connection: [Errno 111] Connection refused',))",
     "output_type": "error",
     "traceback": [
      "\u001b[0;31m---------------------------------------------------------------------------\u001b[0m",
      "\u001b[0;31mConnectionRefusedError\u001b[0m                    Traceback (most recent call last)",
      "\u001b[0;32m~/.virtualenvs/almondaiEnv/lib/python3.6/site-packages/urllib3/connection.py\u001b[0m in \u001b[0;36m_new_conn\u001b[0;34m(self)\u001b[0m\n\u001b[1;32m    156\u001b[0m             conn = connection.create_connection(\n\u001b[0;32m--> 157\u001b[0;31m                 \u001b[0;34m(\u001b[0m\u001b[0mself\u001b[0m\u001b[0;34m.\u001b[0m\u001b[0m_dns_host\u001b[0m\u001b[0;34m,\u001b[0m \u001b[0mself\u001b[0m\u001b[0;34m.\u001b[0m\u001b[0mport\u001b[0m\u001b[0;34m)\u001b[0m\u001b[0;34m,\u001b[0m \u001b[0mself\u001b[0m\u001b[0;34m.\u001b[0m\u001b[0mtimeout\u001b[0m\u001b[0;34m,\u001b[0m \u001b[0;34m**\u001b[0m\u001b[0mextra_kw\u001b[0m\u001b[0;34m\u001b[0m\u001b[0;34m\u001b[0m\u001b[0m\n\u001b[0m\u001b[1;32m    158\u001b[0m             )\n",
      "\u001b[0;32m~/.virtualenvs/almondaiEnv/lib/python3.6/site-packages/urllib3/util/connection.py\u001b[0m in \u001b[0;36mcreate_connection\u001b[0;34m(address, timeout, source_address, socket_options)\u001b[0m\n\u001b[1;32m     83\u001b[0m     \u001b[0;32mif\u001b[0m \u001b[0merr\u001b[0m \u001b[0;32mis\u001b[0m \u001b[0;32mnot\u001b[0m \u001b[0;32mNone\u001b[0m\u001b[0;34m:\u001b[0m\u001b[0;34m\u001b[0m\u001b[0;34m\u001b[0m\u001b[0m\n\u001b[0;32m---> 84\u001b[0;31m         \u001b[0;32mraise\u001b[0m \u001b[0merr\u001b[0m\u001b[0;34m\u001b[0m\u001b[0;34m\u001b[0m\u001b[0m\n\u001b[0m\u001b[1;32m     85\u001b[0m \u001b[0;34m\u001b[0m\u001b[0m\n",
      "\u001b[0;32m~/.virtualenvs/almondaiEnv/lib/python3.6/site-packages/urllib3/util/connection.py\u001b[0m in \u001b[0;36mcreate_connection\u001b[0;34m(address, timeout, source_address, socket_options)\u001b[0m\n\u001b[1;32m     73\u001b[0m                 \u001b[0msock\u001b[0m\u001b[0;34m.\u001b[0m\u001b[0mbind\u001b[0m\u001b[0;34m(\u001b[0m\u001b[0msource_address\u001b[0m\u001b[0;34m)\u001b[0m\u001b[0;34m\u001b[0m\u001b[0;34m\u001b[0m\u001b[0m\n\u001b[0;32m---> 74\u001b[0;31m             \u001b[0msock\u001b[0m\u001b[0;34m.\u001b[0m\u001b[0mconnect\u001b[0m\u001b[0;34m(\u001b[0m\u001b[0msa\u001b[0m\u001b[0;34m)\u001b[0m\u001b[0;34m\u001b[0m\u001b[0;34m\u001b[0m\u001b[0m\n\u001b[0m\u001b[1;32m     75\u001b[0m             \u001b[0;32mreturn\u001b[0m \u001b[0msock\u001b[0m\u001b[0;34m\u001b[0m\u001b[0;34m\u001b[0m\u001b[0m\n",
      "\u001b[0;31mConnectionRefusedError\u001b[0m: [Errno 111] Connection refused",
      "\nDuring handling of the above exception, another exception occurred:\n",
      "\u001b[0;31mNewConnectionError\u001b[0m                        Traceback (most recent call last)",
      "\u001b[0;32m~/.virtualenvs/almondaiEnv/lib/python3.6/site-packages/urllib3/connectionpool.py\u001b[0m in \u001b[0;36murlopen\u001b[0;34m(self, method, url, body, headers, retries, redirect, assert_same_host, timeout, pool_timeout, release_conn, chunked, body_pos, **response_kw)\u001b[0m\n\u001b[1;32m    671\u001b[0m                 \u001b[0mheaders\u001b[0m\u001b[0;34m=\u001b[0m\u001b[0mheaders\u001b[0m\u001b[0;34m,\u001b[0m\u001b[0;34m\u001b[0m\u001b[0;34m\u001b[0m\u001b[0m\n\u001b[0;32m--> 672\u001b[0;31m                 \u001b[0mchunked\u001b[0m\u001b[0;34m=\u001b[0m\u001b[0mchunked\u001b[0m\u001b[0;34m,\u001b[0m\u001b[0;34m\u001b[0m\u001b[0;34m\u001b[0m\u001b[0m\n\u001b[0m\u001b[1;32m    673\u001b[0m             )\n",
      "\u001b[0;32m~/.virtualenvs/almondaiEnv/lib/python3.6/site-packages/urllib3/connectionpool.py\u001b[0m in \u001b[0;36m_make_request\u001b[0;34m(self, conn, method, url, timeout, chunked, **httplib_request_kw)\u001b[0m\n\u001b[1;32m    386\u001b[0m         \u001b[0;32melse\u001b[0m\u001b[0;34m:\u001b[0m\u001b[0;34m\u001b[0m\u001b[0;34m\u001b[0m\u001b[0m\n\u001b[0;32m--> 387\u001b[0;31m             \u001b[0mconn\u001b[0m\u001b[0;34m.\u001b[0m\u001b[0mrequest\u001b[0m\u001b[0;34m(\u001b[0m\u001b[0mmethod\u001b[0m\u001b[0;34m,\u001b[0m \u001b[0murl\u001b[0m\u001b[0;34m,\u001b[0m \u001b[0;34m**\u001b[0m\u001b[0mhttplib_request_kw\u001b[0m\u001b[0;34m)\u001b[0m\u001b[0;34m\u001b[0m\u001b[0;34m\u001b[0m\u001b[0m\n\u001b[0m\u001b[1;32m    388\u001b[0m \u001b[0;34m\u001b[0m\u001b[0m\n",
      "\u001b[0;32m/usr/lib/python3.6/http/client.py\u001b[0m in \u001b[0;36mrequest\u001b[0;34m(self, method, url, body, headers, encode_chunked)\u001b[0m\n\u001b[1;32m   1253\u001b[0m         \u001b[0mrequest\u001b[0m\u001b[0;34m.\u001b[0m\u001b[0;34m\u001b[0m\u001b[0;34m\u001b[0m\u001b[0m\n\u001b[0;32m-> 1254\u001b[0;31m         \"\"\"\n\u001b[0m\u001b[1;32m   1255\u001b[0m         \u001b[0;32mif\u001b[0m \u001b[0mself\u001b[0m\u001b[0;34m.\u001b[0m\u001b[0m__state\u001b[0m \u001b[0;34m==\u001b[0m \u001b[0m_CS_REQ_STARTED\u001b[0m\u001b[0;34m:\u001b[0m\u001b[0;34m\u001b[0m\u001b[0;34m\u001b[0m\u001b[0m\n",
      "\u001b[0;32m/usr/lib/python3.6/http/client.py\u001b[0m in \u001b[0;36m_send_request\u001b[0;34m(self, method, url, body, headers, encode_chunked)\u001b[0m\n\u001b[1;32m   1299\u001b[0m                 \u001b[0;32melse\u001b[0m\u001b[0;34m:\u001b[0m\u001b[0;34m\u001b[0m\u001b[0;34m\u001b[0m\u001b[0m\n\u001b[0;32m-> 1300\u001b[0;31m                     \u001b[0mself\u001b[0m\u001b[0;34m.\u001b[0m\u001b[0mputheader\u001b[0m\u001b[0;34m(\u001b[0m\u001b[0;34m'Content-Length'\u001b[0m\u001b[0;34m,\u001b[0m \u001b[0mstr\u001b[0m\u001b[0;34m(\u001b[0m\u001b[0mcontent_length\u001b[0m\u001b[0;34m)\u001b[0m\u001b[0;34m)\u001b[0m\u001b[0;34m\u001b[0m\u001b[0;34m\u001b[0m\u001b[0m\n\u001b[0m\u001b[1;32m   1301\u001b[0m         \u001b[0;32melse\u001b[0m\u001b[0;34m:\u001b[0m\u001b[0;34m\u001b[0m\u001b[0;34m\u001b[0m\u001b[0m\n",
      "\u001b[0;32m/usr/lib/python3.6/http/client.py\u001b[0m in \u001b[0;36mendheaders\u001b[0;34m(self, message_body, encode_chunked)\u001b[0m\n\u001b[1;32m   1248\u001b[0m     \u001b[0;32mdef\u001b[0m \u001b[0mendheaders\u001b[0m\u001b[0;34m(\u001b[0m\u001b[0mself\u001b[0m\u001b[0;34m,\u001b[0m \u001b[0mmessage_body\u001b[0m\u001b[0;34m=\u001b[0m\u001b[0;32mNone\u001b[0m\u001b[0;34m,\u001b[0m \u001b[0;34m*\u001b[0m\u001b[0;34m,\u001b[0m \u001b[0mencode_chunked\u001b[0m\u001b[0;34m=\u001b[0m\u001b[0;32mFalse\u001b[0m\u001b[0;34m)\u001b[0m\u001b[0;34m:\u001b[0m\u001b[0;34m\u001b[0m\u001b[0;34m\u001b[0m\u001b[0m\n\u001b[0;32m-> 1249\u001b[0;31m         \"\"\"Indicate that the last header line has been sent to the server.\n\u001b[0m\u001b[1;32m   1250\u001b[0m \u001b[0;34m\u001b[0m\u001b[0m\n",
      "\u001b[0;32m/usr/lib/python3.6/http/client.py\u001b[0m in \u001b[0;36m_send_output\u001b[0;34m(self, message_body, encode_chunked)\u001b[0m\n\u001b[1;32m   1035\u001b[0m         \u001b[0mself\u001b[0m\u001b[0;34m.\u001b[0m\u001b[0m_buffer\u001b[0m\u001b[0;34m.\u001b[0m\u001b[0mextend\u001b[0m\u001b[0;34m(\u001b[0m\u001b[0;34m(\u001b[0m\u001b[0;34mb\"\"\u001b[0m\u001b[0;34m,\u001b[0m \u001b[0;34mb\"\"\u001b[0m\u001b[0;34m)\u001b[0m\u001b[0;34m)\u001b[0m\u001b[0;34m\u001b[0m\u001b[0;34m\u001b[0m\u001b[0m\n\u001b[0;32m-> 1036\u001b[0;31m         \u001b[0mmsg\u001b[0m \u001b[0;34m=\u001b[0m \u001b[0;34mb\"\\r\\n\"\u001b[0m\u001b[0;34m.\u001b[0m\u001b[0mjoin\u001b[0m\u001b[0;34m(\u001b[0m\u001b[0mself\u001b[0m\u001b[0;34m.\u001b[0m\u001b[0m_buffer\u001b[0m\u001b[0;34m)\u001b[0m\u001b[0;34m\u001b[0m\u001b[0;34m\u001b[0m\u001b[0m\n\u001b[0m\u001b[1;32m   1037\u001b[0m         \u001b[0;32mdel\u001b[0m \u001b[0mself\u001b[0m\u001b[0;34m.\u001b[0m\u001b[0m_buffer\u001b[0m\u001b[0;34m[\u001b[0m\u001b[0;34m:\u001b[0m\u001b[0;34m]\u001b[0m\u001b[0;34m\u001b[0m\u001b[0;34m\u001b[0m\u001b[0m\n",
      "\u001b[0;32m/usr/lib/python3.6/http/client.py\u001b[0m in \u001b[0;36msend\u001b[0;34m(self, data)\u001b[0m\n\u001b[1;32m    973\u001b[0m \u001b[0;34m\u001b[0m\u001b[0m\n\u001b[0;32m--> 974\u001b[0;31m         \u001b[0;32mif\u001b[0m \u001b[0mself\u001b[0m\u001b[0;34m.\u001b[0m\u001b[0msock\u001b[0m \u001b[0;32mis\u001b[0m \u001b[0;32mNone\u001b[0m\u001b[0;34m:\u001b[0m\u001b[0;34m\u001b[0m\u001b[0;34m\u001b[0m\u001b[0m\n\u001b[0m\u001b[1;32m    975\u001b[0m             \u001b[0;32mif\u001b[0m \u001b[0mself\u001b[0m\u001b[0;34m.\u001b[0m\u001b[0mauto_open\u001b[0m\u001b[0;34m:\u001b[0m\u001b[0;34m\u001b[0m\u001b[0;34m\u001b[0m\u001b[0m\n",
      "\u001b[0;32m~/.virtualenvs/almondaiEnv/lib/python3.6/site-packages/urllib3/connection.py\u001b[0m in \u001b[0;36mconnect\u001b[0;34m(self)\u001b[0m\n\u001b[1;32m    183\u001b[0m     \u001b[0;32mdef\u001b[0m \u001b[0mconnect\u001b[0m\u001b[0;34m(\u001b[0m\u001b[0mself\u001b[0m\u001b[0;34m)\u001b[0m\u001b[0;34m:\u001b[0m\u001b[0;34m\u001b[0m\u001b[0;34m\u001b[0m\u001b[0m\n\u001b[0;32m--> 184\u001b[0;31m         \u001b[0mconn\u001b[0m \u001b[0;34m=\u001b[0m \u001b[0mself\u001b[0m\u001b[0;34m.\u001b[0m\u001b[0m_new_conn\u001b[0m\u001b[0;34m(\u001b[0m\u001b[0;34m)\u001b[0m\u001b[0;34m\u001b[0m\u001b[0;34m\u001b[0m\u001b[0m\n\u001b[0m\u001b[1;32m    185\u001b[0m         \u001b[0mself\u001b[0m\u001b[0;34m.\u001b[0m\u001b[0m_prepare_conn\u001b[0m\u001b[0;34m(\u001b[0m\u001b[0mconn\u001b[0m\u001b[0;34m)\u001b[0m\u001b[0;34m\u001b[0m\u001b[0;34m\u001b[0m\u001b[0m\n",
      "\u001b[0;32m~/.virtualenvs/almondaiEnv/lib/python3.6/site-packages/urllib3/connection.py\u001b[0m in \u001b[0;36m_new_conn\u001b[0;34m(self)\u001b[0m\n\u001b[1;32m    168\u001b[0m             raise NewConnectionError(\n\u001b[0;32m--> 169\u001b[0;31m                 \u001b[0mself\u001b[0m\u001b[0;34m,\u001b[0m \u001b[0;34m\"Failed to establish a new connection: %s\"\u001b[0m \u001b[0;34m%\u001b[0m \u001b[0me\u001b[0m\u001b[0;34m\u001b[0m\u001b[0;34m\u001b[0m\u001b[0m\n\u001b[0m\u001b[1;32m    170\u001b[0m             )\n",
      "\u001b[0;31mNewConnectionError\u001b[0m: <urllib3.connection.HTTPConnection object at 0x7fa7baa520f0>: Failed to establish a new connection: [Errno 111] Connection refused",
      "\nDuring handling of the above exception, another exception occurred:\n",
      "\u001b[0;31mMaxRetryError\u001b[0m                             Traceback (most recent call last)",
      "\u001b[0;32m~/.virtualenvs/almondaiEnv/lib/python3.6/site-packages/requests/adapters.py\u001b[0m in \u001b[0;36msend\u001b[0;34m(self, request, stream, timeout, verify, cert, proxies)\u001b[0m\n\u001b[1;32m    448\u001b[0m                     \u001b[0mretries\u001b[0m\u001b[0;34m=\u001b[0m\u001b[0mself\u001b[0m\u001b[0;34m.\u001b[0m\u001b[0mmax_retries\u001b[0m\u001b[0;34m,\u001b[0m\u001b[0;34m\u001b[0m\u001b[0;34m\u001b[0m\u001b[0m\n\u001b[0;32m--> 449\u001b[0;31m                     \u001b[0mtimeout\u001b[0m\u001b[0;34m=\u001b[0m\u001b[0mtimeout\u001b[0m\u001b[0;34m\u001b[0m\u001b[0;34m\u001b[0m\u001b[0m\n\u001b[0m\u001b[1;32m    450\u001b[0m                 )\n",
      "\u001b[0;32m~/.virtualenvs/almondaiEnv/lib/python3.6/site-packages/urllib3/connectionpool.py\u001b[0m in \u001b[0;36murlopen\u001b[0;34m(self, method, url, body, headers, retries, redirect, assert_same_host, timeout, pool_timeout, release_conn, chunked, body_pos, **response_kw)\u001b[0m\n\u001b[1;32m    719\u001b[0m             retries = retries.increment(\n\u001b[0;32m--> 720\u001b[0;31m                 \u001b[0mmethod\u001b[0m\u001b[0;34m,\u001b[0m \u001b[0murl\u001b[0m\u001b[0;34m,\u001b[0m \u001b[0merror\u001b[0m\u001b[0;34m=\u001b[0m\u001b[0me\u001b[0m\u001b[0;34m,\u001b[0m \u001b[0m_pool\u001b[0m\u001b[0;34m=\u001b[0m\u001b[0mself\u001b[0m\u001b[0;34m,\u001b[0m \u001b[0m_stacktrace\u001b[0m\u001b[0;34m=\u001b[0m\u001b[0msys\u001b[0m\u001b[0;34m.\u001b[0m\u001b[0mexc_info\u001b[0m\u001b[0;34m(\u001b[0m\u001b[0;34m)\u001b[0m\u001b[0;34m[\u001b[0m\u001b[0;36m2\u001b[0m\u001b[0;34m]\u001b[0m\u001b[0;34m\u001b[0m\u001b[0;34m\u001b[0m\u001b[0m\n\u001b[0m\u001b[1;32m    721\u001b[0m             )\n",
      "\u001b[0;32m~/.virtualenvs/almondaiEnv/lib/python3.6/site-packages/urllib3/util/retry.py\u001b[0m in \u001b[0;36mincrement\u001b[0;34m(self, method, url, response, error, _pool, _stacktrace)\u001b[0m\n\u001b[1;32m    435\u001b[0m         \u001b[0;32mif\u001b[0m \u001b[0mnew_retry\u001b[0m\u001b[0;34m.\u001b[0m\u001b[0mis_exhausted\u001b[0m\u001b[0;34m(\u001b[0m\u001b[0;34m)\u001b[0m\u001b[0;34m:\u001b[0m\u001b[0;34m\u001b[0m\u001b[0;34m\u001b[0m\u001b[0m\n\u001b[0;32m--> 436\u001b[0;31m             \u001b[0;32mraise\u001b[0m \u001b[0mMaxRetryError\u001b[0m\u001b[0;34m(\u001b[0m\u001b[0m_pool\u001b[0m\u001b[0;34m,\u001b[0m \u001b[0murl\u001b[0m\u001b[0;34m,\u001b[0m \u001b[0merror\u001b[0m \u001b[0;32mor\u001b[0m \u001b[0mResponseError\u001b[0m\u001b[0;34m(\u001b[0m\u001b[0mcause\u001b[0m\u001b[0;34m)\u001b[0m\u001b[0;34m)\u001b[0m\u001b[0;34m\u001b[0m\u001b[0;34m\u001b[0m\u001b[0m\n\u001b[0m\u001b[1;32m    437\u001b[0m \u001b[0;34m\u001b[0m\u001b[0m\n",
      "\u001b[0;31mMaxRetryError\u001b[0m: HTTPConnectionPool(host='34.206.109.62', port=8000): Max retries exceeded with url: /globaldata/ (Caused by NewConnectionError('<urllib3.connection.HTTPConnection object at 0x7fa7baa520f0>: Failed to establish a new connection: [Errno 111] Connection refused',))",
      "\nDuring handling of the above exception, another exception occurred:\n",
      "\u001b[0;31mConnectionError\u001b[0m                           Traceback (most recent call last)",
      "\u001b[0;32m<ipython-input-322-42d79a5995b3>\u001b[0m in \u001b[0;36m<module>\u001b[0;34m\u001b[0m\n\u001b[1;32m      3\u001b[0m \u001b[0;34m\u001b[0m\u001b[0m\n\u001b[1;32m      4\u001b[0m \u001b[0;34m\u001b[0m\u001b[0m\n\u001b[0;32m----> 5\u001b[0;31m \u001b[0mr\u001b[0m \u001b[0;34m=\u001b[0m \u001b[0mrequests\u001b[0m\u001b[0;34m.\u001b[0m\u001b[0mpost\u001b[0m\u001b[0;34m(\u001b[0m\u001b[0murl\u001b[0m \u001b[0;34m=\u001b[0m \u001b[0mAPI_ENDPOINT\u001b[0m\u001b[0;34m,\u001b[0m\u001b[0mdata\u001b[0m\u001b[0;34m=\u001b[0m\u001b[0mdata\u001b[0m\u001b[0;34m)\u001b[0m\u001b[0;34m\u001b[0m\u001b[0;34m\u001b[0m\u001b[0m\n\u001b[0m\u001b[1;32m      6\u001b[0m \u001b[0;34m\u001b[0m\u001b[0m\n\u001b[1;32m      7\u001b[0m      \u001b[0;31m# extracting response text\u001b[0m\u001b[0;34m\u001b[0m\u001b[0;34m\u001b[0m\u001b[0;34m\u001b[0m\u001b[0m\n",
      "\u001b[0;32m~/.virtualenvs/almondaiEnv/lib/python3.6/site-packages/requests/api.py\u001b[0m in \u001b[0;36mpost\u001b[0;34m(url, data, json, **kwargs)\u001b[0m\n\u001b[1;32m    117\u001b[0m     \"\"\"\n\u001b[1;32m    118\u001b[0m \u001b[0;34m\u001b[0m\u001b[0m\n\u001b[0;32m--> 119\u001b[0;31m     \u001b[0;32mreturn\u001b[0m \u001b[0mrequest\u001b[0m\u001b[0;34m(\u001b[0m\u001b[0;34m'post'\u001b[0m\u001b[0;34m,\u001b[0m \u001b[0murl\u001b[0m\u001b[0;34m,\u001b[0m \u001b[0mdata\u001b[0m\u001b[0;34m=\u001b[0m\u001b[0mdata\u001b[0m\u001b[0;34m,\u001b[0m \u001b[0mjson\u001b[0m\u001b[0;34m=\u001b[0m\u001b[0mjson\u001b[0m\u001b[0;34m,\u001b[0m \u001b[0;34m**\u001b[0m\u001b[0mkwargs\u001b[0m\u001b[0;34m)\u001b[0m\u001b[0;34m\u001b[0m\u001b[0;34m\u001b[0m\u001b[0m\n\u001b[0m\u001b[1;32m    120\u001b[0m \u001b[0;34m\u001b[0m\u001b[0m\n\u001b[1;32m    121\u001b[0m \u001b[0;34m\u001b[0m\u001b[0m\n",
      "\u001b[0;32m~/.virtualenvs/almondaiEnv/lib/python3.6/site-packages/requests/api.py\u001b[0m in \u001b[0;36mrequest\u001b[0;34m(method, url, **kwargs)\u001b[0m\n\u001b[1;32m     59\u001b[0m     \u001b[0;31m# cases, and look like a memory leak in others.\u001b[0m\u001b[0;34m\u001b[0m\u001b[0;34m\u001b[0m\u001b[0;34m\u001b[0m\u001b[0m\n\u001b[1;32m     60\u001b[0m     \u001b[0;32mwith\u001b[0m \u001b[0msessions\u001b[0m\u001b[0;34m.\u001b[0m\u001b[0mSession\u001b[0m\u001b[0;34m(\u001b[0m\u001b[0;34m)\u001b[0m \u001b[0;32mas\u001b[0m \u001b[0msession\u001b[0m\u001b[0;34m:\u001b[0m\u001b[0;34m\u001b[0m\u001b[0;34m\u001b[0m\u001b[0m\n\u001b[0;32m---> 61\u001b[0;31m         \u001b[0;32mreturn\u001b[0m \u001b[0msession\u001b[0m\u001b[0;34m.\u001b[0m\u001b[0mrequest\u001b[0m\u001b[0;34m(\u001b[0m\u001b[0mmethod\u001b[0m\u001b[0;34m=\u001b[0m\u001b[0mmethod\u001b[0m\u001b[0;34m,\u001b[0m \u001b[0murl\u001b[0m\u001b[0;34m=\u001b[0m\u001b[0murl\u001b[0m\u001b[0;34m,\u001b[0m \u001b[0;34m**\u001b[0m\u001b[0mkwargs\u001b[0m\u001b[0;34m)\u001b[0m\u001b[0;34m\u001b[0m\u001b[0;34m\u001b[0m\u001b[0m\n\u001b[0m\u001b[1;32m     62\u001b[0m \u001b[0;34m\u001b[0m\u001b[0m\n\u001b[1;32m     63\u001b[0m \u001b[0;34m\u001b[0m\u001b[0m\n",
      "\u001b[0;32m~/.virtualenvs/almondaiEnv/lib/python3.6/site-packages/requests/sessions.py\u001b[0m in \u001b[0;36mrequest\u001b[0;34m(self, method, url, params, data, headers, cookies, files, auth, timeout, allow_redirects, proxies, hooks, stream, verify, cert, json)\u001b[0m\n\u001b[1;32m    528\u001b[0m         }\n\u001b[1;32m    529\u001b[0m         \u001b[0msend_kwargs\u001b[0m\u001b[0;34m.\u001b[0m\u001b[0mupdate\u001b[0m\u001b[0;34m(\u001b[0m\u001b[0msettings\u001b[0m\u001b[0;34m)\u001b[0m\u001b[0;34m\u001b[0m\u001b[0;34m\u001b[0m\u001b[0m\n\u001b[0;32m--> 530\u001b[0;31m         \u001b[0mresp\u001b[0m \u001b[0;34m=\u001b[0m \u001b[0mself\u001b[0m\u001b[0;34m.\u001b[0m\u001b[0msend\u001b[0m\u001b[0;34m(\u001b[0m\u001b[0mprep\u001b[0m\u001b[0;34m,\u001b[0m \u001b[0;34m**\u001b[0m\u001b[0msend_kwargs\u001b[0m\u001b[0;34m)\u001b[0m\u001b[0;34m\u001b[0m\u001b[0;34m\u001b[0m\u001b[0m\n\u001b[0m\u001b[1;32m    531\u001b[0m \u001b[0;34m\u001b[0m\u001b[0m\n\u001b[1;32m    532\u001b[0m         \u001b[0;32mreturn\u001b[0m \u001b[0mresp\u001b[0m\u001b[0;34m\u001b[0m\u001b[0;34m\u001b[0m\u001b[0m\n",
      "\u001b[0;32m~/.virtualenvs/almondaiEnv/lib/python3.6/site-packages/requests/sessions.py\u001b[0m in \u001b[0;36msend\u001b[0;34m(self, request, **kwargs)\u001b[0m\n\u001b[1;32m    641\u001b[0m \u001b[0;34m\u001b[0m\u001b[0m\n\u001b[1;32m    642\u001b[0m         \u001b[0;31m# Send the request\u001b[0m\u001b[0;34m\u001b[0m\u001b[0;34m\u001b[0m\u001b[0;34m\u001b[0m\u001b[0m\n\u001b[0;32m--> 643\u001b[0;31m         \u001b[0mr\u001b[0m \u001b[0;34m=\u001b[0m \u001b[0madapter\u001b[0m\u001b[0;34m.\u001b[0m\u001b[0msend\u001b[0m\u001b[0;34m(\u001b[0m\u001b[0mrequest\u001b[0m\u001b[0;34m,\u001b[0m \u001b[0;34m**\u001b[0m\u001b[0mkwargs\u001b[0m\u001b[0;34m)\u001b[0m\u001b[0;34m\u001b[0m\u001b[0;34m\u001b[0m\u001b[0m\n\u001b[0m\u001b[1;32m    644\u001b[0m \u001b[0;34m\u001b[0m\u001b[0m\n\u001b[1;32m    645\u001b[0m         \u001b[0;31m# Total elapsed time of the request (approximately)\u001b[0m\u001b[0;34m\u001b[0m\u001b[0;34m\u001b[0m\u001b[0;34m\u001b[0m\u001b[0m\n",
      "\u001b[0;32m~/.virtualenvs/almondaiEnv/lib/python3.6/site-packages/requests/adapters.py\u001b[0m in \u001b[0;36msend\u001b[0;34m(self, request, stream, timeout, verify, cert, proxies)\u001b[0m\n\u001b[1;32m    514\u001b[0m                 \u001b[0;32mraise\u001b[0m \u001b[0mSSLError\u001b[0m\u001b[0;34m(\u001b[0m\u001b[0me\u001b[0m\u001b[0;34m,\u001b[0m \u001b[0mrequest\u001b[0m\u001b[0;34m=\u001b[0m\u001b[0mrequest\u001b[0m\u001b[0;34m)\u001b[0m\u001b[0;34m\u001b[0m\u001b[0;34m\u001b[0m\u001b[0m\n\u001b[1;32m    515\u001b[0m \u001b[0;34m\u001b[0m\u001b[0m\n\u001b[0;32m--> 516\u001b[0;31m             \u001b[0;32mraise\u001b[0m \u001b[0mConnectionError\u001b[0m\u001b[0;34m(\u001b[0m\u001b[0me\u001b[0m\u001b[0;34m,\u001b[0m \u001b[0mrequest\u001b[0m\u001b[0;34m=\u001b[0m\u001b[0mrequest\u001b[0m\u001b[0;34m)\u001b[0m\u001b[0;34m\u001b[0m\u001b[0;34m\u001b[0m\u001b[0m\n\u001b[0m\u001b[1;32m    517\u001b[0m \u001b[0;34m\u001b[0m\u001b[0m\n\u001b[1;32m    518\u001b[0m         \u001b[0;32mexcept\u001b[0m \u001b[0mClosedPoolError\u001b[0m \u001b[0;32mas\u001b[0m \u001b[0me\u001b[0m\u001b[0;34m:\u001b[0m\u001b[0;34m\u001b[0m\u001b[0;34m\u001b[0m\u001b[0m\n",
      "\u001b[0;31mConnectionError\u001b[0m: HTTPConnectionPool(host='34.206.109.62', port=8000): Max retries exceeded with url: /globaldata/ (Caused by NewConnectionError('<urllib3.connection.HTTPConnection object at 0x7fa7baa520f0>: Failed to establish a new connection: [Errno 111] Connection refused',))"
     ]
    }
   ],
   "source": [
    "API_ENDPOINT=\"http://34.206.109.62:8000/globaldata/\"\n",
    "\n",
    "\n",
    "\n",
    "r = requests.post(url = API_ENDPOINT,data=paload) \n",
    "  \n",
    "     # extracting response text  \n",
    "\n",
    "response_data = r.text \n",
    "print(\"The response_data is:%s\"%response_data) "
   ]
  },
  {
   "cell_type": "code",
   "execution_count": 246,
   "metadata": {},
   "outputs": [
    {
     "name": "stdout",
     "output_type": "stream",
     "text": [
      "swati\n"
     ]
    }
   ],
   "source": [
    "x=\"swati\"\n",
    "print(x[:])"
   ]
  },
  {
   "cell_type": "code",
   "execution_count": 261,
   "metadata": {},
   "outputs": [
    {
     "name": "stdout",
     "output_type": "stream",
     "text": [
      "iea\n"
     ]
    }
   ],
   "source": [
    "s='vivekananda'\n",
    "print(s[1:7:2])     \n",
    "#print(s[1:7:3])     \n"
   ]
  },
  {
   "cell_type": "code",
   "execution_count": 263,
   "metadata": {},
   "outputs": [
    {
     "name": "stdout",
     "output_type": "stream",
     "text": [
      "vivekan\n",
      "anda\n"
     ]
    }
   ],
   "source": [
    "s='vivekananda'\n",
    "print(s[:7])\n",
    "print(s[7:])"
   ]
  },
  {
   "cell_type": "code",
   "execution_count": 264,
   "metadata": {},
   "outputs": [
    {
     "name": "stdout",
     "output_type": "stream",
     "text": [
      "ivekan\n"
     ]
    }
   ],
   "source": [
    "s='vivekananda'\n",
    "print(s[1:-4]) "
   ]
  },
  {
   "cell_type": "code",
   "execution_count": 268,
   "metadata": {},
   "outputs": [
    {
     "name": "stdout",
     "output_type": "stream",
     "text": [
      "annkvv\n"
     ]
    }
   ],
   "source": [
    "s='vivekananda'        #(prints reverse of a string with difference of 2)\n",
    "print(s[::-2])\n",
    " "
   ]
  },
  {
   "cell_type": "code",
   "execution_count": 269,
   "metadata": {},
   "outputs": [
    {
     "name": "stdout",
     "output_type": "stream",
     "text": [
      "Hello, World!\n"
     ]
    }
   ],
   "source": [
    "# space slicing\n",
    "a = \"       Hello, World!            \"\n",
    "print(a.strip()) # for lstrip() removes left spaces and rstrip() removes right spaces"
   ]
  },
  {
   "cell_type": "code",
   "execution_count": 271,
   "metadata": {},
   "outputs": [
    {
     "name": "stdout",
     "output_type": "stream",
     "text": [
      "This is book. it has 555 pages\n"
     ]
    }
   ],
   "source": [
    "a = \"this is book. it has 555 pages\" # (only first letter will change to capital case alphabet)\n",
    "print(a.capitalize())"
   ]
  },
  {
   "cell_type": "code",
   "execution_count": 272,
   "metadata": {},
   "outputs": [
    {
     "name": "stdout",
     "output_type": "stream",
     "text": [
      "Jello, World!\n"
     ]
    }
   ],
   "source": [
    "a = \"Hello, World!\"\n",
    "print(a.replace(\"H\", \"J\"))\n"
   ]
  },
  {
   "cell_type": "code",
   "execution_count": 274,
   "metadata": {},
   "outputs": [
    {
     "name": "stdout",
     "output_type": "stream",
     "text": [
      "['this', 'is', 'a', 'book', 'and', 'it', 'has', '555', 'pages']\n"
     ]
    }
   ],
   "source": [
    "a='this#is#a#book#and#it#has#555#pages'         #(divides the complete string to  single word seperated by comma delimeter)\n",
    "print(a.split('#'))"
   ]
  },
  {
   "cell_type": "code",
   "execution_count": 276,
   "metadata": {},
   "outputs": [
    {
     "ename": "NameError",
     "evalue": "name 'raw_input' is not defined",
     "output_type": "error",
     "traceback": [
      "\u001b[0;31m---------------------------------------------------------------------------\u001b[0m",
      "\u001b[0;31mNameError\u001b[0m                                 Traceback (most recent call last)",
      "\u001b[0;32m<ipython-input-276-965068fc2c23>\u001b[0m in \u001b[0;36m<module>\u001b[0;34m\u001b[0m\n\u001b[0;32m----> 1\u001b[0;31m \u001b[0ma\u001b[0m\u001b[0;34m=\u001b[0m\u001b[0mraw_input\u001b[0m\u001b[0;34m(\u001b[0m\u001b[0;34m'enter a string    '\u001b[0m\u001b[0;34m)\u001b[0m     \u001b[0;31m# #====> takes input from user and prints. raw_input() applicable only for 2x version. 3x version takes input() statement\u001b[0m\u001b[0;34m\u001b[0m\u001b[0;34m\u001b[0m\u001b[0m\n\u001b[0m\u001b[1;32m      2\u001b[0m \u001b[0mprint\u001b[0m\u001b[0;34m(\u001b[0m\u001b[0;34m'hello'\u001b[0m\u001b[0;34m+\u001b[0m \u001b[0;34m' '\u001b[0m \u001b[0;34m+\u001b[0m \u001b[0ma\u001b[0m\u001b[0;34m)\u001b[0m\u001b[0;34m\u001b[0m\u001b[0;34m\u001b[0m\u001b[0m\n",
      "\u001b[0;31mNameError\u001b[0m: name 'raw_input' is not defined"
     ]
    }
   ],
   "source": [
    "a=raw_input('enter a string    ')     # #====> takes input from user and prints. raw_input() applicable only for 2x version. 3x version takes input() statement\n",
    "print('hello'+ ' ' + a)\n"
   ]
  },
  {
   "cell_type": "code",
   "execution_count": 283,
   "metadata": {},
   "outputs": [
    {
     "name": "stdout",
     "output_type": "stream",
     "text": [
      "\n"
     ]
    }
   ],
   "source": [
    "a='vivekananda'   #always first index is less than second index (only for positive indexes)\n",
    "print(a[-7:4])  "
   ]
  },
  {
   "cell_type": "code",
   "execution_count": 279,
   "metadata": {},
   "outputs": [
    {
     "data": {
      "text/plain": [
       "3"
      ]
     },
     "execution_count": 279,
     "metadata": {},
     "output_type": "execute_result"
    }
   ],
   "source": [
    "L=[1,'string',12.5,(1,2,3)]    \n",
    "L[3][2] "
   ]
  },
  {
   "cell_type": "code",
   "execution_count": 280,
   "metadata": {},
   "outputs": [
    {
     "name": "stdout",
     "output_type": "stream",
     "text": [
      "[1, 'string', 12.5, (1, 2, 3), ['rest', 'api']]\n"
     ]
    }
   ],
   "source": [
    "L=[1,'string',12.5,(1,2,3)]    \n",
    "k=['rest','api']\n",
    "L.append(k)    #append() function adds the complete list as an individual element at the end of the parent list\n",
    "print(L)\n"
   ]
  },
  {
   "cell_type": "code",
   "execution_count": 284,
   "metadata": {},
   "outputs": [
    {
     "name": "stdout",
     "output_type": "stream",
     "text": [
      "[4, 3, 2, 1]\n",
      "[4, 3, 1, 2]\n"
     ]
    }
   ],
   "source": [
    "s=[4,3,1,2]\n",
    "k=sorted(s,reverse=True)\n",
    "print(k)\n",
    "print(s)"
   ]
  },
  {
   "cell_type": "code",
   "execution_count": 286,
   "metadata": {},
   "outputs": [
    {
     "name": "stdout",
     "output_type": "stream",
     "text": [
      "('string', 1, 12.5, [4, 5, 6])\n",
      "<class 'int'>\n"
     ]
    }
   ],
   "source": [
    "s1=('string',1,12.5,[4,5,6]) \n",
    "print(s)\n",
    "s1=(1)\n",
    "print(type(s1))"
   ]
  },
  {
   "cell_type": "code",
   "execution_count": 287,
   "metadata": {},
   "outputs": [
    {
     "name": "stdout",
     "output_type": "stream",
     "text": [
      "12.5\n",
      "[4, 5, 6]\n"
     ]
    }
   ],
   "source": [
    "\n",
    "s=('string',1,12.5,[4,5,6])  \n",
    "for y in s[2:]:   #y is iterative variable\n",
    "    print(y)\n"
   ]
  },
  {
   "cell_type": "code",
   "execution_count": 2,
   "metadata": {},
   "outputs": [
    {
     "data": {
      "text/plain": [
       "[1, 2, 77, 3, 4, 5, 6]"
      ]
     },
     "execution_count": 2,
     "metadata": {},
     "output_type": "execute_result"
    }
   ],
   "source": [
    "a"
   ]
  },
  {
   "cell_type": "code",
   "execution_count": 3,
   "metadata": {},
   "outputs": [
    {
     "data": {
      "text/plain": [
       "2"
      ]
     },
     "execution_count": 3,
     "metadata": {},
     "output_type": "execute_result"
    }
   ],
   "source": [
    "a.pop(1)"
   ]
  },
  {
   "cell_type": "code",
   "execution_count": 4,
   "metadata": {},
   "outputs": [
    {
     "data": {
      "text/plain": [
       "[1, 77, 3, 4, 5, 6]"
      ]
     },
     "execution_count": 4,
     "metadata": {},
     "output_type": "execute_result"
    }
   ],
   "source": [
    "a"
   ]
  },
  {
   "cell_type": "code",
   "execution_count": 10,
   "metadata": {},
   "outputs": [
    {
     "ename": "TypeError",
     "evalue": "extend() takes exactly one argument (2 given)",
     "output_type": "error",
     "traceback": [
      "\u001b[0;31m---------------------------------------------------------------------------\u001b[0m",
      "\u001b[0;31mTypeError\u001b[0m                                 Traceback (most recent call last)",
      "\u001b[0;32m<ipython-input-10-f1ff25fd43d2>\u001b[0m in \u001b[0;36m<module>\u001b[0;34m\u001b[0m\n\u001b[0;32m----> 1\u001b[0;31m \u001b[0mx\u001b[0m\u001b[0;34m=\u001b[0m\u001b[0ma\u001b[0m\u001b[0;34m.\u001b[0m\u001b[0mextend\u001b[0m\u001b[0;34m(\u001b[0m\u001b[0;36m3\u001b[0m\u001b[0;34m,\u001b[0m\u001b[0;36m4\u001b[0m\u001b[0;34m)\u001b[0m\u001b[0;34m\u001b[0m\u001b[0;34m\u001b[0m\u001b[0m\n\u001b[0m",
      "\u001b[0;31mTypeError\u001b[0m: extend() takes exactly one argument (2 given)"
     ]
    }
   ],
   "source": [
    "x=a.extend(3,4)"
   ]
  },
  {
   "cell_type": "code",
   "execution_count": 13,
   "metadata": {},
   "outputs": [
    {
     "name": "stdout",
     "output_type": "stream",
     "text": [
      "Language List:  ['French', 'English', 'German', 'Spanish', 'Portuguese']\n"
     ]
    }
   ],
   "source": [
    "language = ['French', 'English', 'German']\n",
    "\n",
    "# another list of language\n",
    "language1 = ['Spanish', 'Portuguese']\n",
    "\n",
    "language.extend(language1)\n",
    "\n",
    "# Extended List\n",
    "print('Language List: ', language)\n"
   ]
  },
  {
   "cell_type": "code",
   "execution_count": 3,
   "metadata": {},
   "outputs": [
    {
     "name": "stdout",
     "output_type": "stream",
     "text": [
      "Language List:  ['French', 'English', 'German', ['Spanish', 'Portuguese']]\n"
     ]
    }
   ],
   "source": [
    "language = ['French', 'English', 'German']\n",
    "\n",
    "# another list of language\n",
    "language1 = ['Spanish', 'Portuguese']\n",
    "\n",
    "language.append(language1)\n",
    "\n",
    "# Extended List\n",
    "print('Language List: ', language)\n"
   ]
  },
  {
   "cell_type": "markdown",
   "metadata": {},
   "source": [
    "# List Comprehension\n"
   ]
  },
  {
   "cell_type": "code",
   "execution_count": 1,
   "metadata": {},
   "outputs": [
    {
     "ename": "SyntaxError",
     "evalue": "invalid syntax (<ipython-input-1-def3b85727c9>, line 1)",
     "output_type": "error",
     "traceback": [
      "\u001b[0;36m  File \u001b[0;32m\"<ipython-input-1-def3b85727c9>\"\u001b[0;36m, line \u001b[0;32m1\u001b[0m\n\u001b[0;31m    format of list comprehension=[expr for val in callection]\u001b[0m\n\u001b[0m            ^\u001b[0m\n\u001b[0;31mSyntaxError\u001b[0m\u001b[0;31m:\u001b[0m invalid syntax\n"
     ]
    }
   ],
   "source": [
    "format of list comprehension=[expr for val in callection]\n",
    "\n",
    "1.[expr for val in callection]\n",
    "2.[expr for val in callection if <test>]\n",
    "3.[expr for val in callection if<test1> and <test2>]\n",
    "4.[expr for val in callection1 and val2 in callection2]"
   ]
  },
  {
   "cell_type": "code",
   "execution_count": 242,
   "metadata": {},
   "outputs": [
    {
     "name": "stdout",
     "output_type": "stream",
     "text": [
      "['gmiln']\n",
      "['gmiln', 'ge']\n"
     ]
    }
   ],
   "source": [
    "movies=[\"humdo\",\"gmiln\",\"yoyo\",\"karate\",\"ge\"]\n",
    "\n",
    "gmovies=[]\n",
    "\n",
    "for title in movies:\n",
    "    if title.startswith(\"g\"):\n",
    "        gmovies.append(title)\n",
    "        print(gmovies)"
   ]
  },
  {
   "cell_type": "code",
   "execution_count": 245,
   "metadata": {},
   "outputs": [
    {
     "ename": "SyntaxError",
     "evalue": "invalid syntax (<ipython-input-245-d750f4f0ec5f>, line 2)",
     "output_type": "error",
     "traceback": [
      "\u001b[0;36m  File \u001b[0;32m\"<ipython-input-245-d750f4f0ec5f>\"\u001b[0;36m, line \u001b[0;32m2\u001b[0m\n\u001b[0;31m    moviesre=[title for movies: if title.startswith(\"g\")]\u001b[0m\n\u001b[0m                              ^\u001b[0m\n\u001b[0;31mSyntaxError\u001b[0m\u001b[0;31m:\u001b[0m invalid syntax\n"
     ]
    }
   ],
   "source": [
    "# using list comprihencen\n",
    "moviesre=[title for movies: if title.startswith(\"g\")]\n",
    "print(moviesre)"
   ]
  },
  {
   "cell_type": "code",
   "execution_count": 309,
   "metadata": {},
   "outputs": [
    {
     "name": "stdout",
     "output_type": "stream",
     "text": [
      "[3, 5, 8, 8, 7, 9, 5]\n"
     ]
    }
   ],
   "source": [
    "praclist=[1,2,3,7,9,8,7,6,5,4,3,5,8,8,7,9,5]\n",
    "print(praclist[-7:])\n",
    "\n"
   ]
  },
  {
   "cell_type": "code",
   "execution_count": 8,
   "metadata": {},
   "outputs": [
    {
     "name": "stdout",
     "output_type": "stream",
     "text": [
      "[1, 4, 9, 16, 25, 36, 49, 64, 81, 100, 121, 144, 169, 196, 225, 256, 289, 324, 361, 400, 441, 484, 529, 576, 625, 676, 729, 784, 841, 900, 961, 1024, 1089, 1156, 1225, 1296, 1369, 1444, 1521, 1600, 1681, 1764, 1849, 1936, 2025, 2116, 2209, 2304, 2401, 2500, 2601, 2704, 2809, 2916, 3025, 3136, 3249, 3364, 3481, 3600, 3721, 3844, 3969, 4096, 4225, 4356, 4489, 4624, 4761, 4900, 5041, 5184, 5329, 5476, 5625, 5776, 5929, 6084, 6241, 6400, 6561, 6724, 6889, 7056, 7225, 7396, 7569, 7744, 7921, 8100, 8281, 8464, 8649, 8836, 9025, 9216, 9409, 9604, 9801, 10000]\n"
     ]
    }
   ],
   "source": [
    "# find the squares...\n",
    "squares =[]\n",
    "for i in range(1,101):\n",
    "    squares.append(i**2)\n",
    "print(squares)"
   ]
  },
  {
   "cell_type": "code",
   "execution_count": 4,
   "metadata": {},
   "outputs": [
    {
     "name": "stdout",
     "output_type": "stream",
     "text": [
      "[1, 4, 9, 16, 25, 36, 49, 64, 81, 100, 121, 144, 169, 196, 225, 256, 289, 324, 361, 400, 441, 484, 529, 576, 625, 676, 729, 784, 841, 900, 961, 1024, 1089, 1156, 1225, 1296, 1369, 1444, 1521, 1600, 1681, 1764, 1849, 1936, 2025, 2116, 2209, 2304, 2401, 2500, 2601, 2704, 2809, 2916, 3025, 3136, 3249, 3364, 3481, 3600, 3721, 3844, 3969, 4096, 4225, 4356, 4489, 4624, 4761, 4900, 5041, 5184, 5329, 5476, 5625, 5776, 5929, 6084, 6241, 6400, 6561, 6724, 6889, 7056, 7225, 7396, 7569, 7744, 7921, 8100, 8281, 8464, 8649, 8836, 9025, 9216, 9409, 9604, 9801, 10000]\n"
     ]
    }
   ],
   "source": [
    "# find squares ..using list comprehension..\n",
    "squares =[i**2 for i in range(1,101) ]\n",
    "print(squares)"
   ]
  },
  {
   "cell_type": "code",
   "execution_count": 10,
   "metadata": {},
   "outputs": [
    {
     "name": "stdout",
     "output_type": "stream",
     "text": [
      "[1, 4, 4, 1, 0]\n"
     ]
    }
   ],
   "source": [
    "#find the remainder of 5 of\n",
    "remainder =[]\n",
    "for rem in range(1,6):\n",
    "    remainder.append(rem**2%5)\n",
    "print(remainder)\n",
    "    \n",
    "    "
   ]
  },
  {
   "cell_type": "code",
   "execution_count": 11,
   "metadata": {},
   "outputs": [
    {
     "name": "stdout",
     "output_type": "stream",
     "text": [
      "[1, 4, 4, 1, 0]\n"
     ]
    }
   ],
   "source": [
    "remd=[x**2%5 for x in range(1,6)]\n",
    "print(remd)"
   ]
  },
  {
   "cell_type": "code",
   "execution_count": 12,
   "metadata": {},
   "outputs": [
    {
     "name": "stdout",
     "output_type": "stream",
     "text": [
      "[1, 4, 9, 16, 25, 36, 49, 14, 31, 0, 21, 44, 19, 46, 25, 6, 39, 24, 11, 0, 41, 34, 29, 26, 25, 26, 29, 34, 41, 0, 11, 24, 39, 6, 25, 46, 19, 44, 21, 0, 31, 14, 49, 36, 25, 16, 9, 4]\n"
     ]
    }
   ],
   "source": [
    "remd2=[x**2%50 for x in range(1,49)]\n",
    "print(remd2)"
   ]
  },
  {
   "cell_type": "code",
   "execution_count": 13,
   "metadata": {},
   "outputs": [
    {
     "name": "stdout",
     "output_type": "stream",
     "text": [
      "[1, 4, 9, 16, 25, 36, 49, 64, 81, 0, 21, 44, 69, 96, 25, 56, 89, 24, 61, 0, 41, 84, 29, 76, 25, 76, 29, 84, 41, 0, 61, 24, 89, 56, 25, 96, 69, 44, 21, 0, 81, 64, 49, 36, 25, 16, 9, 4, 1, 0, 1, 4, 9, 16, 25, 36, 49, 64, 81, 0, 21, 44, 69, 96, 25, 56, 89, 24, 61, 0, 41, 84, 29, 76, 25, 76, 29, 84, 41, 0, 61, 24, 89, 56, 25, 96, 69, 44, 21, 0, 81, 64, 49, 36, 25, 16, 9, 4, 1, 0]\n"
     ]
    }
   ],
   "source": [
    "remd3=[x**2%100 for x in range(1,101)]\n",
    "print(remd3)"
   ]
  },
  {
   "cell_type": "code",
   "execution_count": 18,
   "metadata": {},
   "outputs": [
    {
     "name": "stdout",
     "output_type": "stream",
     "text": [
      "['Gazab']\n"
     ]
    }
   ],
   "source": [
    "# find the movies start with g ...\n",
    "movies=['ager tum','mil jao','Gazab']\n",
    "gmovies=[]\n",
    "for title in movies:\n",
    "    if title.startswith(\"G\"):\n",
    "        gmovies.append(title)\n",
    "print(gmovies)    "
   ]
  },
  {
   "cell_type": "code",
   "execution_count": 19,
   "metadata": {},
   "outputs": [
    {
     "name": "stdout",
     "output_type": "stream",
     "text": [
      "['ager tum']\n"
     ]
    }
   ],
   "source": [
    "#find the less 2000 year released movie ...\n",
    "\n",
    "movies1=[(\"ager tum\",1997),(\"mil jao\",2001),(\"Gazab\",2000)]\n",
    "\n",
    "pre2k=[title for (title,year) in movies1 if year<2000]\n",
    "print(pre2k)\n"
   ]
  },
  {
   "cell_type": "code",
   "execution_count": 36,
   "metadata": {},
   "outputs": [
    {
     "name": "stdout",
     "output_type": "stream",
     "text": [
      "* * * * \n",
      "* * * * \n",
      "* * * * \n",
      "* * * * \n"
     ]
    }
   ],
   "source": [
    "# print *\n",
    "for i in range(1,5):\n",
    "    for j in range(1,5):\n",
    "        print(\"*\",end =\" \")\n",
    "    print()\n",
    "    "
   ]
  },
  {
   "cell_type": "code",
   "execution_count": 37,
   "metadata": {},
   "outputs": [
    {
     "name": "stdout",
     "output_type": "stream",
     "text": [
      "###\n",
      "##\n",
      "#\n"
     ]
    }
   ],
   "source": [
    "for i in range(0,3):\n",
    "    for j in range(0,3-i):\n",
    "        print(\"#\",end=\" \")\n",
    "    print()"
   ]
  },
  {
   "cell_type": "code",
   "execution_count": 47,
   "metadata": {},
   "outputs": [
    {
     "name": "stdout",
     "output_type": "stream",
     "text": [
      "1 2 3 4 5 \n",
      "1 2 3 4 \n",
      "1 2 3 \n",
      "1 2 \n",
      "1 \n"
     ]
    }
   ],
   "source": [
    "for i in range(0,5):\n",
    "    for j in range(0,5-i):\n",
    "        print(j+1,end=\" \")\n",
    "    print()"
   ]
  },
  {
   "cell_type": "code",
   "execution_count": 50,
   "metadata": {},
   "outputs": [
    {
     "name": "stdout",
     "output_type": "stream",
     "text": [
      "0\n",
      "1\n",
      "2\n"
     ]
    }
   ],
   "source": [
    "for i in range(0,3):\n",
    "    print(i)"
   ]
  },
  {
   "cell_type": "code",
   "execution_count": 115,
   "metadata": {},
   "outputs": [
    {
     "name": "stdout",
     "output_type": "stream",
     "text": [
      "01234\n",
      " 1234\n",
      "  234\n",
      "   34\n",
      "    4\n"
     ]
    }
   ],
   "source": [
    "for i in range(0,5):\n",
    "    for k in range(0,i):\n",
    "        print(\" \",end=\"\")\n",
    "    for j in range(i,5):\n",
    "        print(j,end=\"\")\n",
    "    print()\n",
    "        "
   ]
  },
  {
   "cell_type": "code",
   "execution_count": 117,
   "metadata": {},
   "outputs": [
    {
     "name": "stdout",
     "output_type": "stream",
     "text": [
      "*****\n",
      " ****\n",
      "  ***\n",
      "   **\n",
      "    *\n"
     ]
    }
   ],
   "source": [
    "for i in range(0,5):\n",
    "    for k in range(0,i):\n",
    "        print(\" \",end=\"\")\n",
    "    for j in range(i,5):\n",
    "        print(\"*\",end=\"\")\n",
    "    print()\n",
    "\n"
   ]
  },
  {
   "cell_type": "code",
   "execution_count": 118,
   "metadata": {},
   "outputs": [
    {
     "name": "stdout",
     "output_type": "stream",
     "text": [
      "\n",
      "& \n",
      "& & \n",
      "& & & \n",
      "& & & & \n"
     ]
    }
   ],
   "source": [
    "for i in range(0,5):\n",
    "    for j in range(0,i):\n",
    "        print(\"&\",end=\" \")\n",
    "    print()"
   ]
  },
  {
   "cell_type": "code",
   "execution_count": 139,
   "metadata": {},
   "outputs": [
    {
     "name": "stdout",
     "output_type": "stream",
     "text": [
      "# # # # # \n",
      "# # # # _ \n",
      "# # # _ _ \n",
      "# # _ _ _ \n",
      "# _ _ _ _ \n"
     ]
    }
   ],
   "source": [
    "for i in range(0,5):\n",
    "    for j in range(0,5-i):\n",
    "        print(\"#\",end=\" \")\n",
    "    for k in range(0,i):\n",
    "        print(\"_\",end=\" \")\n",
    "    print()"
   ]
  },
  {
   "cell_type": "code",
   "execution_count": 143,
   "metadata": {},
   "outputs": [
    {
     "name": "stdout",
     "output_type": "stream",
     "text": [
      "_ _ _ _ _ \n",
      "* _ _ _ _ \n",
      "* * _ _ _ \n",
      "* * * _ _ \n",
      "* * * * _ \n"
     ]
    }
   ],
   "source": [
    "for i in range(0,5):\n",
    "    for j in range(0,i):\n",
    "        print(\"*\",end=\" \")\n",
    "    for k in range(0,5-i):\n",
    "        print(\"_\",end=\" \")\n",
    "    print()"
   ]
  },
  {
   "cell_type": "code",
   "execution_count": 144,
   "metadata": {},
   "outputs": [
    {
     "name": "stdout",
     "output_type": "stream",
     "text": [
      "* * * "
     ]
    }
   ],
   "source": [
    "for i in range(0,3):\n",
    "    for j in range(0,i):\n",
    "        print(\"*\",end=\" \")\n",
    "    "
   ]
  },
  {
   "cell_type": "code",
   "execution_count": 305,
   "metadata": {},
   "outputs": [
    {
     "name": "stdout",
     "output_type": "stream",
     "text": [
      "{'countryCode': 'US', 'country': 'USA', 'lat': 37.09024, 'lng': -95.712891, 'totalConfirmed': 738923, 'totalDeaths': 39015, 'totalRecovered': 68285, 'dailyConfirmed': 131, 'dailyDeaths': 1, 'activeCases': 631623, 'totalCritical': 13551, 'totalConfirmedPerMillionPopulation': 2232, 'totalDeathsPerMillionPopulation': 118, 'FR': '5.2800', 'PR': '9.2412', 'lastUpdated': '2020-04-19T10:25:07.000Z'}\n"
     ]
    }
   ],
   "source": [
    "# get request from in python(client_side)\n",
    "\n",
    "import requests\n",
    "\n",
    "URL=\"https://api.coronatracker.com/v3/stats/worldometer/topCountry?limit=15&sort=-confirmed\"\n",
    "\n",
    "Location=\"corona_data\"\n",
    "PARAMS={\"ADDRESS\":\"Location\"}\n",
    "\n",
    "r=requests.get(url=URL,params=PARAMS)\n",
    "data=r.json()\n",
    "\n",
    "print(data[0])"
   ]
  },
  {
   "cell_type": "code",
   "execution_count": 296,
   "metadata": {},
   "outputs": [
    {
     "name": "stdout",
     "output_type": "stream",
     "text": [
      "[{'countryCode': 'US', 'country': 'USA', 'lat': 37.09024, 'lng': -95.712891, 'totalConfirmed': 666949, 'totalDeaths': 33875, 'totalRecovered': 57189, 'dailyConfirmed': 18801, 'dailyDeaths': 1287, 'activeCases': 575885, 'totalCritical': 13369, 'totalConfirmedPerMillionPopulation': 2015, 'totalDeathsPerMillionPopulation': 102, 'FR': '5.0791', 'PR': '8.5747', 'lastUpdated': '2020-04-16T18:05:08.000Z'}, {'countryCode': 'ES', 'country': 'Spain', 'lat': 40.463667, 'lng': -3.74922, 'totalConfirmed': 182816, 'totalDeaths': 19130, 'totalRecovered': 74797, 'dailyConfirmed': 2157, 'dailyDeaths': 318, 'activeCases': 88889, 'totalCritical': 7371, 'totalConfirmedPerMillionPopulation': 3910, 'totalDeathsPerMillionPopulation': 409, 'FR': '10.4641', 'PR': '40.9138', 'lastUpdated': '2020-04-16T18:05:08.000Z'}, {'countryCode': 'IT', 'country': 'Italy', 'lat': 41.87194, 'lng': 12.56738, 'totalConfirmed': 168941, 'totalDeaths': 22170, 'totalRecovered': 40164, 'dailyConfirmed': 3786, 'dailyDeaths': 525, 'activeCases': 106607, 'totalCritical': 2936, 'totalConfirmedPerMillionPopulation': 2794, 'totalDeathsPerMillionPopulation': 367, 'FR': '13.1229', 'PR': '23.7740', 'lastUpdated': '2020-04-16T18:05:08.000Z'}, {'countryCode': 'FR', 'country': 'France', 'lat': 46.227638, 'lng': 2.213749, 'totalConfirmed': 147863, 'totalDeaths': 17167, 'totalRecovered': 30955, 'dailyConfirmed': 0, 'dailyDeaths': 0, 'activeCases': 99741, 'totalCritical': 6457, 'totalConfirmedPerMillionPopulation': 2265, 'totalDeathsPerMillionPopulation': 263, 'FR': '11.6101', 'PR': '20.9349', 'lastUpdated': '2020-04-16T18:05:08.000Z'}, {'countryCode': 'DE', 'country': 'Germany', 'lat': 51.165691, 'lng': 10.451526, 'totalConfirmed': 135663, 'totalDeaths': 3867, 'totalRecovered': 77000, 'dailyConfirmed': 910, 'dailyDeaths': 63, 'activeCases': 54796, 'totalCritical': 4288, 'totalConfirmedPerMillionPopulation': 1619, 'totalDeathsPerMillionPopulation': 46, 'FR': '2.8504', 'PR': '56.7583', 'lastUpdated': '2020-04-16T18:05:08.000Z'}, {'countryCode': 'GB', 'country': 'UK', 'lat': 55.378051, 'lng': -3.435973, 'totalConfirmed': 103093, 'totalDeaths': 13729, 'totalRecovered': 135, 'dailyConfirmed': 4617, 'dailyDeaths': 861, 'activeCases': 89020, 'totalCritical': 1559, 'totalConfirmedPerMillionPopulation': 1519, 'totalDeathsPerMillionPopulation': 202, 'FR': '13.3171', 'PR': '0.0000', 'lastUpdated': '2020-04-16T18:05:08.000Z'}, {'countryCode': 'CN', 'country': 'China', 'lat': 35.86166, 'lng': 104.195397, 'totalConfirmed': 82341, 'totalDeaths': 3342, 'totalRecovered': 77892, 'dailyConfirmed': 46, 'dailyDeaths': 0, 'activeCases': 1107, 'totalCritical': 95, 'totalConfirmedPerMillionPopulation': 57, 'totalDeathsPerMillionPopulation': 2, 'FR': '4.0587', 'PR': '94.5969', 'lastUpdated': '2020-04-16T18:05:12.000Z'}, {'countryCode': 'IR', 'country': 'Iran', 'lat': 32.427908, 'lng': 53.688046, 'totalConfirmed': 77995, 'totalDeaths': 4869, 'totalRecovered': 52229, 'dailyConfirmed': 1606, 'dailyDeaths': 92, 'activeCases': 20897, 'totalCritical': 3594, 'totalConfirmedPerMillionPopulation': 929, 'totalDeathsPerMillionPopulation': 58, 'FR': '6.2427', 'PR': '66.9645', 'lastUpdated': '2020-04-16T18:05:08.000Z'}, {'countryCode': 'TR', 'country': 'Turkey', 'lat': 38.963745, 'lng': 35.243322, 'totalConfirmed': 74193, 'totalDeaths': 1643, 'totalRecovered': 7089, 'dailyConfirmed': 4801, 'dailyDeaths': 125, 'activeCases': 65461, 'totalCritical': 1854, 'totalConfirmedPerMillionPopulation': 880, 'totalDeathsPerMillionPopulation': 19, 'FR': '2.2145', 'PR': '9.5548', 'lastUpdated': '2020-04-16T18:05:08.000Z'}, {'countryCode': 'BE', 'country': 'Belgium', 'lat': 50.503887, 'lng': 4.469936, 'totalConfirmed': 34809, 'totalDeaths': 4857, 'totalRecovered': 7562, 'dailyConfirmed': 1236, 'dailyDeaths': 417, 'activeCases': 22390, 'totalCritical': 1182, 'totalConfirmedPerMillionPopulation': 3003, 'totalDeathsPerMillionPopulation': 419, 'FR': '13.9533', 'PR': '21.7243', 'lastUpdated': '2020-04-16T18:05:08.000Z'}, {'countryCode': 'CA', 'country': 'Canada', 'lat': 56.130366, 'lng': -106.346771, 'totalConfirmed': 29925, 'totalDeaths': 1191, 'totalRecovered': 9671, 'dailyConfirmed': 1546, 'dailyDeaths': 181, 'activeCases': 19063, 'totalCritical': 557, 'totalConfirmedPerMillionPopulation': 793, 'totalDeathsPerMillionPopulation': 32, 'FR': '3.9799', 'PR': '32.3175', 'lastUpdated': '2020-04-16T18:05:08.000Z'}, {'countryCode': 'BR', 'country': 'Brazil', 'lat': -14.235004, 'lng': -51.92528, 'totalConfirmed': 29214, 'totalDeaths': 1769, 'totalRecovered': 14026, 'dailyConfirmed': 604, 'dailyDeaths': 12, 'activeCases': 13419, 'totalCritical': 6634, 'totalConfirmedPerMillionPopulation': 137, 'totalDeathsPerMillionPopulation': 8, 'FR': '6.0553', 'PR': '48.0112', 'lastUpdated': '2020-04-16T18:05:08.000Z'}, {'countryCode': 'NL', 'country': 'Netherlands', 'lat': 52.132633, 'lng': 5.291266, 'totalConfirmed': 29214, 'totalDeaths': 3315, 'totalRecovered': 250, 'dailyConfirmed': 1061, 'dailyDeaths': 181, 'activeCases': 25649, 'totalCritical': 1279, 'totalConfirmedPerMillionPopulation': 1705, 'totalDeathsPerMillionPopulation': 193, 'FR': '11.3473', 'PR': '0.8558', 'lastUpdated': '2020-04-16T18:05:08.000Z'}, {'countryCode': 'RU', 'country': 'Russia', 'lat': 61.52401, 'lng': 105.318756, 'totalConfirmed': 27938, 'totalDeaths': 232, 'totalRecovered': 2304, 'dailyConfirmed': 3448, 'dailyDeaths': 34, 'activeCases': 25402, 'totalCritical': 8, 'totalConfirmedPerMillionPopulation': 191, 'totalDeathsPerMillionPopulation': 2, 'FR': '0.8304', 'PR': '8.2468', 'lastUpdated': '2020-04-16T18:05:08.000Z'}, {'countryCode': 'CH', 'country': 'Switzerland', 'lat': 46.818188, 'lng': 8.227512, 'totalConfirmed': 26732, 'totalDeaths': 1281, 'totalRecovered': 15400, 'dailyConfirmed': 396, 'dailyDeaths': 42, 'activeCases': 10051, 'totalCritical': 386, 'totalConfirmedPerMillionPopulation': 3089, 'totalDeathsPerMillionPopulation': 148, 'FR': '4.7920', 'PR': '57.6089', 'lastUpdated': '2020-04-16T18:05:08.000Z'}]\n"
     ]
    }
   ],
   "source": [
    "print(data)"
   ]
  },
  {
   "cell_type": "code",
   "execution_count": 303,
   "metadata": {},
   "outputs": [
    {
     "ename": "SyntaxError",
     "evalue": "invalid syntax (<ipython-input-303-0c1ec02aec3c>, line 9)",
     "output_type": "error",
     "traceback": [
      "\u001b[0;36m  File \u001b[0;32m\"<ipython-input-303-0c1ec02aec3c>\"\u001b[0;36m, line \u001b[0;32m9\u001b[0m\n\u001b[0;31m    paload=data[0]:\u001b[0m\n\u001b[0m                  ^\u001b[0m\n\u001b[0;31mSyntaxError\u001b[0m\u001b[0;31m:\u001b[0m invalid syntax\n"
     ]
    }
   ],
   "source": [
    "# post request from in python(client_side) ye request server side pr krne ke liye is model pr krne ke liye\n",
    "import requests\n",
    "\n",
    "API_ENDPOINT=\"http://34.206.109.62:8000/coronatracker/\"\n",
    "\n",
    "  \n",
    "# data to be sent to api \n",
    "\n",
    "paload=data[0]:\n",
    "    \n",
    "\n",
    "\n",
    "r = requests.post(url = API_ENDPOINT, data = payload) \n",
    "  \n",
    "# extracting response text  \n",
    "\n",
    "pastebin_url = r.text \n",
    "print(\"The pastebin URL is:%s\"%pastebin_url) "
   ]
  },
  {
   "cell_type": "code",
   "execution_count": 307,
   "metadata": {},
   "outputs": [
    {
     "name": "stdout",
     "output_type": "stream",
     "text": [
      "The response_data is:{\"id\":1,\"countryCode\":\"IN\",\"country\":\"India\",\"lat\":20.593684,\"lng\":78.96288,\"totalConfirmed\":6237,\"totalDeaths\":186,\"totalRecovered\":569,\"dailyConfirmed\":321,\"dailyDeaths\":8,\"activeCases\":5482,\"totalCritical\":0,\"totalConfirmedPerMillionPopulation\":5,\"totalDeathsPerMillionPopulation\":0,\"FR\":2.9822,\"PR\":9.123,\"lastUpdated\":\"2020-04-19T10:30:40.598880Z\"}\n",
      "The response_data is:{\"id\":2,\"countryCode\":\"IN\",\"country\":\"India\",\"lat\":20.593684,\"lng\":78.96288,\"totalConfirmed\":6237,\"totalDeaths\":186,\"totalRecovered\":569,\"dailyConfirmed\":321,\"dailyDeaths\":8,\"activeCases\":5482,\"totalCritical\":0,\"totalConfirmedPerMillionPopulation\":5,\"totalDeathsPerMillionPopulation\":0,\"FR\":2.9822,\"PR\":9.123,\"lastUpdated\":\"2020-04-19T10:30:40.619933Z\"}\n",
      "The response_data is:{\"id\":3,\"countryCode\":\"IN\",\"country\":\"India\",\"lat\":20.593684,\"lng\":78.96288,\"totalConfirmed\":6237,\"totalDeaths\":186,\"totalRecovered\":569,\"dailyConfirmed\":321,\"dailyDeaths\":8,\"activeCases\":5482,\"totalCritical\":0,\"totalConfirmedPerMillionPopulation\":5,\"totalDeathsPerMillionPopulation\":0,\"FR\":2.9822,\"PR\":9.123,\"lastUpdated\":\"2020-04-19T10:30:40.635102Z\"}\n",
      "The response_data is:{\"id\":4,\"countryCode\":\"IN\",\"country\":\"India\",\"lat\":20.593684,\"lng\":78.96288,\"totalConfirmed\":6237,\"totalDeaths\":186,\"totalRecovered\":569,\"dailyConfirmed\":321,\"dailyDeaths\":8,\"activeCases\":5482,\"totalCritical\":0,\"totalConfirmedPerMillionPopulation\":5,\"totalDeathsPerMillionPopulation\":0,\"FR\":2.9822,\"PR\":9.123,\"lastUpdated\":\"2020-04-19T10:30:40.650045Z\"}\n",
      "The response_data is:{\"id\":5,\"countryCode\":\"IN\",\"country\":\"India\",\"lat\":20.593684,\"lng\":78.96288,\"totalConfirmed\":6237,\"totalDeaths\":186,\"totalRecovered\":569,\"dailyConfirmed\":321,\"dailyDeaths\":8,\"activeCases\":5482,\"totalCritical\":0,\"totalConfirmedPerMillionPopulation\":5,\"totalDeathsPerMillionPopulation\":0,\"FR\":2.9822,\"PR\":9.123,\"lastUpdated\":\"2020-04-19T10:30:40.665779Z\"}\n",
      "The response_data is:{\"id\":6,\"countryCode\":\"IN\",\"country\":\"India\",\"lat\":20.593684,\"lng\":78.96288,\"totalConfirmed\":6237,\"totalDeaths\":186,\"totalRecovered\":569,\"dailyConfirmed\":321,\"dailyDeaths\":8,\"activeCases\":5482,\"totalCritical\":0,\"totalConfirmedPerMillionPopulation\":5,\"totalDeathsPerMillionPopulation\":0,\"FR\":2.9822,\"PR\":9.123,\"lastUpdated\":\"2020-04-19T10:30:40.681941Z\"}\n",
      "The response_data is:{\"id\":7,\"countryCode\":\"IN\",\"country\":\"India\",\"lat\":20.593684,\"lng\":78.96288,\"totalConfirmed\":6237,\"totalDeaths\":186,\"totalRecovered\":569,\"dailyConfirmed\":321,\"dailyDeaths\":8,\"activeCases\":5482,\"totalCritical\":0,\"totalConfirmedPerMillionPopulation\":5,\"totalDeathsPerMillionPopulation\":0,\"FR\":2.9822,\"PR\":9.123,\"lastUpdated\":\"2020-04-19T10:30:40.705852Z\"}\n",
      "The response_data is:{\"id\":8,\"countryCode\":\"IN\",\"country\":\"India\",\"lat\":20.593684,\"lng\":78.96288,\"totalConfirmed\":6237,\"totalDeaths\":186,\"totalRecovered\":569,\"dailyConfirmed\":321,\"dailyDeaths\":8,\"activeCases\":5482,\"totalCritical\":0,\"totalConfirmedPerMillionPopulation\":5,\"totalDeathsPerMillionPopulation\":0,\"FR\":2.9822,\"PR\":9.123,\"lastUpdated\":\"2020-04-19T10:30:40.722018Z\"}\n",
      "The response_data is:{\"id\":9,\"countryCode\":\"IN\",\"country\":\"India\",\"lat\":20.593684,\"lng\":78.96288,\"totalConfirmed\":6237,\"totalDeaths\":186,\"totalRecovered\":569,\"dailyConfirmed\":321,\"dailyDeaths\":8,\"activeCases\":5482,\"totalCritical\":0,\"totalConfirmedPerMillionPopulation\":5,\"totalDeathsPerMillionPopulation\":0,\"FR\":2.9822,\"PR\":9.123,\"lastUpdated\":\"2020-04-19T10:30:40.740036Z\"}\n",
      "The response_data is:{\"id\":10,\"countryCode\":\"IN\",\"country\":\"India\",\"lat\":20.593684,\"lng\":78.96288,\"totalConfirmed\":6237,\"totalDeaths\":186,\"totalRecovered\":569,\"dailyConfirmed\":321,\"dailyDeaths\":8,\"activeCases\":5482,\"totalCritical\":0,\"totalConfirmedPerMillionPopulation\":5,\"totalDeathsPerMillionPopulation\":0,\"FR\":2.9822,\"PR\":9.123,\"lastUpdated\":\"2020-04-19T10:30:40.756277Z\"}\n",
      "The response_data is:{\"id\":11,\"countryCode\":\"IN\",\"country\":\"India\",\"lat\":20.593684,\"lng\":78.96288,\"totalConfirmed\":6237,\"totalDeaths\":186,\"totalRecovered\":569,\"dailyConfirmed\":321,\"dailyDeaths\":8,\"activeCases\":5482,\"totalCritical\":0,\"totalConfirmedPerMillionPopulation\":5,\"totalDeathsPerMillionPopulation\":0,\"FR\":2.9822,\"PR\":9.123,\"lastUpdated\":\"2020-04-19T10:30:40.790439Z\"}\n",
      "The response_data is:{\"id\":12,\"countryCode\":\"IN\",\"country\":\"India\",\"lat\":20.593684,\"lng\":78.96288,\"totalConfirmed\":6237,\"totalDeaths\":186,\"totalRecovered\":569,\"dailyConfirmed\":321,\"dailyDeaths\":8,\"activeCases\":5482,\"totalCritical\":0,\"totalConfirmedPerMillionPopulation\":5,\"totalDeathsPerMillionPopulation\":0,\"FR\":2.9822,\"PR\":9.123,\"lastUpdated\":\"2020-04-19T10:30:40.818650Z\"}\n",
      "The response_data is:{\"id\":13,\"countryCode\":\"IN\",\"country\":\"India\",\"lat\":20.593684,\"lng\":78.96288,\"totalConfirmed\":6237,\"totalDeaths\":186,\"totalRecovered\":569,\"dailyConfirmed\":321,\"dailyDeaths\":8,\"activeCases\":5482,\"totalCritical\":0,\"totalConfirmedPerMillionPopulation\":5,\"totalDeathsPerMillionPopulation\":0,\"FR\":2.9822,\"PR\":9.123,\"lastUpdated\":\"2020-04-19T10:30:40.837964Z\"}\n",
      "The response_data is:{\"id\":14,\"countryCode\":\"IN\",\"country\":\"India\",\"lat\":20.593684,\"lng\":78.96288,\"totalConfirmed\":6237,\"totalDeaths\":186,\"totalRecovered\":569,\"dailyConfirmed\":321,\"dailyDeaths\":8,\"activeCases\":5482,\"totalCritical\":0,\"totalConfirmedPerMillionPopulation\":5,\"totalDeathsPerMillionPopulation\":0,\"FR\":2.9822,\"PR\":9.123,\"lastUpdated\":\"2020-04-19T10:30:40.888566Z\"}\n",
      "The response_data is:{\"id\":15,\"countryCode\":\"IN\",\"country\":\"India\",\"lat\":20.593684,\"lng\":78.96288,\"totalConfirmed\":6237,\"totalDeaths\":186,\"totalRecovered\":569,\"dailyConfirmed\":321,\"dailyDeaths\":8,\"activeCases\":5482,\"totalCritical\":0,\"totalConfirmedPerMillionPopulation\":5,\"totalDeathsPerMillionPopulation\":0,\"FR\":2.9822,\"PR\":9.123,\"lastUpdated\":\"2020-04-19T10:30:40.907208Z\"}\n"
     ]
    }
   ],
   "source": [
    "\n",
    "   \n",
    "# Using for loop \n",
    "for paload in data: \n",
    "    r = requests.post(url = API_ENDPOINT, data = payload) \n",
    "  \n",
    "     # extracting response text  \n",
    "\n",
    "    response_data = r.text \n",
    "    print(\"The response_data is:%s\"%response_data) "
   ]
  },
  {
   "cell_type": "code",
   "execution_count": 157,
   "metadata": {},
   "outputs": [
    {
     "ename": "ConnectionError",
     "evalue": "HTTPConnectionPool(host='34.206.109.62', port=8000): Max retries exceeded with url: /Login_generate_otp/ (Caused by NewConnectionError('<urllib3.connection.HTTPConnection object at 0x7fa7bacdf080>: Failed to establish a new connection: [Errno 111] Connection refused',))",
     "output_type": "error",
     "traceback": [
      "\u001b[0;31m---------------------------------------------------------------------------\u001b[0m",
      "\u001b[0;31mConnectionRefusedError\u001b[0m                    Traceback (most recent call last)",
      "\u001b[0;32m~/.virtualenvs/almondaiEnv/lib/python3.6/site-packages/urllib3/connection.py\u001b[0m in \u001b[0;36m_new_conn\u001b[0;34m(self)\u001b[0m\n\u001b[1;32m    156\u001b[0m             conn = connection.create_connection(\n\u001b[0;32m--> 157\u001b[0;31m                 \u001b[0;34m(\u001b[0m\u001b[0mself\u001b[0m\u001b[0;34m.\u001b[0m\u001b[0m_dns_host\u001b[0m\u001b[0;34m,\u001b[0m \u001b[0mself\u001b[0m\u001b[0;34m.\u001b[0m\u001b[0mport\u001b[0m\u001b[0;34m)\u001b[0m\u001b[0;34m,\u001b[0m \u001b[0mself\u001b[0m\u001b[0;34m.\u001b[0m\u001b[0mtimeout\u001b[0m\u001b[0;34m,\u001b[0m \u001b[0;34m**\u001b[0m\u001b[0mextra_kw\u001b[0m\u001b[0;34m\u001b[0m\u001b[0;34m\u001b[0m\u001b[0m\n\u001b[0m\u001b[1;32m    158\u001b[0m             )\n",
      "\u001b[0;32m~/.virtualenvs/almondaiEnv/lib/python3.6/site-packages/urllib3/util/connection.py\u001b[0m in \u001b[0;36mcreate_connection\u001b[0;34m(address, timeout, source_address, socket_options)\u001b[0m\n\u001b[1;32m     83\u001b[0m     \u001b[0;32mif\u001b[0m \u001b[0merr\u001b[0m \u001b[0;32mis\u001b[0m \u001b[0;32mnot\u001b[0m \u001b[0;32mNone\u001b[0m\u001b[0;34m:\u001b[0m\u001b[0;34m\u001b[0m\u001b[0;34m\u001b[0m\u001b[0m\n\u001b[0;32m---> 84\u001b[0;31m         \u001b[0;32mraise\u001b[0m \u001b[0merr\u001b[0m\u001b[0;34m\u001b[0m\u001b[0;34m\u001b[0m\u001b[0m\n\u001b[0m\u001b[1;32m     85\u001b[0m \u001b[0;34m\u001b[0m\u001b[0m\n",
      "\u001b[0;32m~/.virtualenvs/almondaiEnv/lib/python3.6/site-packages/urllib3/util/connection.py\u001b[0m in \u001b[0;36mcreate_connection\u001b[0;34m(address, timeout, source_address, socket_options)\u001b[0m\n\u001b[1;32m     73\u001b[0m                 \u001b[0msock\u001b[0m\u001b[0;34m.\u001b[0m\u001b[0mbind\u001b[0m\u001b[0;34m(\u001b[0m\u001b[0msource_address\u001b[0m\u001b[0;34m)\u001b[0m\u001b[0;34m\u001b[0m\u001b[0;34m\u001b[0m\u001b[0m\n\u001b[0;32m---> 74\u001b[0;31m             \u001b[0msock\u001b[0m\u001b[0;34m.\u001b[0m\u001b[0mconnect\u001b[0m\u001b[0;34m(\u001b[0m\u001b[0msa\u001b[0m\u001b[0;34m)\u001b[0m\u001b[0;34m\u001b[0m\u001b[0;34m\u001b[0m\u001b[0m\n\u001b[0m\u001b[1;32m     75\u001b[0m             \u001b[0;32mreturn\u001b[0m \u001b[0msock\u001b[0m\u001b[0;34m\u001b[0m\u001b[0;34m\u001b[0m\u001b[0m\n",
      "\u001b[0;31mConnectionRefusedError\u001b[0m: [Errno 111] Connection refused",
      "\nDuring handling of the above exception, another exception occurred:\n",
      "\u001b[0;31mNewConnectionError\u001b[0m                        Traceback (most recent call last)",
      "\u001b[0;32m~/.virtualenvs/almondaiEnv/lib/python3.6/site-packages/urllib3/connectionpool.py\u001b[0m in \u001b[0;36murlopen\u001b[0;34m(self, method, url, body, headers, retries, redirect, assert_same_host, timeout, pool_timeout, release_conn, chunked, body_pos, **response_kw)\u001b[0m\n\u001b[1;32m    671\u001b[0m                 \u001b[0mheaders\u001b[0m\u001b[0;34m=\u001b[0m\u001b[0mheaders\u001b[0m\u001b[0;34m,\u001b[0m\u001b[0;34m\u001b[0m\u001b[0;34m\u001b[0m\u001b[0m\n\u001b[0;32m--> 672\u001b[0;31m                 \u001b[0mchunked\u001b[0m\u001b[0;34m=\u001b[0m\u001b[0mchunked\u001b[0m\u001b[0;34m,\u001b[0m\u001b[0;34m\u001b[0m\u001b[0;34m\u001b[0m\u001b[0m\n\u001b[0m\u001b[1;32m    673\u001b[0m             )\n",
      "\u001b[0;32m~/.virtualenvs/almondaiEnv/lib/python3.6/site-packages/urllib3/connectionpool.py\u001b[0m in \u001b[0;36m_make_request\u001b[0;34m(self, conn, method, url, timeout, chunked, **httplib_request_kw)\u001b[0m\n\u001b[1;32m    386\u001b[0m         \u001b[0;32melse\u001b[0m\u001b[0;34m:\u001b[0m\u001b[0;34m\u001b[0m\u001b[0;34m\u001b[0m\u001b[0m\n\u001b[0;32m--> 387\u001b[0;31m             \u001b[0mconn\u001b[0m\u001b[0;34m.\u001b[0m\u001b[0mrequest\u001b[0m\u001b[0;34m(\u001b[0m\u001b[0mmethod\u001b[0m\u001b[0;34m,\u001b[0m \u001b[0murl\u001b[0m\u001b[0;34m,\u001b[0m \u001b[0;34m**\u001b[0m\u001b[0mhttplib_request_kw\u001b[0m\u001b[0;34m)\u001b[0m\u001b[0;34m\u001b[0m\u001b[0;34m\u001b[0m\u001b[0m\n\u001b[0m\u001b[1;32m    388\u001b[0m \u001b[0;34m\u001b[0m\u001b[0m\n",
      "\u001b[0;32m/usr/lib/python3.6/http/client.py\u001b[0m in \u001b[0;36mrequest\u001b[0;34m(self, method, url, body, headers, encode_chunked)\u001b[0m\n\u001b[1;32m   1253\u001b[0m         \u001b[0;34m\"\"\"Send a complete request to the server.\"\"\"\u001b[0m\u001b[0;34m\u001b[0m\u001b[0;34m\u001b[0m\u001b[0m\n\u001b[0;32m-> 1254\u001b[0;31m         \u001b[0mself\u001b[0m\u001b[0;34m.\u001b[0m\u001b[0m_send_request\u001b[0m\u001b[0;34m(\u001b[0m\u001b[0mmethod\u001b[0m\u001b[0;34m,\u001b[0m \u001b[0murl\u001b[0m\u001b[0;34m,\u001b[0m \u001b[0mbody\u001b[0m\u001b[0;34m,\u001b[0m \u001b[0mheaders\u001b[0m\u001b[0;34m,\u001b[0m \u001b[0mencode_chunked\u001b[0m\u001b[0;34m)\u001b[0m\u001b[0;34m\u001b[0m\u001b[0;34m\u001b[0m\u001b[0m\n\u001b[0m\u001b[1;32m   1255\u001b[0m \u001b[0;34m\u001b[0m\u001b[0m\n",
      "\u001b[0;32m/usr/lib/python3.6/http/client.py\u001b[0m in \u001b[0;36m_send_request\u001b[0;34m(self, method, url, body, headers, encode_chunked)\u001b[0m\n\u001b[1;32m   1299\u001b[0m             \u001b[0mbody\u001b[0m \u001b[0;34m=\u001b[0m \u001b[0m_encode\u001b[0m\u001b[0;34m(\u001b[0m\u001b[0mbody\u001b[0m\u001b[0;34m,\u001b[0m \u001b[0;34m'body'\u001b[0m\u001b[0;34m)\u001b[0m\u001b[0;34m\u001b[0m\u001b[0;34m\u001b[0m\u001b[0m\n\u001b[0;32m-> 1300\u001b[0;31m         \u001b[0mself\u001b[0m\u001b[0;34m.\u001b[0m\u001b[0mendheaders\u001b[0m\u001b[0;34m(\u001b[0m\u001b[0mbody\u001b[0m\u001b[0;34m,\u001b[0m \u001b[0mencode_chunked\u001b[0m\u001b[0;34m=\u001b[0m\u001b[0mencode_chunked\u001b[0m\u001b[0;34m)\u001b[0m\u001b[0;34m\u001b[0m\u001b[0;34m\u001b[0m\u001b[0m\n\u001b[0m\u001b[1;32m   1301\u001b[0m \u001b[0;34m\u001b[0m\u001b[0m\n",
      "\u001b[0;32m/usr/lib/python3.6/http/client.py\u001b[0m in \u001b[0;36mendheaders\u001b[0;34m(self, message_body, encode_chunked)\u001b[0m\n\u001b[1;32m   1248\u001b[0m             \u001b[0;32mraise\u001b[0m \u001b[0mCannotSendHeader\u001b[0m\u001b[0;34m(\u001b[0m\u001b[0;34m)\u001b[0m\u001b[0;34m\u001b[0m\u001b[0;34m\u001b[0m\u001b[0m\n\u001b[0;32m-> 1249\u001b[0;31m         \u001b[0mself\u001b[0m\u001b[0;34m.\u001b[0m\u001b[0m_send_output\u001b[0m\u001b[0;34m(\u001b[0m\u001b[0mmessage_body\u001b[0m\u001b[0;34m,\u001b[0m \u001b[0mencode_chunked\u001b[0m\u001b[0;34m=\u001b[0m\u001b[0mencode_chunked\u001b[0m\u001b[0;34m)\u001b[0m\u001b[0;34m\u001b[0m\u001b[0;34m\u001b[0m\u001b[0m\n\u001b[0m\u001b[1;32m   1250\u001b[0m \u001b[0;34m\u001b[0m\u001b[0m\n",
      "\u001b[0;32m/usr/lib/python3.6/http/client.py\u001b[0m in \u001b[0;36m_send_output\u001b[0;34m(self, message_body, encode_chunked)\u001b[0m\n\u001b[1;32m   1035\u001b[0m         \u001b[0;32mdel\u001b[0m \u001b[0mself\u001b[0m\u001b[0;34m.\u001b[0m\u001b[0m_buffer\u001b[0m\u001b[0;34m[\u001b[0m\u001b[0;34m:\u001b[0m\u001b[0;34m]\u001b[0m\u001b[0;34m\u001b[0m\u001b[0;34m\u001b[0m\u001b[0m\n\u001b[0;32m-> 1036\u001b[0;31m         \u001b[0mself\u001b[0m\u001b[0;34m.\u001b[0m\u001b[0msend\u001b[0m\u001b[0;34m(\u001b[0m\u001b[0mmsg\u001b[0m\u001b[0;34m)\u001b[0m\u001b[0;34m\u001b[0m\u001b[0;34m\u001b[0m\u001b[0m\n\u001b[0m\u001b[1;32m   1037\u001b[0m \u001b[0;34m\u001b[0m\u001b[0m\n",
      "\u001b[0;32m/usr/lib/python3.6/http/client.py\u001b[0m in \u001b[0;36msend\u001b[0;34m(self, data)\u001b[0m\n\u001b[1;32m    973\u001b[0m             \u001b[0;32mif\u001b[0m \u001b[0mself\u001b[0m\u001b[0;34m.\u001b[0m\u001b[0mauto_open\u001b[0m\u001b[0;34m:\u001b[0m\u001b[0;34m\u001b[0m\u001b[0;34m\u001b[0m\u001b[0m\n\u001b[0;32m--> 974\u001b[0;31m                 \u001b[0mself\u001b[0m\u001b[0;34m.\u001b[0m\u001b[0mconnect\u001b[0m\u001b[0;34m(\u001b[0m\u001b[0;34m)\u001b[0m\u001b[0;34m\u001b[0m\u001b[0;34m\u001b[0m\u001b[0m\n\u001b[0m\u001b[1;32m    975\u001b[0m             \u001b[0;32melse\u001b[0m\u001b[0;34m:\u001b[0m\u001b[0;34m\u001b[0m\u001b[0;34m\u001b[0m\u001b[0m\n",
      "\u001b[0;32m~/.virtualenvs/almondaiEnv/lib/python3.6/site-packages/urllib3/connection.py\u001b[0m in \u001b[0;36mconnect\u001b[0;34m(self)\u001b[0m\n\u001b[1;32m    183\u001b[0m     \u001b[0;32mdef\u001b[0m \u001b[0mconnect\u001b[0m\u001b[0;34m(\u001b[0m\u001b[0mself\u001b[0m\u001b[0;34m)\u001b[0m\u001b[0;34m:\u001b[0m\u001b[0;34m\u001b[0m\u001b[0;34m\u001b[0m\u001b[0m\n\u001b[0;32m--> 184\u001b[0;31m         \u001b[0mconn\u001b[0m \u001b[0;34m=\u001b[0m \u001b[0mself\u001b[0m\u001b[0;34m.\u001b[0m\u001b[0m_new_conn\u001b[0m\u001b[0;34m(\u001b[0m\u001b[0;34m)\u001b[0m\u001b[0;34m\u001b[0m\u001b[0;34m\u001b[0m\u001b[0m\n\u001b[0m\u001b[1;32m    185\u001b[0m         \u001b[0mself\u001b[0m\u001b[0;34m.\u001b[0m\u001b[0m_prepare_conn\u001b[0m\u001b[0;34m(\u001b[0m\u001b[0mconn\u001b[0m\u001b[0;34m)\u001b[0m\u001b[0;34m\u001b[0m\u001b[0;34m\u001b[0m\u001b[0m\n",
      "\u001b[0;32m~/.virtualenvs/almondaiEnv/lib/python3.6/site-packages/urllib3/connection.py\u001b[0m in \u001b[0;36m_new_conn\u001b[0;34m(self)\u001b[0m\n\u001b[1;32m    168\u001b[0m             raise NewConnectionError(\n\u001b[0;32m--> 169\u001b[0;31m                 \u001b[0mself\u001b[0m\u001b[0;34m,\u001b[0m \u001b[0;34m\"Failed to establish a new connection: %s\"\u001b[0m \u001b[0;34m%\u001b[0m \u001b[0me\u001b[0m\u001b[0;34m\u001b[0m\u001b[0;34m\u001b[0m\u001b[0m\n\u001b[0m\u001b[1;32m    170\u001b[0m             )\n",
      "\u001b[0;31mNewConnectionError\u001b[0m: <urllib3.connection.HTTPConnection object at 0x7fa7bacdf080>: Failed to establish a new connection: [Errno 111] Connection refused",
      "\nDuring handling of the above exception, another exception occurred:\n",
      "\u001b[0;31mMaxRetryError\u001b[0m                             Traceback (most recent call last)",
      "\u001b[0;32m~/.virtualenvs/almondaiEnv/lib/python3.6/site-packages/requests/adapters.py\u001b[0m in \u001b[0;36msend\u001b[0;34m(self, request, stream, timeout, verify, cert, proxies)\u001b[0m\n\u001b[1;32m    448\u001b[0m                     \u001b[0mretries\u001b[0m\u001b[0;34m=\u001b[0m\u001b[0mself\u001b[0m\u001b[0;34m.\u001b[0m\u001b[0mmax_retries\u001b[0m\u001b[0;34m,\u001b[0m\u001b[0;34m\u001b[0m\u001b[0;34m\u001b[0m\u001b[0m\n\u001b[0;32m--> 449\u001b[0;31m                     \u001b[0mtimeout\u001b[0m\u001b[0;34m=\u001b[0m\u001b[0mtimeout\u001b[0m\u001b[0;34m\u001b[0m\u001b[0;34m\u001b[0m\u001b[0m\n\u001b[0m\u001b[1;32m    450\u001b[0m                 )\n",
      "\u001b[0;32m~/.virtualenvs/almondaiEnv/lib/python3.6/site-packages/urllib3/connectionpool.py\u001b[0m in \u001b[0;36murlopen\u001b[0;34m(self, method, url, body, headers, retries, redirect, assert_same_host, timeout, pool_timeout, release_conn, chunked, body_pos, **response_kw)\u001b[0m\n\u001b[1;32m    719\u001b[0m             retries = retries.increment(\n\u001b[0;32m--> 720\u001b[0;31m                 \u001b[0mmethod\u001b[0m\u001b[0;34m,\u001b[0m \u001b[0murl\u001b[0m\u001b[0;34m,\u001b[0m \u001b[0merror\u001b[0m\u001b[0;34m=\u001b[0m\u001b[0me\u001b[0m\u001b[0;34m,\u001b[0m \u001b[0m_pool\u001b[0m\u001b[0;34m=\u001b[0m\u001b[0mself\u001b[0m\u001b[0;34m,\u001b[0m \u001b[0m_stacktrace\u001b[0m\u001b[0;34m=\u001b[0m\u001b[0msys\u001b[0m\u001b[0;34m.\u001b[0m\u001b[0mexc_info\u001b[0m\u001b[0;34m(\u001b[0m\u001b[0;34m)\u001b[0m\u001b[0;34m[\u001b[0m\u001b[0;36m2\u001b[0m\u001b[0;34m]\u001b[0m\u001b[0;34m\u001b[0m\u001b[0;34m\u001b[0m\u001b[0m\n\u001b[0m\u001b[1;32m    721\u001b[0m             )\n",
      "\u001b[0;32m~/.virtualenvs/almondaiEnv/lib/python3.6/site-packages/urllib3/util/retry.py\u001b[0m in \u001b[0;36mincrement\u001b[0;34m(self, method, url, response, error, _pool, _stacktrace)\u001b[0m\n\u001b[1;32m    435\u001b[0m         \u001b[0;32mif\u001b[0m \u001b[0mnew_retry\u001b[0m\u001b[0;34m.\u001b[0m\u001b[0mis_exhausted\u001b[0m\u001b[0;34m(\u001b[0m\u001b[0;34m)\u001b[0m\u001b[0;34m:\u001b[0m\u001b[0;34m\u001b[0m\u001b[0;34m\u001b[0m\u001b[0m\n\u001b[0;32m--> 436\u001b[0;31m             \u001b[0;32mraise\u001b[0m \u001b[0mMaxRetryError\u001b[0m\u001b[0;34m(\u001b[0m\u001b[0m_pool\u001b[0m\u001b[0;34m,\u001b[0m \u001b[0murl\u001b[0m\u001b[0;34m,\u001b[0m \u001b[0merror\u001b[0m \u001b[0;32mor\u001b[0m \u001b[0mResponseError\u001b[0m\u001b[0;34m(\u001b[0m\u001b[0mcause\u001b[0m\u001b[0;34m)\u001b[0m\u001b[0;34m)\u001b[0m\u001b[0;34m\u001b[0m\u001b[0;34m\u001b[0m\u001b[0m\n\u001b[0m\u001b[1;32m    437\u001b[0m \u001b[0;34m\u001b[0m\u001b[0m\n",
      "\u001b[0;31mMaxRetryError\u001b[0m: HTTPConnectionPool(host='34.206.109.62', port=8000): Max retries exceeded with url: /Login_generate_otp/ (Caused by NewConnectionError('<urllib3.connection.HTTPConnection object at 0x7fa7bacdf080>: Failed to establish a new connection: [Errno 111] Connection refused',))",
      "\nDuring handling of the above exception, another exception occurred:\n",
      "\u001b[0;31mConnectionError\u001b[0m                           Traceback (most recent call last)",
      "\u001b[0;32m<ipython-input-157-4ea323215366>\u001b[0m in \u001b[0;36m<module>\u001b[0;34m\u001b[0m\n\u001b[1;32m      3\u001b[0m   \u001b[0;34m'phone'\u001b[0m\u001b[0;34m:\u001b[0m \u001b[0;34m'5555555555'\u001b[0m\u001b[0;34m,\u001b[0m\u001b[0;34m\u001b[0m\u001b[0;34m\u001b[0m\u001b[0m\n\u001b[1;32m      4\u001b[0m   \u001b[0;34m'userid'\u001b[0m\u001b[0;34m:\u001b[0m \u001b[0;34m'myuser@site.com'\u001b[0m\u001b[0;34m,\u001b[0m\u001b[0;34m\u001b[0m\u001b[0;34m\u001b[0m\u001b[0m\n\u001b[0;32m----> 5\u001b[0;31m   \u001b[0;34m'key'\u001b[0m\u001b[0;34m:\u001b[0m \u001b[0;34m'example_otp_key'\u001b[0m\u001b[0;34m,\u001b[0m\u001b[0;34m\u001b[0m\u001b[0;34m\u001b[0m\u001b[0m\n\u001b[0m\u001b[1;32m      6\u001b[0m })\n\u001b[1;32m      7\u001b[0m \u001b[0mprint\u001b[0m\u001b[0;34m(\u001b[0m\u001b[0mresp\u001b[0m\u001b[0;34m.\u001b[0m\u001b[0mjson\u001b[0m\u001b[0;34m(\u001b[0m\u001b[0;34m)\u001b[0m\u001b[0;34m)\u001b[0m\u001b[0;34m\u001b[0m\u001b[0;34m\u001b[0m\u001b[0m\n",
      "\u001b[0;32m~/.virtualenvs/almondaiEnv/lib/python3.6/site-packages/requests/api.py\u001b[0m in \u001b[0;36mpost\u001b[0;34m(url, data, json, **kwargs)\u001b[0m\n\u001b[1;32m    117\u001b[0m     \"\"\"\n\u001b[1;32m    118\u001b[0m \u001b[0;34m\u001b[0m\u001b[0m\n\u001b[0;32m--> 119\u001b[0;31m     \u001b[0;32mreturn\u001b[0m \u001b[0mrequest\u001b[0m\u001b[0;34m(\u001b[0m\u001b[0;34m'post'\u001b[0m\u001b[0;34m,\u001b[0m \u001b[0murl\u001b[0m\u001b[0;34m,\u001b[0m \u001b[0mdata\u001b[0m\u001b[0;34m=\u001b[0m\u001b[0mdata\u001b[0m\u001b[0;34m,\u001b[0m \u001b[0mjson\u001b[0m\u001b[0;34m=\u001b[0m\u001b[0mjson\u001b[0m\u001b[0;34m,\u001b[0m \u001b[0;34m**\u001b[0m\u001b[0mkwargs\u001b[0m\u001b[0;34m)\u001b[0m\u001b[0;34m\u001b[0m\u001b[0;34m\u001b[0m\u001b[0m\n\u001b[0m\u001b[1;32m    120\u001b[0m \u001b[0;34m\u001b[0m\u001b[0m\n\u001b[1;32m    121\u001b[0m \u001b[0;34m\u001b[0m\u001b[0m\n",
      "\u001b[0;32m~/.virtualenvs/almondaiEnv/lib/python3.6/site-packages/requests/api.py\u001b[0m in \u001b[0;36mrequest\u001b[0;34m(method, url, **kwargs)\u001b[0m\n\u001b[1;32m     59\u001b[0m     \u001b[0;31m# cases, and look like a memory leak in others.\u001b[0m\u001b[0;34m\u001b[0m\u001b[0;34m\u001b[0m\u001b[0;34m\u001b[0m\u001b[0m\n\u001b[1;32m     60\u001b[0m     \u001b[0;32mwith\u001b[0m \u001b[0msessions\u001b[0m\u001b[0;34m.\u001b[0m\u001b[0mSession\u001b[0m\u001b[0;34m(\u001b[0m\u001b[0;34m)\u001b[0m \u001b[0;32mas\u001b[0m \u001b[0msession\u001b[0m\u001b[0;34m:\u001b[0m\u001b[0;34m\u001b[0m\u001b[0;34m\u001b[0m\u001b[0m\n\u001b[0;32m---> 61\u001b[0;31m         \u001b[0;32mreturn\u001b[0m \u001b[0msession\u001b[0m\u001b[0;34m.\u001b[0m\u001b[0mrequest\u001b[0m\u001b[0;34m(\u001b[0m\u001b[0mmethod\u001b[0m\u001b[0;34m=\u001b[0m\u001b[0mmethod\u001b[0m\u001b[0;34m,\u001b[0m \u001b[0murl\u001b[0m\u001b[0;34m=\u001b[0m\u001b[0murl\u001b[0m\u001b[0;34m,\u001b[0m \u001b[0;34m**\u001b[0m\u001b[0mkwargs\u001b[0m\u001b[0;34m)\u001b[0m\u001b[0;34m\u001b[0m\u001b[0;34m\u001b[0m\u001b[0m\n\u001b[0m\u001b[1;32m     62\u001b[0m \u001b[0;34m\u001b[0m\u001b[0m\n\u001b[1;32m     63\u001b[0m \u001b[0;34m\u001b[0m\u001b[0m\n",
      "\u001b[0;32m~/.virtualenvs/almondaiEnv/lib/python3.6/site-packages/requests/sessions.py\u001b[0m in \u001b[0;36mrequest\u001b[0;34m(self, method, url, params, data, headers, cookies, files, auth, timeout, allow_redirects, proxies, hooks, stream, verify, cert, json)\u001b[0m\n\u001b[1;32m    528\u001b[0m         }\n\u001b[1;32m    529\u001b[0m         \u001b[0msend_kwargs\u001b[0m\u001b[0;34m.\u001b[0m\u001b[0mupdate\u001b[0m\u001b[0;34m(\u001b[0m\u001b[0msettings\u001b[0m\u001b[0;34m)\u001b[0m\u001b[0;34m\u001b[0m\u001b[0;34m\u001b[0m\u001b[0m\n\u001b[0;32m--> 530\u001b[0;31m         \u001b[0mresp\u001b[0m \u001b[0;34m=\u001b[0m \u001b[0mself\u001b[0m\u001b[0;34m.\u001b[0m\u001b[0msend\u001b[0m\u001b[0;34m(\u001b[0m\u001b[0mprep\u001b[0m\u001b[0;34m,\u001b[0m \u001b[0;34m**\u001b[0m\u001b[0msend_kwargs\u001b[0m\u001b[0;34m)\u001b[0m\u001b[0;34m\u001b[0m\u001b[0;34m\u001b[0m\u001b[0m\n\u001b[0m\u001b[1;32m    531\u001b[0m \u001b[0;34m\u001b[0m\u001b[0m\n\u001b[1;32m    532\u001b[0m         \u001b[0;32mreturn\u001b[0m \u001b[0mresp\u001b[0m\u001b[0;34m\u001b[0m\u001b[0;34m\u001b[0m\u001b[0m\n",
      "\u001b[0;32m~/.virtualenvs/almondaiEnv/lib/python3.6/site-packages/requests/sessions.py\u001b[0m in \u001b[0;36msend\u001b[0;34m(self, request, **kwargs)\u001b[0m\n\u001b[1;32m    641\u001b[0m \u001b[0;34m\u001b[0m\u001b[0m\n\u001b[1;32m    642\u001b[0m         \u001b[0;31m# Send the request\u001b[0m\u001b[0;34m\u001b[0m\u001b[0;34m\u001b[0m\u001b[0;34m\u001b[0m\u001b[0m\n\u001b[0;32m--> 643\u001b[0;31m         \u001b[0mr\u001b[0m \u001b[0;34m=\u001b[0m \u001b[0madapter\u001b[0m\u001b[0;34m.\u001b[0m\u001b[0msend\u001b[0m\u001b[0;34m(\u001b[0m\u001b[0mrequest\u001b[0m\u001b[0;34m,\u001b[0m \u001b[0;34m**\u001b[0m\u001b[0mkwargs\u001b[0m\u001b[0;34m)\u001b[0m\u001b[0;34m\u001b[0m\u001b[0;34m\u001b[0m\u001b[0m\n\u001b[0m\u001b[1;32m    644\u001b[0m \u001b[0;34m\u001b[0m\u001b[0m\n\u001b[1;32m    645\u001b[0m         \u001b[0;31m# Total elapsed time of the request (approximately)\u001b[0m\u001b[0;34m\u001b[0m\u001b[0;34m\u001b[0m\u001b[0;34m\u001b[0m\u001b[0m\n",
      "\u001b[0;32m~/.virtualenvs/almondaiEnv/lib/python3.6/site-packages/requests/adapters.py\u001b[0m in \u001b[0;36msend\u001b[0;34m(self, request, stream, timeout, verify, cert, proxies)\u001b[0m\n\u001b[1;32m    514\u001b[0m                 \u001b[0;32mraise\u001b[0m \u001b[0mSSLError\u001b[0m\u001b[0;34m(\u001b[0m\u001b[0me\u001b[0m\u001b[0;34m,\u001b[0m \u001b[0mrequest\u001b[0m\u001b[0;34m=\u001b[0m\u001b[0mrequest\u001b[0m\u001b[0;34m)\u001b[0m\u001b[0;34m\u001b[0m\u001b[0;34m\u001b[0m\u001b[0m\n\u001b[1;32m    515\u001b[0m \u001b[0;34m\u001b[0m\u001b[0m\n\u001b[0;32m--> 516\u001b[0;31m             \u001b[0;32mraise\u001b[0m \u001b[0mConnectionError\u001b[0m\u001b[0;34m(\u001b[0m\u001b[0me\u001b[0m\u001b[0;34m,\u001b[0m \u001b[0mrequest\u001b[0m\u001b[0;34m=\u001b[0m\u001b[0mrequest\u001b[0m\u001b[0;34m)\u001b[0m\u001b[0;34m\u001b[0m\u001b[0;34m\u001b[0m\u001b[0m\n\u001b[0m\u001b[1;32m    517\u001b[0m \u001b[0;34m\u001b[0m\u001b[0m\n\u001b[1;32m    518\u001b[0m         \u001b[0;32mexcept\u001b[0m \u001b[0mClosedPoolError\u001b[0m \u001b[0;32mas\u001b[0m \u001b[0me\u001b[0m\u001b[0;34m:\u001b[0m\u001b[0;34m\u001b[0m\u001b[0;34m\u001b[0m\u001b[0m\n",
      "\u001b[0;31mConnectionError\u001b[0m: HTTPConnectionPool(host='34.206.109.62', port=8000): Max retries exceeded with url: /Login_generate_otp/ (Caused by NewConnectionError('<urllib3.connection.HTTPConnection object at 0x7fa7bacdf080>: Failed to establish a new connection: [Errno 111] Connection refused',))"
     ]
    }
   ],
   "source": [
    "import requests\n",
    "resp = requests.post('http://34.206.109.62:8000/Login_generate_otp/', {\n",
    "  'phone': '5555555555',\n",
    "  'userid': 'myuser@site.com',\n",
    "  'key': 'example_otp_key',\n",
    "})\n",
    "print(resp.json())"
   ]
  },
  {
   "cell_type": "markdown",
   "metadata": {},
   "source": [
    "# oops concept"
   ]
  },
  {
   "cell_type": "code",
   "execution_count": 163,
   "metadata": {},
   "outputs": [
    {
     "name": "stdout",
     "output_type": "stream",
     "text": [
      "compiling2\n"
     ]
    }
   ],
   "source": [
    "# polymorphism..\n",
    "class laptop:\n",
    "    def code(self,ide):\n",
    "        ide.execute()\n",
    "        \n",
    "class pycharm:\n",
    "    def execute(self):\n",
    "        print(\"compiling1\")\n",
    "        \n",
    "class mycharm:\n",
    "    def execute(self):\n",
    "        print(\"compiling2\")\n",
    "        \n",
    "        \n",
    "ide=mycharm()\n",
    "lap1=laptop()\n",
    "lap1.code(ide)\n",
    "\n",
    "        \n",
    "        "
   ]
  },
  {
   "cell_type": "code",
   "execution_count": 164,
   "metadata": {},
   "outputs": [
    {
     "name": "stdout",
     "output_type": "stream",
     "text": [
      "1024\n"
     ]
    }
   ],
   "source": [
    "a=4\n",
    "b=5\n",
    "z=(a**b)\n",
    "print(z)"
   ]
  },
  {
   "cell_type": "markdown",
   "metadata": {},
   "source": [
    "# python class"
   ]
  },
  {
   "cell_type": "code",
   "execution_count": 166,
   "metadata": {},
   "outputs": [
    {
     "name": "stdout",
     "output_type": "stream",
     "text": [
      "Name :  sangita , Salary:  20000\n",
      "None\n",
      "Name :  shiva , Salary:  40000\n",
      "None\n",
      "Total Employee: 2\n",
      "None\n",
      "2\n"
     ]
    }
   ],
   "source": [
    "# class\n",
    "class Employee:\n",
    "    '''Common base class for all employees\n",
    "    this is a test employee'''\n",
    "    empCount = 0  #local variable (applicable only for that class)\n",
    "\n",
    "    def __init__(self,name, salary):    #__init__ is like initialization that is nothing but \n",
    "                                        #__del__() is called destructor which destroys the created arguements and its values and memory will be released\n",
    "                                         # a blueprint to create actual values passed through self.name = name\n",
    "        self.salary = salary            #actual object\n",
    "        self.name=name                  #self is nothing but a reference to the current object/instance of the class\n",
    "        Employee.empCount += 1\n",
    "   \n",
    "    def displayCount(self):        \n",
    "        print(\"Total Employee: %d\" % Employee.empCount)\n",
    "\n",
    "    def displayEmployee(self):\n",
    "        print(\"Name : \", self.name,  \", Salary: \", self.salary)\n",
    "        \n",
    "e=Employee('sangita',20000)  \n",
    "f=Employee('shiva',40000)\n",
    "\n",
    "print(e.displayEmployee())\n",
    "print(f.displayEmployee())\n",
    "print(f.displayCount())\n",
    "print(Employee.empCount)    #a class variable can be accessed by classname.variable_name\n",
    "\n",
    "#print(Employee.__doc__)"
   ]
  },
  {
   "cell_type": "code",
   "execution_count": 174,
   "metadata": {},
   "outputs": [
    {
     "name": "stdout",
     "output_type": "stream",
     "text": [
      "4\n",
      "140358370383744 10968768 140358370383744\n"
     ]
    }
   ],
   "source": [
    "# destructor\n",
    "class Point:\n",
    "    def __init__(self,x=0,y=0):            #__del__() is a destructor which is called after execution of all\n",
    "                                           #operations using objects. once the execution is done, the objects,\n",
    "                                           #variables, values are destroyed\n",
    "        self.x=x\n",
    "        self.y=y\n",
    "    def __del__(self):\n",
    "        class_name=self.__class__.__name__\n",
    "        print(class_name,\"destroyed\")\n",
    "    def display(self):\n",
    "        print(self.x)\n",
    "e=Point(4,5)\n",
    "K=e\n",
    "y=e\n",
    "e.display()\n",
    "print(id(e),id(k),id(y))\n"
   ]
  },
  {
   "cell_type": "code",
   "execution_count": 196,
   "metadata": {},
   "outputs": [
    {
     "name": "stdout",
     "output_type": "stream",
     "text": [
      "Calling child constructor\n",
      "Calling child method\n",
      "Parent attribute : 7\n",
      "Parent attribute : 7\n",
      "this is child1 constructor\n",
      "Calling child method\n"
     ]
    }
   ],
   "source": [
    "# SINGLE EVEL INHERITENCE\n",
    "\n",
    "class Parent:\n",
    "    def __init__(self):\n",
    "        print(\"parent_counstructor\")\n",
    "    def parent(self):\n",
    "        print(\"parent method\")\n",
    "    def setAttr(self,attr):\n",
    "        Parent.parentAttr=attr\n",
    "        print (\"Parent attribute :\", Parent.parentAttr)\n",
    "    def getAttr(self):\n",
    "        print (\"Parent attribute :\", Parent.parentAttr)\n",
    "\n",
    "\n",
    "class Child(Parent): # define child class\n",
    "    def __init__(self):\n",
    "        print (\"Calling child constructor\")\n",
    "\n",
    "    def parentMethod(self):\n",
    "        print ('Calling child method')\n",
    "        \n",
    "class Child1(Child,Parent):\n",
    "    def __init__(self):\n",
    "        print('this is child1 constructor')\n",
    "    def child1method(self):\n",
    "        print('calling child1 method')\n",
    "e=Child()\n",
    "e.parentMethod()\n",
    "e.setAttr(7)\n",
    "e.getAttr()\n",
    "f= Child1()\n",
    "f.parentMethod()\n",
    "        "
   ]
  },
  {
   "cell_type": "code",
   "execution_count": 199,
   "metadata": {},
   "outputs": [
    {
     "name": "stdout",
     "output_type": "stream",
     "text": [
      "start engin\n",
      "i have two wheelor vehicle\n",
      "stop engin\n"
     ]
    }
   ],
   "source": [
    "# MULTILEVEL iNHERITENCE\n",
    "class vehicle:\n",
    "    def start(self):\n",
    "        print(\"start engin\")\n",
    "    def stop(self):\n",
    "        print(\"stop engin\")\n",
    "        \n",
    "class twowheelor(vehicle):\n",
    "    def say(self):\n",
    "        super().start()                     #super() method/keyword is used to call parent class methods from child class\n",
    "        print(\"i have two wheelor vehicle\")\n",
    "        super().stop()\n",
    "        \n",
    "class threewheelor(twowheelor):\n",
    "    def threewheelor(self):\n",
    "        super().say()\n",
    "        \n",
    "p= threewheelor()\n",
    "p.threewheelor()\n",
    "        "
   ]
  },
  {
   "cell_type": "markdown",
   "metadata": {},
   "source": [
    "Hybrid inheritance:\n",
    "-------------------\n",
    "the same base class can be inherited to all the child classes is called hybrid inheritance\n",
    "\n",
    "\n",
    "\n",
    "access modifiers:\n",
    "------------------\n",
    "private (prefix is double underscore(__)), public and protected(prefix is single underscore(_))\n",
    "\n"
   ]
  },
  {
   "cell_type": "markdown",
   "metadata": {},
   "source": [
    "public, private and protected are applicable both for methods and also variables within the class\n",
    "__ double for private single_for protected or public\n",
    "\n",
    "protected variable:\n",
    "-------------------\n",
    "class Computer:\n",
    "    def __init__(self):\n",
    "        self._maxprice=900\n",
    "    def sell(self):\n",
    "        print(\"selling price:{}\".format(self._maxprice))\n",
    "  \n",
    "    def setMaxPrice(self,price):\n",
    "        self._maxprice=price\n",
    "\n",
    "c=Computer()\n",
    "c.sell()\n",
    "c._maxprice=1000\n",
    "c.sell()\n",
    "c.setMaxPrice(1000)\n",
    "c.sell()\n"
   ]
  },
  {
   "cell_type": "markdown",
   "metadata": {},
   "source": [
    "\n",
    "class Computer:\n",
    "    def __init__(self):\n",
    "        self.__maxprice=900\n",
    "    def sell(self):\n",
    "        print(\"selling price:{}\".format(self.__maxprice))\n",
    "  \n",
    "    def setMaxPrice(self,price):\n",
    "        self.__maxprice=price\n",
    "\n",
    "c=Computer()\n",
    "c.sell()\n",
    "c.__maxprice=1000\n",
    "c.sell()\n",
    "c.setMaxPrice(1000)\n",
    "c.sell()\n",
    "\n",
    "output:\n",
    "-------\n",
    "selling price:900\n",
    "selling price:900"
   ]
  },
  {
   "cell_type": "code",
   "execution_count": 202,
   "metadata": {},
   "outputs": [
    {
     "name": "stdout",
     "output_type": "stream",
     "text": [
      "6\n"
     ]
    }
   ],
   "source": [
    "# protected ,private,variable in encapsulation\n",
    "class geek:\n",
    "    def __init__(self,age=0):\n",
    "        self._age=age\n",
    "    def get_age(self):\n",
    "        return self._age\n",
    "    def set_age(self,x):\n",
    "        self._age=x\n",
    "raj=geek(5)\n",
    "raj.set_age(6)\n",
    "raj.get_age()\n",
    "print(raj._age)"
   ]
  },
  {
   "cell_type": "code",
   "execution_count": 204,
   "metadata": {},
   "outputs": [
    {
     "ename": "AttributeError",
     "evalue": "'geek' object has no attribute '__age'",
     "output_type": "error",
     "traceback": [
      "\u001b[0;31m---------------------------------------------------------------------------\u001b[0m",
      "\u001b[0;31mAttributeError\u001b[0m                            Traceback (most recent call last)",
      "\u001b[0;32m<ipython-input-204-8b2c8838907d>\u001b[0m in \u001b[0;36m<module>\u001b[0;34m\u001b[0m\n\u001b[1;32m     13\u001b[0m \u001b[0mraj\u001b[0m\u001b[0;34m.\u001b[0m\u001b[0mset_age\u001b[0m\u001b[0;34m(\u001b[0m\u001b[0;36m6\u001b[0m\u001b[0;34m)\u001b[0m\u001b[0;34m\u001b[0m\u001b[0;34m\u001b[0m\u001b[0m\n\u001b[1;32m     14\u001b[0m \u001b[0mraj\u001b[0m\u001b[0;34m.\u001b[0m\u001b[0mget_age\u001b[0m\u001b[0;34m(\u001b[0m\u001b[0;34m)\u001b[0m\u001b[0;34m\u001b[0m\u001b[0;34m\u001b[0m\u001b[0m\n\u001b[0;32m---> 15\u001b[0;31m \u001b[0mprint\u001b[0m\u001b[0;34m(\u001b[0m\u001b[0mraj\u001b[0m\u001b[0;34m.\u001b[0m\u001b[0m__age\u001b[0m\u001b[0;34m)\u001b[0m  \u001b[0;31m#because private variable is not accessible\u001b[0m\u001b[0;34m\u001b[0m\u001b[0;34m\u001b[0m\u001b[0m\n\u001b[0m",
      "\u001b[0;31mAttributeError\u001b[0m: 'geek' object has no attribute '__age'"
     ]
    }
   ],
   "source": [
    "#private variable example:\n",
    "\n",
    "\n",
    "class geek:\n",
    "    def __init__(self,age=0):\n",
    "        self.__age=age\n",
    "    def get_age(self):\n",
    "        return self.__age\n",
    "    def set_age(self,x):\n",
    "        self.__age=x\n",
    "    \n",
    "raj=geek(5)\n",
    "raj.set_age(6)\n",
    "raj.get_age()\n",
    "print(raj.__age)  #because private variable is not accessible\t\n"
   ]
  },
  {
   "cell_type": "code",
   "execution_count": 213,
   "metadata": {},
   "outputs": [
    {
     "name": "stdout",
     "output_type": "stream",
     "text": [
      "setter method called\n",
      "del method called\n",
      "getter method called\n"
     ]
    },
    {
     "ename": "AttributeError",
     "evalue": "'geek' object has no attribute '_geek__age'",
     "output_type": "error",
     "traceback": [
      "\u001b[0;31m---------------------------------------------------------------------------\u001b[0m",
      "\u001b[0;31mAttributeError\u001b[0m                            Traceback (most recent call last)",
      "\u001b[0;32m<ipython-input-213-d16a2a8617bb>\u001b[0m in \u001b[0;36m<module>\u001b[0;34m\u001b[0m\n\u001b[1;32m     22\u001b[0m \u001b[0mmark\u001b[0m\u001b[0;34m.\u001b[0m\u001b[0mage\u001b[0m \u001b[0;34m=\u001b[0m \u001b[0;36m10\u001b[0m\u001b[0;34m\u001b[0m\u001b[0;34m\u001b[0m\u001b[0m\n\u001b[1;32m     23\u001b[0m \u001b[0mmark\u001b[0m\u001b[0;34m.\u001b[0m\u001b[0mdel_age\u001b[0m\u001b[0;34m(\u001b[0m\u001b[0;34m)\u001b[0m\u001b[0;34m\u001b[0m\u001b[0;34m\u001b[0m\u001b[0m\n\u001b[0;32m---> 24\u001b[0;31m \u001b[0mprint\u001b[0m\u001b[0;34m(\u001b[0m\u001b[0mmark\u001b[0m\u001b[0;34m.\u001b[0m\u001b[0mage\u001b[0m\u001b[0;34m)\u001b[0m\u001b[0;34m\u001b[0m\u001b[0;34m\u001b[0m\u001b[0m\n\u001b[0m\u001b[1;32m     25\u001b[0m \u001b[0;34m\u001b[0m\u001b[0m\n",
      "\u001b[0;32m<ipython-input-213-d16a2a8617bb>\u001b[0m in \u001b[0;36mget_age\u001b[0;34m(self)\u001b[0m\n\u001b[1;32m      7\u001b[0m     \u001b[0;32mdef\u001b[0m \u001b[0mget_age\u001b[0m\u001b[0;34m(\u001b[0m\u001b[0mself\u001b[0m\u001b[0;34m)\u001b[0m\u001b[0;34m:\u001b[0m\u001b[0;34m\u001b[0m\u001b[0;34m\u001b[0m\u001b[0m\n\u001b[1;32m      8\u001b[0m         \u001b[0mprint\u001b[0m\u001b[0;34m(\u001b[0m\u001b[0;34m\"getter method called\"\u001b[0m\u001b[0;34m)\u001b[0m\u001b[0;34m\u001b[0m\u001b[0;34m\u001b[0m\u001b[0m\n\u001b[0;32m----> 9\u001b[0;31m         \u001b[0;32mreturn\u001b[0m \u001b[0mself\u001b[0m\u001b[0;34m.\u001b[0m\u001b[0m__age\u001b[0m\u001b[0;34m\u001b[0m\u001b[0;34m\u001b[0m\u001b[0m\n\u001b[0m\u001b[1;32m     10\u001b[0m \u001b[0;34m\u001b[0m\u001b[0m\n\u001b[1;32m     11\u001b[0m     \u001b[0;32mdef\u001b[0m \u001b[0mset_age\u001b[0m\u001b[0;34m(\u001b[0m\u001b[0mself\u001b[0m\u001b[0;34m,\u001b[0m\u001b[0mx\u001b[0m\u001b[0;34m)\u001b[0m\u001b[0;34m:\u001b[0m\u001b[0;34m\u001b[0m\u001b[0;34m\u001b[0m\u001b[0m\n",
      "\u001b[0;31mAttributeError\u001b[0m: 'geek' object has no attribute '_geek__age'"
     ]
    }
   ],
   "source": [
    "#encapsulation using setter and getter methods with property function:\n",
    "\n",
    "class geek:\n",
    "    def __init__(self,age=0):\n",
    "        self.__age=age\n",
    "        \n",
    "    def get_age(self):\n",
    "        print(\"getter method called\") \n",
    "        return self.__age\n",
    "    \n",
    "    def set_age(self,x):\n",
    "        print(\"setter method called\") \n",
    "        self.__age=x\n",
    "        \n",
    "    def del_age(self):\n",
    "        del self.__age \n",
    "        print(\"del method called\")\n",
    "        \n",
    "    age=property(get_age,set_age,del_age)\n",
    "    \n",
    "mark = geek()   \n",
    "mark.age = 10  \n",
    "mark.del_age()\n",
    "print(mark.age) \n",
    "\n"
   ]
  },
  {
   "cell_type": "code",
   "execution_count": 212,
   "metadata": {},
   "outputs": [],
   "source": [
    "class animal:\n",
    "    def __init__(self,name):\n",
    "        self.name=name\n",
    "class dog:\n",
    "    def display(self):\n",
    "        print(self.name)\n",
    "d=dog()\n",
    "d.display"
   ]
  },
  {
   "cell_type": "markdown",
   "metadata": {},
   "source": [
    "#classmethod, static method and instance method:\n",
    "-------------------------------------------------\n",
    "from datetime import date\n",
    "class Person:\n",
    "    def __init__(self,name,age):\n",
    "        self.name=name\n",
    "        self.age=age\n",
    "    @classmethod           #=========> classmethod (internal function/decorator starts with @)\n",
    "    def fromBirthYear(cls,name,birthyear):   #first parameter for classmethod should be cls\n",
    "        return cls(name,date.today().year-birthyear)  #return type first should be cls\n",
    "    def display(self):   #normal instance methods will have first arg as self\n",
    "        print(self.name+\"'s age is: \"+str(self.age))\n",
    "    @staticmethod         #=============> staticmethod\n",
    "    def circle_area(r):\n",
    "        return r*r\n",
    "person=Person('shiva',19)\n",
    "print(person.name)\n",
    "print(person.age)\n",
    "person1=Person.fromBirthYear('sakshi',1982)\n",
    "print(person1.name)\n",
    "print(person1.age)\n",
    "area=Person.circle_area(4)\n",
    "print(area)\n",
    "\n",
    "output:\n",
    "------\n",
    "shiva\n",
    "19\n",
    "sakshi\n",
    "37\n",
    "16\n",
    "\n",
    "abstract class and abstract method\n",
    "-----------------------------------\n",
    "\n",
    "#abstract class, abstract method\n",
    "#abstract class ===> it contains abstract methods\n",
    "#abstract methods: ===> a method with definition and without any implementation\n",
    "#the abstract methods are implemented/overwritten in subclasses\n",
    "\n",
    "\n",
    "from abc import ABC,abstractmethod\n",
    "class Animal(ABC):\n",
    "    @abstractmethod  #this decorator will say that the below defined method is abstractmethod\n",
    "    def move(self):\n",
    "        pass\n",
    "class Human(Animal):\n",
    "    def move(self):\n",
    "        print(\"I am Human and I can run\")\n",
    "class Snake(Animal):\n",
    "    def move(self):\n",
    "        print(\"I am snake and I can crawl\")\n",
    "\n",
    "a=Human()\n",
    "a.move()\n",
    "b=Snake()\n",
    "b.move()\n",
    "\n",
    "\n",
    "\n",
    "\n",
    "the above is same as below using main() method:\n",
    "-----------------------------------------------\n",
    "def main():\n",
    "  a=Human()\n",
    "  a.move()\n",
    "  b=Snake()\n",
    "  b.move()\n",
    "if __name__==\"__main__\":\n",
    "  main()\n",
    " \t\n",
    "output:\n",
    "-------\n",
    "\n",
    "I am Human and I can run\n",
    "I am snake and I can crawl\n",
    "\n",
    "\n",
    "\n",
    "tuple and list difference:\n",
    "---------------------------\n",
    "list                       tuple\n",
    "mutable                  immutable\n",
    "[]                       no need of brackets\n",
    "more memory             less memory\n",
    "slow execution             faster execution\n",
    "list comprehension         no tuple comprehension\n",
    "\n",
    "a=(i for i in range(1,10))\n",
    "print(a)\n",
    "print(type(a))\n",
    "\n",
    "output:\n",
    "------\n",
    "<generator object <genexpr> at 0x7fc014400960>\n",
    "<type 'generator'>\n"
   ]
  },
  {
   "cell_type": "code",
   "execution_count": 224,
   "metadata": {},
   "outputs": [
    {
     "name": "stdout",
     "output_type": "stream",
     "text": [
      "b\n"
     ]
    }
   ],
   "source": [
    "# overriding\n",
    "class Car1:\n",
    "    def show(self):\n",
    "        print(\"a\")\n",
    "class Car2(Car1):\n",
    "    def show(self):\n",
    "        print(\"b\")\n",
    "    \n",
    "        \n",
    "objCar2=Car2() # only car2 hi call hoga or inheritence hoga tabhi oveeriding hogi\n",
    "objCar2.show()\n",
    "        \n",
    "        \n",
    "        \n",
    "        "
   ]
  },
  {
   "cell_type": "code",
   "execution_count": 225,
   "metadata": {},
   "outputs": [
    {
     "name": "stdout",
     "output_type": "stream",
     "text": [
      "100\n"
     ]
    }
   ],
   "source": [
    "# method overloading\n",
    "# same name and diffrent arrgument\n",
    "def product(a, b): \n",
    "    p = a * b \n",
    "    print(p) \n",
    "      \n",
    "# Second product method \n",
    "# Takes three argument and print their \n",
    "# product \n",
    "def product(a, b, c): \n",
    "    p = a * b*c \n",
    "    print(p) \n",
    "  \n",
    "# Uncommenting the below line shows an error     \n",
    "# product(4, 5) \n",
    "  \n",
    "# This line will call the second product method \n",
    "product(4, 5, 5) "
   ]
  },
  {
   "cell_type": "code",
   "execution_count": 236,
   "metadata": {},
   "outputs": [
    {
     "name": "stdout",
     "output_type": "stream",
     "text": [
      "(2, 3, 4)\n",
      "5\n"
     ]
    }
   ],
   "source": [
    "#   python does not supported overloading \n",
    "class Car:\n",
    "    def show(self,*args):\n",
    "        print(args)\n",
    "        c=args[1]+args[0]\n",
    "        print(c)\n",
    "\n",
    "car=Car()\n",
    "car.show(2,3,4)"
   ]
  },
  {
   "cell_type": "code",
   "execution_count": 221,
   "metadata": {},
   "outputs": [
    {
     "name": "stdout",
     "output_type": "stream",
     "text": [
      "I eat only plants. I am vegetarian.\n",
      "I breathe oxygen.\n"
     ]
    }
   ],
   "source": [
    "# parent class\n",
    "class Animal:\n",
    "  # properties\n",
    "\tmulticellular = True\n",
    "\t# Eukaryotic means Cells with Nucleus\n",
    "\teukaryotic = True\n",
    "\t\n",
    "\t# function breath\n",
    "\tdef breathe(self):\n",
    "\t    print(\"I breathe oxygen.\")\n",
    "    \n",
    "  # function feed\n",
    "\tdef feed(self):\n",
    "\t    print(\"I eat food.\")\n",
    "\t    \n",
    "# child class\t    \n",
    "class Herbivorous(Animal):\n",
    "    \n",
    "    # function feed\n",
    "\tdef feed(self):\n",
    "\t    print(\"I eat only plants. I am vegetarian.\")\n",
    "\n",
    "herbi = Herbivorous()\n",
    "herbi.feed()\n",
    "# calling some other function\n",
    "herbi.breathe()"
   ]
  },
  {
   "cell_type": "code",
   "execution_count": null,
   "metadata": {},
   "outputs": [],
   "source": []
  }
 ],
 "metadata": {
  "kernelspec": {
   "display_name": "Python 3",
   "language": "python",
   "name": "python3"
  },
  "language_info": {
   "codemirror_mode": {
    "name": "ipython",
    "version": 3
   },
   "file_extension": ".py",
   "mimetype": "text/x-python",
   "name": "python",
   "nbconvert_exporter": "python",
   "pygments_lexer": "ipython3",
   "version": "3.6.8"
  }
 },
 "nbformat": 4,
 "nbformat_minor": 2
}
