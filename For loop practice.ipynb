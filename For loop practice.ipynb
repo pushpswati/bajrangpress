{
 "cells": [
  {
   "cell_type": "code",
   "execution_count": 10,
   "metadata": {},
   "outputs": [
    {
     "name": "stdout",
     "output_type": "stream",
     "text": [
      "apple\n",
      "banana\n",
      "cherry\n"
     ]
    }
   ],
   "source": [
    "# for loop normal for loop\n",
    "\n",
    "\n",
    "fruits=[\"apple\",\"banana\",\"cherry\"]\n",
    "\n",
    "for i in fruits:\n",
    "    print(i)"
   ]
  },
  {
   "cell_type": "code",
   "execution_count": 13,
   "metadata": {},
   "outputs": [
    {
     "name": "stdout",
     "output_type": "stream",
     "text": [
      "b\n",
      "a\n",
      "n\n",
      "a\n",
      "n\n",
      "a\n"
     ]
    }
   ],
   "source": [
    "# loop through a string in one element\n",
    "\n",
    "for i in \"banana\":\n",
    "    print(i)"
   ]
  },
  {
   "cell_type": "code",
   "execution_count": 14,
   "metadata": {},
   "outputs": [
    {
     "name": "stdout",
     "output_type": "stream",
     "text": [
      "apple\n",
      "banana\n"
     ]
    }
   ],
   "source": [
    "# the break statement \n",
    "\n",
    "for i in fruits:\n",
    "    \n",
    "    print(i)\n",
    "    \n",
    "    if i==\"banana\":\n",
    "        break"
   ]
  },
  {
   "cell_type": "code",
   "execution_count": 16,
   "metadata": {},
   "outputs": [
    {
     "name": "stdout",
     "output_type": "stream",
     "text": [
      "apple\n"
     ]
    }
   ],
   "source": [
    "# 2nd way of break loop \n",
    "\n",
    "\n",
    "for i in fruits:\n",
    "    if i==\"banana\":\n",
    "        break\n",
    "    print(i)"
   ]
  },
  {
   "cell_type": "code",
   "execution_count": 21,
   "metadata": {},
   "outputs": [
    {
     "name": "stdout",
     "output_type": "stream",
     "text": [
      "apple\n",
      "cherry\n"
     ]
    }
   ],
   "source": [
    "# continue with for loop\n",
    "\n",
    "for i in fruits:\n",
    "    if i == \"banana\":\n",
    "        continue\n",
    "    print(i)"
   ]
  },
  {
   "cell_type": "code",
   "execution_count": 22,
   "metadata": {},
   "outputs": [
    {
     "name": "stdout",
     "output_type": "stream",
     "text": [
      "0\n",
      "1\n",
      "2\n",
      "3\n",
      "4\n",
      "5\n"
     ]
    }
   ],
   "source": [
    "# range for for loop\n",
    "\n",
    "for i in range(6):\n",
    "    print(i)"
   ]
  },
  {
   "cell_type": "code",
   "execution_count": 23,
   "metadata": {},
   "outputs": [
    {
     "name": "stdout",
     "output_type": "stream",
     "text": [
      "2\n",
      "3\n",
      "4\n",
      "5\n"
     ]
    }
   ],
   "source": [
    "for i in range(2,6):\n",
    "    print(i)"
   ]
  },
  {
   "cell_type": "code",
   "execution_count": 26,
   "metadata": {},
   "outputs": [
    {
     "name": "stdout",
     "output_type": "stream",
     "text": [
      "2\n",
      "5\n",
      "8\n"
     ]
    }
   ],
   "source": [
    "for i in range(2,10,3):\n",
    "    print(i)"
   ]
  },
  {
   "cell_type": "code",
   "execution_count": 27,
   "metadata": {},
   "outputs": [
    {
     "name": "stdout",
     "output_type": "stream",
     "text": [
      "0\n",
      "1\n",
      "2\n",
      "3\n",
      "4\n",
      "5\n",
      "finally finished!\n"
     ]
    }
   ],
   "source": [
    "# else with for loop \n",
    "\n",
    "for i in range(6):\n",
    "    print(i)\n",
    "else:\n",
    "    print(\"finally finished!\")"
   ]
  },
  {
   "cell_type": "code",
   "execution_count": 28,
   "metadata": {},
   "outputs": [
    {
     "name": "stdout",
     "output_type": "stream",
     "text": [
      "red apple\n",
      "red banana\n",
      "red cherry\n",
      "big apple\n",
      "big banana\n",
      "big cherry\n",
      "tasty apple\n",
      "tasty banana\n",
      "tasty cherry\n"
     ]
    }
   ],
   "source": [
    "# nested loop\n",
    "\n",
    "adj=[\"red\",\"big\",\"tasty\"]\n",
    "fruits=[\"apple\",\"banana\",\"cherry\"]\n",
    "\n",
    "for x in adj:\n",
    "    for y in fruits:\n",
    "        print(x,y)"
   ]
  },
  {
   "cell_type": "markdown",
   "metadata": {},
   "source": [
    "#  if_else loop\n"
   ]
  },
  {
   "cell_type": "code",
   "execution_count": 31,
   "metadata": {},
   "outputs": [
    {
     "name": "stdout",
     "output_type": "stream",
     "text": [
      "=\n"
     ]
    }
   ],
   "source": [
    "a=40\n",
    "b=40\n",
    "print(\"B\") if b>a else print(\"=\") if a==b else print(\"A\")\n"
   ]
  },
  {
   "cell_type": "code",
   "execution_count": 7,
   "metadata": {},
   "outputs": [],
   "source": [
    "# > greater than ,< less than"
   ]
  },
  {
   "cell_type": "code",
   "execution_count": 8,
   "metadata": {},
   "outputs": [],
   "source": [
    "# or for 2no mese ek shi ,and operation both are true"
   ]
  },
  {
   "cell_type": "markdown",
   "metadata": {},
   "source": [
    "# while loop"
   ]
  },
  {
   "cell_type": "code",
   "execution_count": 3,
   "metadata": {},
   "outputs": [
    {
     "name": "stdout",
     "output_type": "stream",
     "text": [
      "1\n",
      "2\n",
      "3\n",
      "4\n",
      "5\n"
     ]
    }
   ],
   "source": [
    "# while loop can execute a set of statement as long as  a condition is true\n",
    "\n",
    "i=1\n",
    "while i<6:\n",
    "    print(i)\n",
    "    i+=1"
   ]
  },
  {
   "cell_type": "code",
   "execution_count": 2,
   "metadata": {},
   "outputs": [
    {
     "name": "stdout",
     "output_type": "stream",
     "text": [
      "1\n",
      "2\n",
      "3\n"
     ]
    }
   ],
   "source": [
    "# break statment\n",
    "\n",
    "i=1\n",
    "while i<6:\n",
    "    print(i)\n",
    "    if i==3:\n",
    "        break\n",
    "    i+=1"
   ]
  },
  {
   "cell_type": "code",
   "execution_count": 4,
   "metadata": {},
   "outputs": [
    {
     "name": "stdout",
     "output_type": "stream",
     "text": [
      "2\n",
      "4\n",
      "5\n",
      "6\n"
     ]
    }
   ],
   "source": [
    "# continue statement\n",
    "\n",
    "i=1\n",
    "while i<6:\n",
    "    i+=1\n",
    "    if i==3:\n",
    "        continue\n",
    "    print(i)"
   ]
  },
  {
   "cell_type": "code",
   "execution_count": 6,
   "metadata": {},
   "outputs": [
    {
     "name": "stdout",
     "output_type": "stream",
     "text": [
      "2\n",
      "3\n",
      "4\n",
      "5\n",
      "6\n",
      "i is no longer less the 6\n"
     ]
    }
   ],
   "source": [
    "# else_if statement\n",
    "\n",
    "i=1\n",
    "while i<6:\n",
    "    i+=1\n",
    "    print(i)\n",
    "    \n",
    "else:\n",
    "    print(\"i is no longer less the 6\")"
   ]
  },
  {
   "cell_type": "code",
   "execution_count": 8,
   "metadata": {},
   "outputs": [
    {
     "name": "stdout",
     "output_type": "stream",
     "text": [
      "1\n",
      "2\n",
      "3\n",
      "4\n",
      "5\n",
      "i is no longer less the 6\n"
     ]
    }
   ],
   "source": [
    "i=1\n",
    "while i<6:\n",
    "   \n",
    "    print(i)\n",
    "    i+=1\n",
    "    \n",
    "else:\n",
    "    print(\"i is no longer less the 6\")"
   ]
  },
  {
   "cell_type": "code",
   "execution_count": 91,
   "metadata": {},
   "outputs": [
    {
     "name": "stdout",
     "output_type": "stream",
     "text": [
      "$ $ $ $ $ \n",
      "$ $ $ $ $ \n",
      "$ $ $ $ $ \n",
      "$ $ $ $ $ \n",
      "$ $ $ $ $ \n"
     ]
    }
   ],
   "source": [
    "# using for loop printing *\n",
    "\n",
    "for x in range(1,6):\n",
    "    for y in range(1,6):\n",
    "        print(\"$\",end=\" \")\n",
    "    print()\n",
    "\n",
    "    \n",
    "    "
   ]
  },
  {
   "cell_type": "code",
   "execution_count": 98,
   "metadata": {},
   "outputs": [
    {
     "name": "stdout",
     "output_type": "stream",
     "text": [
      "# # # # \n",
      "# # # \n",
      "# # \n",
      "# \n",
      "\n"
     ]
    }
   ],
   "source": [
    "for x in range(1,6):\n",
    "    for y in range(1,6-x):\n",
    "        print(\"#\",end=\" \")\n",
    "    print()"
   ]
  },
  {
   "cell_type": "code",
   "execution_count": 116,
   "metadata": {},
   "outputs": [
    {
     "name": "stdout",
     "output_type": "stream",
     "text": [
      "        \n",
      "      * \n",
      "    * * \n",
      "  * * * \n",
      "* * * * \n"
     ]
    }
   ],
   "source": [
    "for x in range(1,6):\n",
    "    for y in range(1,6-x):\n",
    "        print(\" \",end=\" \")\n",
    "    for z in range(6-x,6-1):\n",
    "        print(\"*\",end=\" \")\n",
    "    print()"
   ]
  },
  {
   "cell_type": "code",
   "execution_count": 94,
   "metadata": {},
   "outputs": [
    {
     "name": "stdout",
     "output_type": "stream",
     "text": [
      "\n",
      "@ \n",
      "@ @ \n",
      "@ @ @ \n",
      "@ @ @ @ \n"
     ]
    }
   ],
   "source": [
    "for x in range(1,6):\n",
    "    for y in range(1,x):\n",
    "        print(\"@\",end=\" \")\n",
    "    print()"
   ]
  },
  {
   "cell_type": "code",
   "execution_count": 121,
   "metadata": {
    "scrolled": true
   },
   "outputs": [
    {
     "name": "stdout",
     "output_type": "stream",
     "text": [
      "        \n",
      "      \n",
      "    * \n",
      "  * * * \n",
      "* * * * * \n"
     ]
    }
   ],
   "source": [
    "for x in range(1,6):\n",
    "    for y in range(1,6-x):\n",
    "        print(\" \",end=\" \")\n",
    "    for z in range(6-x,x+1):\n",
    "        print(\"*\",end=\" \")\n",
    "    print()\n",
    "    "
   ]
  },
  {
   "cell_type": "code",
   "execution_count": 224,
   "metadata": {},
   "outputs": [
    {
     "name": "stdout",
     "output_type": "stream",
     "text": [
      "        * \n",
      "      * * * \n",
      "    * * * * * \n",
      "  * * * * * * * \n",
      "* * * * * * * * * \n"
     ]
    }
   ],
   "source": [
    "for x in range(1,n):\n",
    "    for y in range(1,n-x):\n",
    "        print(\" \",end=\" \")\n",
    "    for z in range(1,2*x):\n",
    "        print(\"*\",end=\" \")\n",
    "    print()\n",
    "    "
   ]
  },
  {
   "cell_type": "code",
   "execution_count": 226,
   "metadata": {},
   "outputs": [
    {
     "name": "stdout",
     "output_type": "stream",
     "text": [
      "* * * * * * * * * \n",
      "  * * * * * * * \n",
      "    * * * * * \n",
      "      * * * \n",
      "        * \n"
     ]
    }
   ],
   "source": [
    "n=6\n",
    "for x in range(1,n):\n",
    "    for y in range(1,x):\n",
    "        print(\" \",end=\" \")\n",
    "    for z in range(x,2*n-x-1):\n",
    "        print(\"*\",end=\" \")\n",
    "    print()"
   ]
  },
  {
   "cell_type": "code",
   "execution_count": 235,
   "metadata": {},
   "outputs": [
    {
     "name": "stdout",
     "output_type": "stream",
     "text": [
      "        * \n",
      "      * * * \n",
      "    * * * * * \n",
      "  * * * * * * * \n",
      "* * * * * * * * * \n",
      "* * * * * * * * * \n",
      "  * * * * * * * \n",
      "    * * * * * \n",
      "      * * * \n",
      "        * \n"
     ]
    }
   ],
   "source": [
    "n=6\n",
    "for x in range(1,n):\n",
    "    for y in range(1,n-x):\n",
    "        print(\" \",end=\" \")\n",
    "    for z in range(1,2*x):\n",
    "        print(\"*\",end=\" \")\n",
    "    print()\n",
    "\n",
    "for x in range(1,n):\n",
    "    for y in range(1,x):\n",
    "        print(\" \",end=\" \")\n",
    "    for z in range(x,2*n-x-1):\n",
    "        print(\"*\",end=\" \")\n",
    "    print()\n",
    "    "
   ]
  },
  {
   "cell_type": "code",
   "execution_count": 236,
   "metadata": {},
   "outputs": [
    {
     "name": "stdout",
     "output_type": "stream",
     "text": [
      "        * \n",
      "* * * * * * * * * \n",
      "      * * * \n",
      "  * * * * * * * \n",
      "    * * * * * \n",
      "    * * * * * \n",
      "  * * * * * * * \n",
      "      * * * \n",
      "* * * * * * * * * \n",
      "        * \n"
     ]
    }
   ],
   "source": [
    "n=6\n",
    "for x in range(1,n):\n",
    "    for y in range(1,n-x):\n",
    "        print(\" \",end=\" \")\n",
    "    for z in range(1,2*x):\n",
    "        print(\"*\",end=\" \")\n",
    "    print()\n",
    "    for y in range(1,x):\n",
    "        print(\" \",end=\" \")\n",
    "    for z in range(x,2*n-x-1):\n",
    "        print(\"*\",end=\" \")\n",
    "    print()"
   ]
  },
  {
   "cell_type": "code",
   "execution_count": 243,
   "metadata": {},
   "outputs": [
    {
     "name": "stdout",
     "output_type": "stream",
     "text": [
      "        \n",
      "* * * * * \n",
      "      \n",
      "  * * * \n",
      "    * \n",
      "    * \n",
      "  * * * \n",
      "      \n",
      "* * * * * \n",
      "        \n"
     ]
    }
   ],
   "source": [
    "n=6\n",
    "for x in range(1,n):\n",
    "    for y in range(1,n-x):\n",
    "        print(\" \",end=\" \")\n",
    "    for z in range(n-x,x+1):\n",
    "        print(\"*\",end=\" \")\n",
    "    print()\n",
    "    for y in range(1,x):\n",
    "        print(\" \",end=\" \")\n",
    "    for z in range(x,n-x+1):\n",
    "        print(\"*\",end=\" \")\n",
    "    print()"
   ]
  },
  {
   "cell_type": "code",
   "execution_count": 118,
   "metadata": {},
   "outputs": [
    {
     "name": "stdout",
     "output_type": "stream",
     "text": [
      "* * * * \n",
      "@ * * * \n",
      "@ @ * * \n",
      "@ @ @ * \n",
      "@ @ @ @ \n"
     ]
    }
   ],
   "source": [
    "for x in range(1,6):\n",
    "    for y in range(1,x):\n",
    "        print(\"@\",end=\" \")\n",
    "    for z in range(x,6-1):\n",
    "        print(\"*\",end=\" \")\n",
    "    print()"
   ]
  },
  {
   "cell_type": "code",
   "execution_count": null,
   "metadata": {},
   "outputs": [],
   "source": [
    "for x in range(1,6):\n",
    "    for y in range(1,6-x):\n",
    "        print(\" \",)\n",
    "    "
   ]
  },
  {
   "cell_type": "code",
   "execution_count": 76,
   "metadata": {},
   "outputs": [
    {
     "name": "stdout",
     "output_type": "stream",
     "text": [
      "& & & \n",
      "& & \n",
      "@ \n",
      "@ @ \n",
      "@ @ @ \n"
     ]
    }
   ],
   "source": [
    "for x in range(1,6):\n",
    "    for y in range(1,x-1):\n",
    "        print(\"@\",end=\" \")\n",
    "    for z in range(x-1,y):\n",
    "            print(\"&\",end=\" \")\n",
    "    print()"
   ]
  },
  {
   "cell_type": "code",
   "execution_count": 95,
   "metadata": {},
   "outputs": [
    {
     "name": "stdout",
     "output_type": "stream",
     "text": [
      "* * * * * \n",
      "@ * * * * \n",
      "@ @ * * * \n",
      "@ @ @ * * \n",
      "@ @ @ @ * \n"
     ]
    }
   ],
   "source": [
    "for x in range(1,6):\n",
    "    for y in range(1,x):\n",
    "        print(\"@\",end=\" \")\n",
    "    for z in range(x,6):\n",
    "            print(\"*\",end=\" \")\n",
    "    print()"
   ]
  },
  {
   "cell_type": "code",
   "execution_count": 127,
   "metadata": {},
   "outputs": [
    {
     "name": "stdout",
     "output_type": "stream",
     "text": [
      "@ @ @ @ \n",
      "@ @ @ * \n",
      "@ @ * * \n",
      "@ * * * \n",
      "* * * * \n"
     ]
    }
   ],
   "source": [
    "for x in range(1,6):\n",
    "    for y in range(1,6-x):\n",
    "        print(\"@\",end=\" \")\n",
    "    for z in range(6-x,6-1):\n",
    "        print(\"*\",end=\" \")\n",
    "    print()"
   ]
  },
  {
   "cell_type": "code",
   "execution_count": 129,
   "metadata": {},
   "outputs": [
    {
     "name": "stdout",
     "output_type": "stream",
     "text": [
      "* * * * * \n",
      "  * * * \n",
      "    * \n",
      "      \n",
      "        \n"
     ]
    }
   ],
   "source": [
    "for x in range(0,5):\n",
    "    for y in range(0,x):\n",
    "        print(\" \",end=\" \")\n",
    "    for z in range(x,5-x):\n",
    "        print(\"*\",end=\" \")\n",
    "    print()"
   ]
  },
  {
   "cell_type": "code",
   "execution_count": null,
   "metadata": {},
   "outputs": [],
   "source": [
    "for x in range(0,5):\n",
    "    for y in range(0,x):\n",
    "        print(\" \",end=\" \")\n",
    "    for "
   ]
  }
 ],
 "metadata": {
  "kernelspec": {
   "display_name": "Python 3",
   "language": "python",
   "name": "python3"
  },
  "language_info": {
   "codemirror_mode": {
    "name": "ipython",
    "version": 3
   },
   "file_extension": ".py",
   "mimetype": "text/x-python",
   "name": "python",
   "nbconvert_exporter": "python",
   "pygments_lexer": "ipython3",
   "version": "3.6.8"
  }
 },
 "nbformat": 4,
 "nbformat_minor": 2
}
