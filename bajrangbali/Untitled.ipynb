{
 "cells": [
  {
   "cell_type": "code",
   "execution_count": 1,
   "metadata": {},
   "outputs": [],
   "source": [
    "import requests"
   ]
  },
  {
   "cell_type": "code",
   "execution_count": 2,
   "metadata": {},
   "outputs": [],
   "source": [
    "payload = {'inUserName': '261675', 'inUserPass': '@Vikku321'}\n",
    "url = 'https://myawaaz.asianpaints.com/dpstorefront/dp/getDPPSData?dealerCode=0000261675&fromDate=20200514&toDate=20200723&stp=0000261675%2C1010012887%2C1010072445%2C1010086633%2C1010092246%2C1010105158%2C1010196228%2C1010237819%2C1010245026%2C1010250073%2C1010277105%2C1010288171%2C1010288244%2C1010289325%2C1010290335%2C1010291034%2C1010291784%2C1010292803'\n",
    "res=requests.get(url)"
   ]
  },
  {
   "cell_type": "code",
   "execution_count": null,
   "metadata": {},
   "outputs": [],
   "source": [
    "resp = requests.get(url, auth=(user, password))"
   ]
  },
  {
   "cell_type": "code",
   "execution_count": null,
   "metadata": {},
   "outputs": [],
   "source": []
  }
 ],
 "metadata": {
  "kernelspec": {
   "display_name": "swEnv",
   "language": "python",
   "name": "swatienv"
  },
  "language_info": {
   "codemirror_mode": {
    "name": "ipython",
    "version": 3
   },
   "file_extension": ".py",
   "mimetype": "text/x-python",
   "name": "python",
   "nbconvert_exporter": "python",
   "pygments_lexer": "ipython3",
   "version": "3.6.8"
  }
 },
 "nbformat": 4,
 "nbformat_minor": 4
}
