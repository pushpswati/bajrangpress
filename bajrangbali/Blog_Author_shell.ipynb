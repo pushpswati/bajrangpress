{
 "cells": [
  {
   "cell_type": "code",
   "execution_count": 32,
   "metadata": {},
   "outputs": [],
   "source": [
    "\n",
    "import os\n",
    "os.environ[\"DJANGO_SETTINGS_MODULE\"] = \"bajrangbali.settings\"\n",
    "os.environ[\"DJANGO_ALLOW_ASYNC_UNSAFE\"] = \"true\"\n",
    "import django\n",
    "django.setup()\n",
    "from blogAuthorapp import models\n",
    "from blogAuthorapp import serializers\n",
    "import pprint as pp\n",
    "import json\n",
    "import datetime \n",
    "from blogAuthorapp.models import Blog,Author,Entry"
   ]
  },
  {
   "cell_type": "code",
   "execution_count": 17,
   "metadata": {},
   "outputs": [],
   "source": [
    "\n",
    "b = Blog(name='swati Blog', tagline='All the latest swati news.')\n",
    "b.save()"
   ]
  },
  {
   "cell_type": "code",
   "execution_count": 29,
   "metadata": {},
   "outputs": [
    {
     "name": "stdout",
     "output_type": "stream",
     "text": [
      "<QuerySet [<Blog: swati Blog>, <Blog: swati Blog>, <Blog: pushp Blog>, <Blog: pushp Blog>, <Blog: pushp Blog>]>\n"
     ]
    }
   ],
   "source": [
    "all_data=models.Blog.objects.all()[:10]\n",
    "print(all_data)"
   ]
  },
  {
   "cell_type": "code",
   "execution_count": 30,
   "metadata": {},
   "outputs": [],
   "source": [
    "serializer=serializers.BlogSerializers(all_data,many=True)\n",
    "data1=json.loads(json.dumps(serializer.data))\n"
   ]
  },
  {
   "cell_type": "code",
   "execution_count": 31,
   "metadata": {},
   "outputs": [
    {
     "name": "stdout",
     "output_type": "stream",
     "text": [
      "[{'id': 1, 'name': 'swati Blog', 'tagline': 'All the latest swati news.'},\n",
      " {'id': 2, 'name': 'swati Blog', 'tagline': 'All the latest swati news.'},\n",
      " {'id': 3, 'name': 'pushp Blog', 'tagline': 'life is beautiful'},\n",
      " {'id': 4, 'name': 'pushp Blog', 'tagline': 'life is beautiful'},\n",
      " {'id': 5, 'name': 'pushp Blog', 'tagline': 'life is beautiful'}]\n"
     ]
    }
   ],
   "source": [
    "pp.pprint(data1)"
   ]
  },
  {
   "cell_type": "code",
   "execution_count": 28,
   "metadata": {},
   "outputs": [],
   "source": [
    "b5= Blog(name='pushp Blog',tagline='life is beautiful')\n",
    "b5.save()"
   ]
  },
  {
   "cell_type": "code",
   "execution_count": 67,
   "metadata": {},
   "outputs": [
    {
     "name": "stdout",
     "output_type": "stream",
     "text": [
      "<class 'django.db.models.query.QuerySet'>\n"
     ]
    }
   ],
   "source": [
    "all_data=models.Blog.objects.all()[:10]\n",
    "print(type(all_data))"
   ]
  },
  {
   "cell_type": "code",
   "execution_count": 68,
   "metadata": {},
   "outputs": [
    {
     "name": "stdout",
     "output_type": "stream",
     "text": [
      "<QuerySet [<Blog: swati Blog>, <Blog: swati Blog>, <Blog: pushp Blog>, <Blog: pushp Blog>, <Blog: pushp Blog>]>\n"
     ]
    }
   ],
   "source": [
    "pp.pprint(all_data)"
   ]
  },
  {
   "cell_type": "code",
   "execution_count": 64,
   "metadata": {},
   "outputs": [],
   "source": [
    "\n",
    "#count=0\n",
    "datal=[]\n",
    "\n",
    "for i in all_data:\n",
    "\n",
    "    dictblog={     # jo bhi serializer me field diye h ager all_field diya toh usi trh se\n",
    "        \"id\":i.id,\n",
    "        \"name\":i.name,\n",
    "        \"tagline\":i.tagline,\n",
    "        \n",
    "    }\n",
    "    datal.append(dictblog)\n",
    "#     print(i.tagline,i.name)"
   ]
  },
  {
   "cell_type": "code",
   "execution_count": 62,
   "metadata": {},
   "outputs": [
    {
     "data": {
      "text/plain": [
       "[{'id': 1, 'name': 'swati Blog', 'tagline': 'All the latest swati news.'},\n",
       " {'id': 2, 'name': 'swati Blog', 'tagline': 'All the latest swati news.'},\n",
       " {'id': 3, 'name': 'pushp Blog', 'tagline': 'life is beautiful'},\n",
       " {'id': 4, 'name': 'pushp Blog', 'tagline': 'life is beautiful'},\n",
       " {'id': 5, 'name': 'pushp Blog', 'tagline': 'life is beautiful'}]"
      ]
     },
     "execution_count": 62,
     "metadata": {},
     "output_type": "execute_result"
    }
   ],
   "source": [
    "datal"
   ]
  },
  {
   "cell_type": "code",
   "execution_count": 27,
   "metadata": {},
   "outputs": [
    {
     "ename": "NameError",
     "evalue": "name 'entry' is not defined",
     "output_type": "error",
     "traceback": [
      "\u001b[0;31m---------------------------------------------------------------------------\u001b[0m",
      "\u001b[0;31mNameError\u001b[0m                                 Traceback (most recent call last)",
      "\u001b[0;32m<ipython-input-27-a49fac2fdacc>\u001b[0m in \u001b[0;36m<module>\u001b[0;34m\u001b[0m\n\u001b[1;32m      1\u001b[0m \u001b[0mjoe\u001b[0m \u001b[0;34m=\u001b[0m \u001b[0mAuthor\u001b[0m\u001b[0;34m.\u001b[0m\u001b[0mobjects\u001b[0m\u001b[0;34m.\u001b[0m\u001b[0mcreate\u001b[0m\u001b[0;34m(\u001b[0m\u001b[0mname\u001b[0m\u001b[0;34m=\u001b[0m\u001b[0;34m\"Joe\"\u001b[0m\u001b[0;34m)\u001b[0m\u001b[0;34m\u001b[0m\u001b[0;34m\u001b[0m\u001b[0m\n\u001b[0;32m----> 2\u001b[0;31m \u001b[0mentry\u001b[0m\u001b[0;34m.\u001b[0m\u001b[0mauthors\u001b[0m\u001b[0;34m.\u001b[0m\u001b[0madd\u001b[0m\u001b[0;34m(\u001b[0m\u001b[0mjoe\u001b[0m\u001b[0;34m)\u001b[0m\u001b[0;34m\u001b[0m\u001b[0;34m\u001b[0m\u001b[0m\n\u001b[0m",
      "\u001b[0;31mNameError\u001b[0m: name 'entry' is not defined"
     ]
    }
   ],
   "source": [
    "joe = Author.objects.create(name=\"Joe\")\n",
    "entry.authors.add(joe)"
   ]
  },
  {
   "cell_type": "code",
   "execution_count": 87,
   "metadata": {},
   "outputs": [],
   "source": [
    "e = Entry(blog_id=2,headline='swati Blog', body_text=' Body_text All the latest swati news.',pub_date=datetime.date.today(),mod_date=datetime.date.today(),number_of_comments='3',number_of_pingbacks='4',rating='5')\n",
    "\n",
    "\n",
    "\n",
    "\n",
    "\n"
   ]
  },
  {
   "cell_type": "code",
   "execution_count": 88,
   "metadata": {},
   "outputs": [],
   "source": [
    "e.save() # data base me save kiya\n"
   ]
  },
  {
   "cell_type": "code",
   "execution_count": 89,
   "metadata": {},
   "outputs": [],
   "source": [
    "joe = Author.objects.create(name=\"Joe\")\n",
    "entry.authors.add(joe)"
   ]
  },
  {
   "cell_type": "code",
   "execution_count": 90,
   "metadata": {},
   "outputs": [],
   "source": [
    "author=Author.objects.all()"
   ]
  },
  {
   "cell_type": "code",
   "execution_count": 91,
   "metadata": {},
   "outputs": [
    {
     "data": {
      "text/plain": [
       "<QuerySet [<Author: Joe>, <Author: Joe>, <Author: Joe>, <Author: Joe>]>"
      ]
     },
     "execution_count": 91,
     "metadata": {},
     "output_type": "execute_result"
    }
   ],
   "source": [
    "author"
   ]
  },
  {
   "cell_type": "code",
   "execution_count": 92,
   "metadata": {},
   "outputs": [
    {
     "name": "stdout",
     "output_type": "stream",
     "text": [
      "swati Blog\n",
      "swati Blog\n",
      "swati Blog\n",
      "swati Blog\n"
     ]
    }
   ],
   "source": [
    "ea=Entry.objects.all()\n",
    "for i in ea:\n",
    "    print(i)"
   ]
  },
  {
   "cell_type": "code",
   "execution_count": 105,
   "metadata": {},
   "outputs": [],
   "source": [
    "entry = Entry.objects.get(pk=2)\n"
   ]
  },
  {
   "cell_type": "code",
   "execution_count": 111,
   "metadata": {},
   "outputs": [
    {
     "name": "stdout",
     "output_type": "stream",
     "text": [
      "swati Blog\n"
     ]
    }
   ],
   "source": [
    "b5= Blog.objects.filter(name=\"swati Blog\")[0]\n",
    "print(b5)"
   ]
  },
  {
   "cell_type": "code",
   "execution_count": 107,
   "metadata": {},
   "outputs": [],
   "source": [
    "entry.blog = b5\n"
   ]
  },
  {
   "cell_type": "code",
   "execution_count": 108,
   "metadata": {},
   "outputs": [],
   "source": [
    "entry.save()"
   ]
  },
  {
   "cell_type": "code",
   "execution_count": 109,
   "metadata": {},
   "outputs": [
    {
     "data": {
      "text/plain": [
       "<Entry: swati Blog>"
      ]
     },
     "execution_count": 109,
     "metadata": {},
     "output_type": "execute_result"
    }
   ],
   "source": [
    "entry"
   ]
  },
  {
   "cell_type": "code",
   "execution_count": null,
   "metadata": {},
   "outputs": [],
   "source": []
  },
  {
   "cell_type": "code",
   "execution_count": null,
   "metadata": {},
   "outputs": [],
   "source": []
  },
  {
   "cell_type": "code",
   "execution_count": null,
   "metadata": {},
   "outputs": [],
   "source": []
  },
  {
   "cell_type": "code",
   "execution_count": null,
   "metadata": {},
   "outputs": [],
   "source": []
  }
 ],
 "metadata": {
  "kernelspec": {
   "display_name": "Python 3",
   "language": "python",
   "name": "python3"
  },
  "language_info": {
   "codemirror_mode": {
    "name": "ipython",
    "version": 3
   },
   "file_extension": ".py",
   "mimetype": "text/x-python",
   "name": "python",
   "nbconvert_exporter": "python",
   "pygments_lexer": "ipython3",
   "version": "3.6.8"
  }
 },
 "nbformat": 4,
 "nbformat_minor": 2
}
