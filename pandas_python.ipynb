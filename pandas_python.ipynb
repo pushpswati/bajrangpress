{
 "cells": [
  {
   "cell_type": "code",
   "execution_count": 5,
   "metadata": {},
   "outputs": [
    {
     "name": "stdout",
     "output_type": "stream",
     "text": [
      "0     1.0\n",
      "1     2.0\n",
      "2     3.0\n",
      "3     4.0\n",
      "4     5.0\n",
      "5     6.0\n",
      "6     NaN\n",
      "7     8.0\n",
      "8     9.0\n",
      "9    10.0\n",
      "dtype: float64\n"
     ]
    }
   ],
   "source": [
    "import pandas as pd # as means alies create krta h shart name\n",
    "import numpy as np\n",
    "s= pd.Series([1,2,3,4,5,6,np.nan,8,9,10])\n",
    "print(s)"
   ]
  },
  {
   "cell_type": "code",
   "execution_count": 9,
   "metadata": {},
   "outputs": [
    {
     "name": "stdout",
     "output_type": "stream",
     "text": [
      "DatetimeIndex(['2020-03-01', '2020-03-02', '2020-03-03', '2020-03-04',\n",
      "               '2020-03-05', '2020-03-06', '2020-03-07', '2020-03-08',\n",
      "               '2020-03-09', '2020-03-10'],\n",
      "              dtype='datetime64[ns]', freq='D')\n"
     ]
    }
   ],
   "source": [
    "d=pd.date_range('20200301',periods=10)\n",
    "print(d)"
   ]
  },
  {
   "cell_type": "code",
   "execution_count": 23,
   "metadata": {},
   "outputs": [
    {
     "name": "stdout",
     "output_type": "stream",
     "text": [
      "                   A         B         C         D\n",
      "2020-03-01  0.604836 -2.231294 -0.121552 -0.391039\n",
      "2020-03-02  0.964402  0.426059 -1.012463 -0.797006\n",
      "2020-03-03 -0.808687 -0.047743  2.084764  0.632584\n",
      "2020-03-04 -0.008034  0.711334  1.121357  0.065479\n",
      "2020-03-05 -0.807125 -2.359883  1.150931 -1.526720\n",
      "2020-03-06  2.516927  0.614054  0.298200 -0.548528\n",
      "2020-03-07 -1.280968  2.241466 -0.130124  0.367332\n",
      "2020-03-08  0.247599 -1.304446  1.168711 -0.114762\n",
      "2020-03-09 -1.419793 -0.411185 -0.551715 -0.096710\n",
      "2020-03-10 -0.402847 -1.054150  0.142988 -1.259576\n"
     ]
    }
   ],
   "source": [
    "df1 = pd.DataFrame(np.random.randn(10, 4), index=d,columns=list('ABCD'))\n",
    "print(df1)"
   ]
  },
  {
   "cell_type": "code",
   "execution_count": 116,
   "metadata": {},
   "outputs": [
    {
     "name": "stdout",
     "output_type": "stream",
     "text": [
      "          A         B         C         D\n",
      "0 -1.756750 -0.775465  0.198924 -1.478784\n",
      "1  1.374600  0.966752  0.472152 -0.947068\n",
      "2  0.747595  0.766669  0.741266 -0.685874\n",
      "3 -0.857149  0.973666  0.970833  0.619792\n",
      "4  1.042753  0.087664  0.128215 -0.192963\n",
      "5  0.082988  1.834174  0.930885  0.141114\n",
      "6 -1.148478 -2.852697  1.100225 -0.844981\n",
      "7 -0.782858 -1.609728 -0.824325 -0.574931\n",
      "8  0.758585  0.124272 -0.066394  0.727096\n",
      "9  1.501636 -0.250793  1.203646  0.274656\n"
     ]
    }
   ],
   "source": [
    "df_main = pd.DataFrame(np.random.randn(10, 4), columns=list('ABCD'))\n",
    "print(df_main)"
   ]
  },
  {
   "cell_type": "code",
   "execution_count": 49,
   "metadata": {},
   "outputs": [
    {
     "name": "stdout",
     "output_type": "stream",
     "text": [
      "     A          B    C  D      E    F\n",
      "0  1.0 2013-01-02  1.0  3   test  Foo\n",
      "1  1.0 2013-01-02  1.0  3  train  Foo\n",
      "2  1.0 2013-01-02  1.0  3   test  Foo\n",
      "3  1.0 2013-01-02  1.0  3  train  Foo\n"
     ]
    }
   ],
   "source": [
    "#Creating a DataFrame by passing a dict of objects that can be converted to series-like.\n",
    "\n",
    "df2=pd.DataFrame({'A':1.,\n",
    "                'B':pd.Timestamp('20130102'),\n",
    "                'C':pd.Series(1,index=list(range(4)),dtype='float32'),\n",
    "                'D':np.array([3]*4,dtype='int32'),\n",
    "                'E':pd.Categorical([\"test\",\"train\" ,\"test\", \"train\"]),\n",
    "                'F':'Foo'})\n",
    "print(df2)"
   ]
  },
  {
   "cell_type": "code",
   "execution_count": 50,
   "metadata": {},
   "outputs": [
    {
     "data": {
      "text/plain": [
       "A           float64\n",
       "B    datetime64[ns]\n",
       "C           float32\n",
       "D             int32\n",
       "E          category\n",
       "F            object\n",
       "dtype: object"
      ]
     },
     "execution_count": 50,
     "metadata": {},
     "output_type": "execute_result"
    }
   ],
   "source": [
    "df2.dtypes"
   ]
  },
  {
   "cell_type": "code",
   "execution_count": 33,
   "metadata": {},
   "outputs": [
    {
     "ename": "SyntaxError",
     "evalue": "invalid syntax (<ipython-input-33-a08075bfc984>, line 1)",
     "output_type": "error",
     "traceback": [
      "\u001b[0;36m  File \u001b[0;32m\"<ipython-input-33-a08075bfc984>\"\u001b[0;36m, line \u001b[0;32m1\u001b[0m\n\u001b[0;31m    df2.A                  df2.bool\u001b[0m\n\u001b[0m                             ^\u001b[0m\n\u001b[0;31mSyntaxError\u001b[0m\u001b[0;31m:\u001b[0m invalid syntax\n"
     ]
    }
   ],
   "source": [
    "df2.A                  df2.bool\n",
    "df2.abs                df2.boxplot\n",
    "df2.add                df2.C\n",
    "df2.add_prefix         df2.clip\n",
    "df2.add_suffix         df2.clip_lower\n",
    "df2.align              df2.clip_upper\n",
    "df2.all                df2.columns\n",
    "df2.any                df2.combine\n",
    "df2.append             df2.combine_first\n",
    "df2.apply              df2.consolidate\n",
    "df2.applymap\n",
    "df2.D"
   ]
  },
  {
   "cell_type": "code",
   "execution_count": 117,
   "metadata": {},
   "outputs": [
    {
     "data": {
      "text/html": [
       "<div>\n",
       "<style scoped>\n",
       "    .dataframe tbody tr th:only-of-type {\n",
       "        vertical-align: middle;\n",
       "    }\n",
       "\n",
       "    .dataframe tbody tr th {\n",
       "        vertical-align: top;\n",
       "    }\n",
       "\n",
       "    .dataframe thead th {\n",
       "        text-align: right;\n",
       "    }\n",
       "</style>\n",
       "<table border=\"1\" class=\"dataframe\">\n",
       "  <thead>\n",
       "    <tr style=\"text-align: right;\">\n",
       "      <th></th>\n",
       "      <th>A</th>\n",
       "      <th>B</th>\n",
       "      <th>C</th>\n",
       "      <th>D</th>\n",
       "    </tr>\n",
       "  </thead>\n",
       "  <tbody>\n",
       "    <tr>\n",
       "      <th>0</th>\n",
       "      <td>-1.756750</td>\n",
       "      <td>-0.775465</td>\n",
       "      <td>0.198924</td>\n",
       "      <td>-1.478784</td>\n",
       "    </tr>\n",
       "    <tr>\n",
       "      <th>1</th>\n",
       "      <td>1.374600</td>\n",
       "      <td>0.966752</td>\n",
       "      <td>0.472152</td>\n",
       "      <td>-0.947068</td>\n",
       "    </tr>\n",
       "    <tr>\n",
       "      <th>2</th>\n",
       "      <td>0.747595</td>\n",
       "      <td>0.766669</td>\n",
       "      <td>0.741266</td>\n",
       "      <td>-0.685874</td>\n",
       "    </tr>\n",
       "    <tr>\n",
       "      <th>3</th>\n",
       "      <td>-0.857149</td>\n",
       "      <td>0.973666</td>\n",
       "      <td>0.970833</td>\n",
       "      <td>0.619792</td>\n",
       "    </tr>\n",
       "    <tr>\n",
       "      <th>4</th>\n",
       "      <td>1.042753</td>\n",
       "      <td>0.087664</td>\n",
       "      <td>0.128215</td>\n",
       "      <td>-0.192963</td>\n",
       "    </tr>\n",
       "  </tbody>\n",
       "</table>\n",
       "</div>"
      ],
      "text/plain": [
       "          A         B         C         D\n",
       "0 -1.756750 -0.775465  0.198924 -1.478784\n",
       "1  1.374600  0.966752  0.472152 -0.947068\n",
       "2  0.747595  0.766669  0.741266 -0.685874\n",
       "3 -0.857149  0.973666  0.970833  0.619792\n",
       "4  1.042753  0.087664  0.128215 -0.192963"
      ]
     },
     "execution_count": 117,
     "metadata": {},
     "output_type": "execute_result"
    }
   ],
   "source": [
    "df_main.head()"
   ]
  },
  {
   "cell_type": "code",
   "execution_count": 118,
   "metadata": {},
   "outputs": [
    {
     "data": {
      "text/html": [
       "<div>\n",
       "<style scoped>\n",
       "    .dataframe tbody tr th:only-of-type {\n",
       "        vertical-align: middle;\n",
       "    }\n",
       "\n",
       "    .dataframe tbody tr th {\n",
       "        vertical-align: top;\n",
       "    }\n",
       "\n",
       "    .dataframe thead th {\n",
       "        text-align: right;\n",
       "    }\n",
       "</style>\n",
       "<table border=\"1\" class=\"dataframe\">\n",
       "  <thead>\n",
       "    <tr style=\"text-align: right;\">\n",
       "      <th></th>\n",
       "      <th>A</th>\n",
       "      <th>B</th>\n",
       "      <th>C</th>\n",
       "      <th>D</th>\n",
       "    </tr>\n",
       "  </thead>\n",
       "  <tbody>\n",
       "    <tr>\n",
       "      <th>5</th>\n",
       "      <td>0.082988</td>\n",
       "      <td>1.834174</td>\n",
       "      <td>0.930885</td>\n",
       "      <td>0.141114</td>\n",
       "    </tr>\n",
       "    <tr>\n",
       "      <th>6</th>\n",
       "      <td>-1.148478</td>\n",
       "      <td>-2.852697</td>\n",
       "      <td>1.100225</td>\n",
       "      <td>-0.844981</td>\n",
       "    </tr>\n",
       "    <tr>\n",
       "      <th>7</th>\n",
       "      <td>-0.782858</td>\n",
       "      <td>-1.609728</td>\n",
       "      <td>-0.824325</td>\n",
       "      <td>-0.574931</td>\n",
       "    </tr>\n",
       "    <tr>\n",
       "      <th>8</th>\n",
       "      <td>0.758585</td>\n",
       "      <td>0.124272</td>\n",
       "      <td>-0.066394</td>\n",
       "      <td>0.727096</td>\n",
       "    </tr>\n",
       "    <tr>\n",
       "      <th>9</th>\n",
       "      <td>1.501636</td>\n",
       "      <td>-0.250793</td>\n",
       "      <td>1.203646</td>\n",
       "      <td>0.274656</td>\n",
       "    </tr>\n",
       "  </tbody>\n",
       "</table>\n",
       "</div>"
      ],
      "text/plain": [
       "          A         B         C         D\n",
       "5  0.082988  1.834174  0.930885  0.141114\n",
       "6 -1.148478 -2.852697  1.100225 -0.844981\n",
       "7 -0.782858 -1.609728 -0.824325 -0.574931\n",
       "8  0.758585  0.124272 -0.066394  0.727096\n",
       "9  1.501636 -0.250793  1.203646  0.274656"
      ]
     },
     "execution_count": 118,
     "metadata": {},
     "output_type": "execute_result"
    }
   ],
   "source": [
    "df_main.tail()"
   ]
  },
  {
   "cell_type": "code",
   "execution_count": 119,
   "metadata": {},
   "outputs": [
    {
     "data": {
      "text/plain": [
       "RangeIndex(start=0, stop=10, step=1)"
      ]
     },
     "execution_count": 119,
     "metadata": {},
     "output_type": "execute_result"
    }
   ],
   "source": [
    "df_main.index"
   ]
  },
  {
   "cell_type": "code",
   "execution_count": 120,
   "metadata": {},
   "outputs": [
    {
     "data": {
      "text/plain": [
       "DatetimeIndex(['2020-03-01', '2020-03-02', '2020-03-03', '2020-03-04',\n",
       "               '2020-03-05', '2020-03-06', '2020-03-07', '2020-03-08',\n",
       "               '2020-03-09', '2020-03-10'],\n",
       "              dtype='datetime64[ns]', freq='D')"
      ]
     },
     "execution_count": 120,
     "metadata": {},
     "output_type": "execute_result"
    }
   ],
   "source": [
    "df1.index"
   ]
  },
  {
   "cell_type": "code",
   "execution_count": 121,
   "metadata": {},
   "outputs": [
    {
     "data": {
      "text/plain": [
       "array([[-1.75675031, -0.7754646 ,  0.19892373, -1.47878397],\n",
       "       [ 1.37460006,  0.96675205,  0.47215205, -0.9470685 ],\n",
       "       [ 0.7475955 ,  0.76666936,  0.74126647, -0.68587419],\n",
       "       [-0.85714925,  0.97366584,  0.97083331,  0.61979171],\n",
       "       [ 1.04275307,  0.08766386,  0.12821488, -0.19296306],\n",
       "       [ 0.08298832,  1.83417393,  0.93088528,  0.14111373],\n",
       "       [-1.14847837, -2.85269713,  1.10022544, -0.844981  ],\n",
       "       [-0.78285812, -1.60972782, -0.82432482, -0.57493079],\n",
       "       [ 0.7585853 ,  0.12427236, -0.06639427,  0.72709635],\n",
       "       [ 1.5016355 , -0.25079272,  1.20364553,  0.27465624]])"
      ]
     },
     "execution_count": 121,
     "metadata": {},
     "output_type": "execute_result"
    }
   ],
   "source": [
    "#: NumPy arrays have one dtype for the entire array, while pandas DataFrames have one dtype per column\n",
    "df_main.to_numpy()"
   ]
  },
  {
   "cell_type": "code",
   "execution_count": 122,
   "metadata": {},
   "outputs": [
    {
     "data": {
      "text/html": [
       "<div>\n",
       "<style scoped>\n",
       "    .dataframe tbody tr th:only-of-type {\n",
       "        vertical-align: middle;\n",
       "    }\n",
       "\n",
       "    .dataframe tbody tr th {\n",
       "        vertical-align: top;\n",
       "    }\n",
       "\n",
       "    .dataframe thead th {\n",
       "        text-align: right;\n",
       "    }\n",
       "</style>\n",
       "<table border=\"1\" class=\"dataframe\">\n",
       "  <thead>\n",
       "    <tr style=\"text-align: right;\">\n",
       "      <th></th>\n",
       "      <th>A</th>\n",
       "      <th>B</th>\n",
       "      <th>C</th>\n",
       "      <th>D</th>\n",
       "    </tr>\n",
       "  </thead>\n",
       "  <tbody>\n",
       "    <tr>\n",
       "      <th>count</th>\n",
       "      <td>10.000000</td>\n",
       "      <td>10.000000</td>\n",
       "      <td>10.000000</td>\n",
       "      <td>10.000000</td>\n",
       "    </tr>\n",
       "    <tr>\n",
       "      <th>mean</th>\n",
       "      <td>0.096292</td>\n",
       "      <td>-0.073548</td>\n",
       "      <td>0.485543</td>\n",
       "      <td>-0.296194</td>\n",
       "    </tr>\n",
       "    <tr>\n",
       "      <th>std</th>\n",
       "      <td>1.156289</td>\n",
       "      <td>1.382309</td>\n",
       "      <td>0.634485</td>\n",
       "      <td>0.727766</td>\n",
       "    </tr>\n",
       "    <tr>\n",
       "      <th>min</th>\n",
       "      <td>-1.756750</td>\n",
       "      <td>-2.852697</td>\n",
       "      <td>-0.824325</td>\n",
       "      <td>-1.478784</td>\n",
       "    </tr>\n",
       "    <tr>\n",
       "      <th>25%</th>\n",
       "      <td>-0.838576</td>\n",
       "      <td>-0.644297</td>\n",
       "      <td>0.145892</td>\n",
       "      <td>-0.805204</td>\n",
       "    </tr>\n",
       "    <tr>\n",
       "      <th>50%</th>\n",
       "      <td>0.415292</td>\n",
       "      <td>0.105968</td>\n",
       "      <td>0.606709</td>\n",
       "      <td>-0.383947</td>\n",
       "    </tr>\n",
       "    <tr>\n",
       "      <th>75%</th>\n",
       "      <td>0.971711</td>\n",
       "      <td>0.916731</td>\n",
       "      <td>0.960846</td>\n",
       "      <td>0.241271</td>\n",
       "    </tr>\n",
       "    <tr>\n",
       "      <th>max</th>\n",
       "      <td>1.501636</td>\n",
       "      <td>1.834174</td>\n",
       "      <td>1.203646</td>\n",
       "      <td>0.727096</td>\n",
       "    </tr>\n",
       "  </tbody>\n",
       "</table>\n",
       "</div>"
      ],
      "text/plain": [
       "               A          B          C          D\n",
       "count  10.000000  10.000000  10.000000  10.000000\n",
       "mean    0.096292  -0.073548   0.485543  -0.296194\n",
       "std     1.156289   1.382309   0.634485   0.727766\n",
       "min    -1.756750  -2.852697  -0.824325  -1.478784\n",
       "25%    -0.838576  -0.644297   0.145892  -0.805204\n",
       "50%     0.415292   0.105968   0.606709  -0.383947\n",
       "75%     0.971711   0.916731   0.960846   0.241271\n",
       "max     1.501636   1.834174   1.203646   0.727096"
      ]
     },
     "execution_count": 122,
     "metadata": {},
     "output_type": "execute_result"
    }
   ],
   "source": [
    "df_main.describe()   #describe() shows a quick statistic summary of your data:"
   ]
  },
  {
   "cell_type": "code",
   "execution_count": 123,
   "metadata": {},
   "outputs": [
    {
     "data": {
      "text/html": [
       "<div>\n",
       "<style scoped>\n",
       "    .dataframe tbody tr th:only-of-type {\n",
       "        vertical-align: middle;\n",
       "    }\n",
       "\n",
       "    .dataframe tbody tr th {\n",
       "        vertical-align: top;\n",
       "    }\n",
       "\n",
       "    .dataframe thead th {\n",
       "        text-align: right;\n",
       "    }\n",
       "</style>\n",
       "<table border=\"1\" class=\"dataframe\">\n",
       "  <thead>\n",
       "    <tr style=\"text-align: right;\">\n",
       "      <th></th>\n",
       "      <th>0</th>\n",
       "      <th>1</th>\n",
       "      <th>2</th>\n",
       "      <th>3</th>\n",
       "      <th>4</th>\n",
       "      <th>5</th>\n",
       "      <th>6</th>\n",
       "      <th>7</th>\n",
       "      <th>8</th>\n",
       "      <th>9</th>\n",
       "    </tr>\n",
       "  </thead>\n",
       "  <tbody>\n",
       "    <tr>\n",
       "      <th>A</th>\n",
       "      <td>-1.756750</td>\n",
       "      <td>1.374600</td>\n",
       "      <td>0.747595</td>\n",
       "      <td>-0.857149</td>\n",
       "      <td>1.042753</td>\n",
       "      <td>0.082988</td>\n",
       "      <td>-1.148478</td>\n",
       "      <td>-0.782858</td>\n",
       "      <td>0.758585</td>\n",
       "      <td>1.501636</td>\n",
       "    </tr>\n",
       "    <tr>\n",
       "      <th>B</th>\n",
       "      <td>-0.775465</td>\n",
       "      <td>0.966752</td>\n",
       "      <td>0.766669</td>\n",
       "      <td>0.973666</td>\n",
       "      <td>0.087664</td>\n",
       "      <td>1.834174</td>\n",
       "      <td>-2.852697</td>\n",
       "      <td>-1.609728</td>\n",
       "      <td>0.124272</td>\n",
       "      <td>-0.250793</td>\n",
       "    </tr>\n",
       "    <tr>\n",
       "      <th>C</th>\n",
       "      <td>0.198924</td>\n",
       "      <td>0.472152</td>\n",
       "      <td>0.741266</td>\n",
       "      <td>0.970833</td>\n",
       "      <td>0.128215</td>\n",
       "      <td>0.930885</td>\n",
       "      <td>1.100225</td>\n",
       "      <td>-0.824325</td>\n",
       "      <td>-0.066394</td>\n",
       "      <td>1.203646</td>\n",
       "    </tr>\n",
       "    <tr>\n",
       "      <th>D</th>\n",
       "      <td>-1.478784</td>\n",
       "      <td>-0.947068</td>\n",
       "      <td>-0.685874</td>\n",
       "      <td>0.619792</td>\n",
       "      <td>-0.192963</td>\n",
       "      <td>0.141114</td>\n",
       "      <td>-0.844981</td>\n",
       "      <td>-0.574931</td>\n",
       "      <td>0.727096</td>\n",
       "      <td>0.274656</td>\n",
       "    </tr>\n",
       "  </tbody>\n",
       "</table>\n",
       "</div>"
      ],
      "text/plain": [
       "          0         1         2         3         4         5         6  \\\n",
       "A -1.756750  1.374600  0.747595 -0.857149  1.042753  0.082988 -1.148478   \n",
       "B -0.775465  0.966752  0.766669  0.973666  0.087664  1.834174 -2.852697   \n",
       "C  0.198924  0.472152  0.741266  0.970833  0.128215  0.930885  1.100225   \n",
       "D -1.478784 -0.947068 -0.685874  0.619792 -0.192963  0.141114 -0.844981   \n",
       "\n",
       "          7         8         9  \n",
       "A -0.782858  0.758585  1.501636  \n",
       "B -1.609728  0.124272 -0.250793  \n",
       "C -0.824325 -0.066394  1.203646  \n",
       "D -0.574931  0.727096  0.274656  "
      ]
     },
     "execution_count": 123,
     "metadata": {},
     "output_type": "execute_result"
    }
   ],
   "source": [
    "df_main.T  # Transposing your data:"
   ]
  },
  {
   "cell_type": "code",
   "execution_count": 124,
   "metadata": {},
   "outputs": [
    {
     "data": {
      "text/html": [
       "<div>\n",
       "<style scoped>\n",
       "    .dataframe tbody tr th:only-of-type {\n",
       "        vertical-align: middle;\n",
       "    }\n",
       "\n",
       "    .dataframe tbody tr th {\n",
       "        vertical-align: top;\n",
       "    }\n",
       "\n",
       "    .dataframe thead th {\n",
       "        text-align: right;\n",
       "    }\n",
       "</style>\n",
       "<table border=\"1\" class=\"dataframe\">\n",
       "  <thead>\n",
       "    <tr style=\"text-align: right;\">\n",
       "      <th></th>\n",
       "      <th>A</th>\n",
       "      <th>B</th>\n",
       "      <th>C</th>\n",
       "      <th>D</th>\n",
       "    </tr>\n",
       "  </thead>\n",
       "  <tbody>\n",
       "    <tr>\n",
       "      <th>9</th>\n",
       "      <td>1.501636</td>\n",
       "      <td>-0.250793</td>\n",
       "      <td>1.203646</td>\n",
       "      <td>0.274656</td>\n",
       "    </tr>\n",
       "    <tr>\n",
       "      <th>8</th>\n",
       "      <td>0.758585</td>\n",
       "      <td>0.124272</td>\n",
       "      <td>-0.066394</td>\n",
       "      <td>0.727096</td>\n",
       "    </tr>\n",
       "    <tr>\n",
       "      <th>7</th>\n",
       "      <td>-0.782858</td>\n",
       "      <td>-1.609728</td>\n",
       "      <td>-0.824325</td>\n",
       "      <td>-0.574931</td>\n",
       "    </tr>\n",
       "    <tr>\n",
       "      <th>6</th>\n",
       "      <td>-1.148478</td>\n",
       "      <td>-2.852697</td>\n",
       "      <td>1.100225</td>\n",
       "      <td>-0.844981</td>\n",
       "    </tr>\n",
       "    <tr>\n",
       "      <th>5</th>\n",
       "      <td>0.082988</td>\n",
       "      <td>1.834174</td>\n",
       "      <td>0.930885</td>\n",
       "      <td>0.141114</td>\n",
       "    </tr>\n",
       "    <tr>\n",
       "      <th>4</th>\n",
       "      <td>1.042753</td>\n",
       "      <td>0.087664</td>\n",
       "      <td>0.128215</td>\n",
       "      <td>-0.192963</td>\n",
       "    </tr>\n",
       "    <tr>\n",
       "      <th>3</th>\n",
       "      <td>-0.857149</td>\n",
       "      <td>0.973666</td>\n",
       "      <td>0.970833</td>\n",
       "      <td>0.619792</td>\n",
       "    </tr>\n",
       "    <tr>\n",
       "      <th>2</th>\n",
       "      <td>0.747595</td>\n",
       "      <td>0.766669</td>\n",
       "      <td>0.741266</td>\n",
       "      <td>-0.685874</td>\n",
       "    </tr>\n",
       "    <tr>\n",
       "      <th>1</th>\n",
       "      <td>1.374600</td>\n",
       "      <td>0.966752</td>\n",
       "      <td>0.472152</td>\n",
       "      <td>-0.947068</td>\n",
       "    </tr>\n",
       "    <tr>\n",
       "      <th>0</th>\n",
       "      <td>-1.756750</td>\n",
       "      <td>-0.775465</td>\n",
       "      <td>0.198924</td>\n",
       "      <td>-1.478784</td>\n",
       "    </tr>\n",
       "  </tbody>\n",
       "</table>\n",
       "</div>"
      ],
      "text/plain": [
       "          A         B         C         D\n",
       "9  1.501636 -0.250793  1.203646  0.274656\n",
       "8  0.758585  0.124272 -0.066394  0.727096\n",
       "7 -0.782858 -1.609728 -0.824325 -0.574931\n",
       "6 -1.148478 -2.852697  1.100225 -0.844981\n",
       "5  0.082988  1.834174  0.930885  0.141114\n",
       "4  1.042753  0.087664  0.128215 -0.192963\n",
       "3 -0.857149  0.973666  0.970833  0.619792\n",
       "2  0.747595  0.766669  0.741266 -0.685874\n",
       "1  1.374600  0.966752  0.472152 -0.947068\n",
       "0 -1.756750 -0.775465  0.198924 -1.478784"
      ]
     },
     "execution_count": 124,
     "metadata": {},
     "output_type": "execute_result"
    }
   ],
   "source": [
    "df_main.sort_index(axis=0, ascending=False)   #Sorting by an axis:"
   ]
  },
  {
   "cell_type": "code",
   "execution_count": 125,
   "metadata": {},
   "outputs": [
    {
     "data": {
      "text/html": [
       "<div>\n",
       "<style scoped>\n",
       "    .dataframe tbody tr th:only-of-type {\n",
       "        vertical-align: middle;\n",
       "    }\n",
       "\n",
       "    .dataframe tbody tr th {\n",
       "        vertical-align: top;\n",
       "    }\n",
       "\n",
       "    .dataframe thead th {\n",
       "        text-align: right;\n",
       "    }\n",
       "</style>\n",
       "<table border=\"1\" class=\"dataframe\">\n",
       "  <thead>\n",
       "    <tr style=\"text-align: right;\">\n",
       "      <th></th>\n",
       "      <th>A</th>\n",
       "      <th>B</th>\n",
       "      <th>C</th>\n",
       "      <th>D</th>\n",
       "    </tr>\n",
       "  </thead>\n",
       "  <tbody>\n",
       "    <tr>\n",
       "      <th>0</th>\n",
       "      <td>-1.756750</td>\n",
       "      <td>-0.775465</td>\n",
       "      <td>0.198924</td>\n",
       "      <td>-1.478784</td>\n",
       "    </tr>\n",
       "    <tr>\n",
       "      <th>6</th>\n",
       "      <td>-1.148478</td>\n",
       "      <td>-2.852697</td>\n",
       "      <td>1.100225</td>\n",
       "      <td>-0.844981</td>\n",
       "    </tr>\n",
       "    <tr>\n",
       "      <th>3</th>\n",
       "      <td>-0.857149</td>\n",
       "      <td>0.973666</td>\n",
       "      <td>0.970833</td>\n",
       "      <td>0.619792</td>\n",
       "    </tr>\n",
       "    <tr>\n",
       "      <th>7</th>\n",
       "      <td>-0.782858</td>\n",
       "      <td>-1.609728</td>\n",
       "      <td>-0.824325</td>\n",
       "      <td>-0.574931</td>\n",
       "    </tr>\n",
       "    <tr>\n",
       "      <th>5</th>\n",
       "      <td>0.082988</td>\n",
       "      <td>1.834174</td>\n",
       "      <td>0.930885</td>\n",
       "      <td>0.141114</td>\n",
       "    </tr>\n",
       "    <tr>\n",
       "      <th>2</th>\n",
       "      <td>0.747595</td>\n",
       "      <td>0.766669</td>\n",
       "      <td>0.741266</td>\n",
       "      <td>-0.685874</td>\n",
       "    </tr>\n",
       "    <tr>\n",
       "      <th>8</th>\n",
       "      <td>0.758585</td>\n",
       "      <td>0.124272</td>\n",
       "      <td>-0.066394</td>\n",
       "      <td>0.727096</td>\n",
       "    </tr>\n",
       "    <tr>\n",
       "      <th>4</th>\n",
       "      <td>1.042753</td>\n",
       "      <td>0.087664</td>\n",
       "      <td>0.128215</td>\n",
       "      <td>-0.192963</td>\n",
       "    </tr>\n",
       "    <tr>\n",
       "      <th>1</th>\n",
       "      <td>1.374600</td>\n",
       "      <td>0.966752</td>\n",
       "      <td>0.472152</td>\n",
       "      <td>-0.947068</td>\n",
       "    </tr>\n",
       "    <tr>\n",
       "      <th>9</th>\n",
       "      <td>1.501636</td>\n",
       "      <td>-0.250793</td>\n",
       "      <td>1.203646</td>\n",
       "      <td>0.274656</td>\n",
       "    </tr>\n",
       "  </tbody>\n",
       "</table>\n",
       "</div>"
      ],
      "text/plain": [
       "          A         B         C         D\n",
       "0 -1.756750 -0.775465  0.198924 -1.478784\n",
       "6 -1.148478 -2.852697  1.100225 -0.844981\n",
       "3 -0.857149  0.973666  0.970833  0.619792\n",
       "7 -0.782858 -1.609728 -0.824325 -0.574931\n",
       "5  0.082988  1.834174  0.930885  0.141114\n",
       "2  0.747595  0.766669  0.741266 -0.685874\n",
       "8  0.758585  0.124272 -0.066394  0.727096\n",
       "4  1.042753  0.087664  0.128215 -0.192963\n",
       "1  1.374600  0.966752  0.472152 -0.947068\n",
       "9  1.501636 -0.250793  1.203646  0.274656"
      ]
     },
     "execution_count": 125,
     "metadata": {},
     "output_type": "execute_result"
    }
   ],
   "source": [
    "df_main.sort_values(by='A')  #Sorting by values:"
   ]
  },
  {
   "cell_type": "markdown",
   "metadata": {},
   "source": [
    "# selection"
   ]
  },
  {
   "cell_type": "code",
   "execution_count": null,
   "metadata": {},
   "outputs": [],
   "source": [
    "#See the indexing documentation Indexing and Selecting Data and MultiIndex / Advanced Indexing.\n",
    "\n"
   ]
  },
  {
   "cell_type": "code",
   "execution_count": 126,
   "metadata": {},
   "outputs": [
    {
     "data": {
      "text/plain": [
       "0   -1.756750\n",
       "1    1.374600\n",
       "2    0.747595\n",
       "3   -0.857149\n",
       "4    1.042753\n",
       "5    0.082988\n",
       "6   -1.148478\n",
       "7   -0.782858\n",
       "8    0.758585\n",
       "9    1.501636\n",
       "Name: A, dtype: float64"
      ]
     },
     "execution_count": 126,
     "metadata": {},
     "output_type": "execute_result"
    }
   ],
   "source": [
    " df_main['A']"
   ]
  },
  {
   "cell_type": "code",
   "execution_count": 127,
   "metadata": {},
   "outputs": [
    {
     "data": {
      "text/html": [
       "<div>\n",
       "<style scoped>\n",
       "    .dataframe tbody tr th:only-of-type {\n",
       "        vertical-align: middle;\n",
       "    }\n",
       "\n",
       "    .dataframe tbody tr th {\n",
       "        vertical-align: top;\n",
       "    }\n",
       "\n",
       "    .dataframe thead th {\n",
       "        text-align: right;\n",
       "    }\n",
       "</style>\n",
       "<table border=\"1\" class=\"dataframe\">\n",
       "  <thead>\n",
       "    <tr style=\"text-align: right;\">\n",
       "      <th></th>\n",
       "      <th>A</th>\n",
       "      <th>B</th>\n",
       "      <th>C</th>\n",
       "      <th>D</th>\n",
       "    </tr>\n",
       "  </thead>\n",
       "  <tbody>\n",
       "    <tr>\n",
       "      <th>0</th>\n",
       "      <td>-1.756750</td>\n",
       "      <td>-0.775465</td>\n",
       "      <td>0.198924</td>\n",
       "      <td>-1.478784</td>\n",
       "    </tr>\n",
       "    <tr>\n",
       "      <th>1</th>\n",
       "      <td>1.374600</td>\n",
       "      <td>0.966752</td>\n",
       "      <td>0.472152</td>\n",
       "      <td>-0.947068</td>\n",
       "    </tr>\n",
       "    <tr>\n",
       "      <th>2</th>\n",
       "      <td>0.747595</td>\n",
       "      <td>0.766669</td>\n",
       "      <td>0.741266</td>\n",
       "      <td>-0.685874</td>\n",
       "    </tr>\n",
       "  </tbody>\n",
       "</table>\n",
       "</div>"
      ],
      "text/plain": [
       "          A         B         C         D\n",
       "0 -1.756750 -0.775465  0.198924 -1.478784\n",
       "1  1.374600  0.966752  0.472152 -0.947068\n",
       "2  0.747595  0.766669  0.741266 -0.685874"
      ]
     },
     "execution_count": 127,
     "metadata": {},
     "output_type": "execute_result"
    }
   ],
   "source": [
    "df_main[0:3]"
   ]
  },
  {
   "cell_type": "code",
   "execution_count": 86,
   "metadata": {},
   "outputs": [
    {
     "data": {
      "text/plain": [
       "[0, 1, 2, 3, 4, 5, 6, 7, 8, 9]"
      ]
     },
     "execution_count": 86,
     "metadata": {},
     "output_type": "execute_result"
    }
   ],
   "source": [
    "ss=[i for i in range(10)]\n",
    "ss"
   ]
  },
  {
   "cell_type": "markdown",
   "metadata": {},
   "source": [
    "#Selection by label¶"
   ]
  },
  {
   "cell_type": "code",
   "execution_count": 83,
   "metadata": {},
   "outputs": [
    {
     "data": {
      "text/plain": [
       "A    0.645694\n",
       "B    0.737903\n",
       "C    0.244867\n",
       "D   -0.875661\n",
       "Name: 0, dtype: float64"
      ]
     },
     "execution_count": 83,
     "metadata": {},
     "output_type": "execute_result"
    }
   ],
   "source": [
    "s= pd.Series([i for i in range(10)])\n",
    "df_with_outindex.loc[s[0]]"
   ]
  },
  {
   "cell_type": "markdown",
   "metadata": {},
   "source": [
    "# Selecting on a multi-axis by label:"
   ]
  },
  {
   "cell_type": "code",
   "execution_count": 98,
   "metadata": {},
   "outputs": [
    {
     "name": "stdout",
     "output_type": "stream",
     "text": [
      "                   A         B         C\n",
      "2020-03-01  0.604836 -2.231294 -0.121552\n",
      "2020-03-02  0.964402  0.426059 -1.012463\n",
      "2020-03-03 -0.808687 -0.047743  2.084764\n",
      "2020-03-04 -0.008034  0.711334  1.121357\n"
     ]
    }
   ],
   "source": [
    "df3=df_withindex.loc[d[0]:d[3], ['A', 'B','C']]\n",
    "print(df3)"
   ]
  },
  {
   "cell_type": "code",
   "execution_count": 94,
   "metadata": {},
   "outputs": [
    {
     "data": {
      "text/plain": [
       "{'A': {Timestamp('2020-03-01 00:00:00', freq='D'): 0.6048357913725693,\n",
       "  Timestamp('2020-03-02 00:00:00', freq='D'): 0.964402237483277,\n",
       "  Timestamp('2020-03-03 00:00:00', freq='D'): -0.8086874881872732},\n",
       " 'B': {Timestamp('2020-03-01 00:00:00', freq='D'): -2.2312944930208003,\n",
       "  Timestamp('2020-03-02 00:00:00', freq='D'): 0.42605902657404504,\n",
       "  Timestamp('2020-03-03 00:00:00', freq='D'): -0.047743182104786015},\n",
       " 'C': {Timestamp('2020-03-01 00:00:00', freq='D'): -0.12155188923801999,\n",
       "  Timestamp('2020-03-02 00:00:00', freq='D'): -1.0124630209020802,\n",
       "  Timestamp('2020-03-03 00:00:00', freq='D'): 2.0847644596210038}}"
      ]
     },
     "execution_count": 94,
     "metadata": {},
     "output_type": "execute_result"
    }
   ],
   "source": [
    "df3.to_dict()"
   ]
  },
  {
   "cell_type": "markdown",
   "metadata": {},
   "source": [
    "# Selection by position"
   ]
  },
  {
   "cell_type": "code",
   "execution_count": 103,
   "metadata": {},
   "outputs": [
    {
     "data": {
      "text/plain": [
       "A   -0.008034\n",
       "B    0.711334\n",
       "C    1.121357\n",
       "Name: 2020-03-04 00:00:00, dtype: float64"
      ]
     },
     "execution_count": 103,
     "metadata": {},
     "output_type": "execute_result"
    }
   ],
   "source": [
    "df3.iloc[3]"
   ]
  },
  {
   "cell_type": "code",
   "execution_count": 108,
   "metadata": {},
   "outputs": [
    {
     "data": {
      "text/plain": [
       "-0.008033632935722209"
      ]
     },
     "execution_count": 108,
     "metadata": {},
     "output_type": "execute_result"
    }
   ],
   "source": [
    "df3.iloc[3]['A']  # row then column"
   ]
  },
  {
   "cell_type": "code",
   "execution_count": 111,
   "metadata": {},
   "outputs": [
    {
     "data": {
      "text/html": [
       "<div>\n",
       "<style scoped>\n",
       "    .dataframe tbody tr th:only-of-type {\n",
       "        vertical-align: middle;\n",
       "    }\n",
       "\n",
       "    .dataframe tbody tr th {\n",
       "        vertical-align: top;\n",
       "    }\n",
       "\n",
       "    .dataframe thead th {\n",
       "        text-align: right;\n",
       "    }\n",
       "</style>\n",
       "<table border=\"1\" class=\"dataframe\">\n",
       "  <thead>\n",
       "    <tr style=\"text-align: right;\">\n",
       "      <th></th>\n",
       "      <th>A</th>\n",
       "    </tr>\n",
       "  </thead>\n",
       "  <tbody>\n",
       "    <tr>\n",
       "      <th>2020-03-01</th>\n",
       "      <td>0.604836</td>\n",
       "    </tr>\n",
       "    <tr>\n",
       "      <th>2020-03-02</th>\n",
       "      <td>0.964402</td>\n",
       "    </tr>\n",
       "    <tr>\n",
       "      <th>2020-03-03</th>\n",
       "      <td>-0.808687</td>\n",
       "    </tr>\n",
       "  </tbody>\n",
       "</table>\n",
       "</div>"
      ],
      "text/plain": [
       "                   A\n",
       "2020-03-01  0.604836\n",
       "2020-03-02  0.964402\n",
       "2020-03-03 -0.808687"
      ]
     },
     "execution_count": 111,
     "metadata": {},
     "output_type": "execute_result"
    }
   ],
   "source": [
    " df3.iloc[0:3,0:1]"
   ]
  },
  {
   "cell_type": "code",
   "execution_count": null,
   "metadata": {},
   "outputs": [],
   "source": []
  }
 ],
 "metadata": {
  "kernelspec": {
   "display_name": "Python 3",
   "language": "python",
   "name": "python3"
  },
  "language_info": {
   "codemirror_mode": {
    "name": "ipython",
    "version": 3
   },
   "file_extension": ".py",
   "mimetype": "text/x-python",
   "name": "python",
   "nbconvert_exporter": "python",
   "pygments_lexer": "ipython3",
   "version": "3.6.8"
  }
 },
 "nbformat": 4,
 "nbformat_minor": 2
}
